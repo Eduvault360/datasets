{
 "cells": [
  {
   "cell_type": "code",
   "execution_count": 1,
   "id": "fc090baa",
   "metadata": {
    "execution": {
     "iopub.execute_input": "2024-11-20T11:55:07.722489Z",
     "iopub.status.busy": "2024-11-20T11:55:07.722075Z",
     "iopub.status.idle": "2024-11-20T11:55:16.139038Z",
     "shell.execute_reply": "2024-11-20T11:55:16.138016Z"
    },
    "papermill": {
     "duration": 8.433156,
     "end_time": "2024-11-20T11:55:16.141388",
     "exception": false,
     "start_time": "2024-11-20T11:55:07.708232",
     "status": "completed"
    },
    "tags": []
   },
   "outputs": [],
   "source": [
    "# import libraries\n",
    "import pandas as pd \n",
    "import numpy as np\n",
    "import matplotlib.pyplot as plt\n",
    "import seaborn as sns\n",
    "import nltk\n",
    "import re\n",
    "from nltk.corpus import stopwords\n",
    "import spacy\n",
    "\n"
   ]
  },
  {
   "cell_type": "code",
   "execution_count": 2,
   "id": "733de08e",
   "metadata": {
    "execution": {
     "iopub.execute_input": "2024-11-20T11:55:16.166845Z",
     "iopub.status.busy": "2024-11-20T11:55:16.166324Z",
     "iopub.status.idle": "2024-11-20T11:55:16.171159Z",
     "shell.execute_reply": "2024-11-20T11:55:16.170081Z"
    },
    "papermill": {
     "duration": 0.019856,
     "end_time": "2024-11-20T11:55:16.173307",
     "exception": false,
     "start_time": "2024-11-20T11:55:16.153451",
     "status": "completed"
    },
    "tags": []
   },
   "outputs": [],
   "source": [
    "# To ignore warinings\n",
    "import warnings\n",
    "warnings.filterwarnings('ignore')"
   ]
  },
  {
   "cell_type": "code",
   "execution_count": 3,
   "id": "6b9e3947",
   "metadata": {
    "execution": {
     "iopub.execute_input": "2024-11-20T11:55:16.199736Z",
     "iopub.status.busy": "2024-11-20T11:55:16.198809Z",
     "iopub.status.idle": "2024-11-20T11:55:16.242918Z",
     "shell.execute_reply": "2024-11-20T11:55:16.241810Z"
    },
    "papermill": {
     "duration": 0.060342,
     "end_time": "2024-11-20T11:55:16.245351",
     "exception": false,
     "start_time": "2024-11-20T11:55:16.185009",
     "status": "completed"
    },
    "tags": []
   },
   "outputs": [],
   "source": [
    "tickets_df = pd.read_csv('/kaggle/input/multilingual-customer-support-tickets/helpdesk_customer_tickets.csv')"
   ]
  },
  {
   "cell_type": "code",
   "execution_count": 4,
   "id": "a95b4cd1",
   "metadata": {
    "execution": {
     "iopub.execute_input": "2024-11-20T11:55:16.270578Z",
     "iopub.status.busy": "2024-11-20T11:55:16.270182Z",
     "iopub.status.idle": "2024-11-20T11:55:16.306415Z",
     "shell.execute_reply": "2024-11-20T11:55:16.305388Z"
    },
    "papermill": {
     "duration": 0.051996,
     "end_time": "2024-11-20T11:55:16.309125",
     "exception": false,
     "start_time": "2024-11-20T11:55:16.257129",
     "status": "completed"
    },
    "tags": []
   },
   "outputs": [
    {
     "data": {
      "text/html": [
       "<div>\n",
       "<style scoped>\n",
       "    .dataframe tbody tr th:only-of-type {\n",
       "        vertical-align: middle;\n",
       "    }\n",
       "\n",
       "    .dataframe tbody tr th {\n",
       "        vertical-align: top;\n",
       "    }\n",
       "\n",
       "    .dataframe thead th {\n",
       "        text-align: right;\n",
       "    }\n",
       "</style>\n",
       "<table border=\"1\" class=\"dataframe\">\n",
       "  <thead>\n",
       "    <tr style=\"text-align: right;\">\n",
       "      <th></th>\n",
       "      <th>id</th>\n",
       "      <th>subject</th>\n",
       "      <th>body</th>\n",
       "      <th>answer</th>\n",
       "      <th>type</th>\n",
       "      <th>queue</th>\n",
       "      <th>priority</th>\n",
       "      <th>language</th>\n",
       "      <th>business_type</th>\n",
       "      <th>tag_1</th>\n",
       "      <th>tag_2</th>\n",
       "      <th>tag_3</th>\n",
       "      <th>tag_4</th>\n",
       "      <th>tag_5</th>\n",
       "      <th>tag_6</th>\n",
       "      <th>tag_7</th>\n",
       "      <th>tag_8</th>\n",
       "      <th>tag_9</th>\n",
       "    </tr>\n",
       "  </thead>\n",
       "  <tbody>\n",
       "    <tr>\n",
       "      <th>0</th>\n",
       "      <td>36</td>\n",
       "      <td>Anfrage zu den Spezifikationen und Anpassungso...</td>\n",
       "      <td>Sehr geehrtes Support-Team des Tech Online Sto...</td>\n",
       "      <td>Sehr geehrter &lt;name&gt;,\\n\\nvielen Dank für Ihr I...</td>\n",
       "      <td>Request</td>\n",
       "      <td>Customer Service</td>\n",
       "      <td>medium</td>\n",
       "      <td>de</td>\n",
       "      <td>Tech Online Store</td>\n",
       "      <td>Product Support</td>\n",
       "      <td>Sales Inquiry</td>\n",
       "      <td>Technical Guidance</td>\n",
       "      <td>General Inquiry</td>\n",
       "      <td>NaN</td>\n",
       "      <td>NaN</td>\n",
       "      <td>NaN</td>\n",
       "      <td>NaN</td>\n",
       "      <td>NaN</td>\n",
       "    </tr>\n",
       "    <tr>\n",
       "      <th>1</th>\n",
       "      <td>39</td>\n",
       "      <td>Déconnexions fréquentes et plantages</td>\n",
       "      <td>Le client signale des déconnexions fréquentes ...</td>\n",
       "      <td>Nous allons enquêter sur le problème avec Zoom...</td>\n",
       "      <td>Incident</td>\n",
       "      <td>Product Support</td>\n",
       "      <td>high</td>\n",
       "      <td>fr</td>\n",
       "      <td>Software Development Company</td>\n",
       "      <td>Technical Support</td>\n",
       "      <td>Software Bug</td>\n",
       "      <td>Service Disruption</td>\n",
       "      <td>System Crash</td>\n",
       "      <td>Problem Resolution</td>\n",
       "      <td>Performance Tuning</td>\n",
       "      <td>NaN</td>\n",
       "      <td>NaN</td>\n",
       "      <td>NaN</td>\n",
       "    </tr>\n",
       "    <tr>\n",
       "      <th>2</th>\n",
       "      <td>243</td>\n",
       "      <td>Problema de sonido Dell XPS</td>\n",
       "      <td>Problema con el sonido, manejando como devoluc...</td>\n",
       "      <td>Gracias por su correo electrónico. Procesaremo...</td>\n",
       "      <td>Problem</td>\n",
       "      <td>Returns and Exchanges</td>\n",
       "      <td>medium</td>\n",
       "      <td>es</td>\n",
       "      <td>Tech Online Store</td>\n",
       "      <td>Returns and Exchanges</td>\n",
       "      <td>Product Support</td>\n",
       "      <td>Customer Service</td>\n",
       "      <td>Refund Request</td>\n",
       "      <td>NaN</td>\n",
       "      <td>NaN</td>\n",
       "      <td>NaN</td>\n",
       "      <td>NaN</td>\n",
       "      <td>NaN</td>\n",
       "    </tr>\n",
       "    <tr>\n",
       "      <th>3</th>\n",
       "      <td>381</td>\n",
       "      <td>Assistance requise pour la configuration du ta...</td>\n",
       "      <td>Cher support client,\\n\\nNotre client, &lt;name&gt;, ...</td>\n",
       "      <td>Cher &lt;name&gt;,\\n\\nMerci de nous avoir contactés....</td>\n",
       "      <td>Request</td>\n",
       "      <td>Product Support</td>\n",
       "      <td>medium</td>\n",
       "      <td>fr</td>\n",
       "      <td>Software Development Company</td>\n",
       "      <td>Technical Support</td>\n",
       "      <td>Product Support</td>\n",
       "      <td>General Inquiry</td>\n",
       "      <td>Problem Resolution</td>\n",
       "      <td>Training Request</td>\n",
       "      <td>NaN</td>\n",
       "      <td>NaN</td>\n",
       "      <td>NaN</td>\n",
       "      <td>NaN</td>\n",
       "    </tr>\n",
       "    <tr>\n",
       "      <th>4</th>\n",
       "      <td>663</td>\n",
       "      <td>Urgente: Assistência Imediata Necessária para ...</td>\n",
       "      <td>Caro Suporte ao Cliente da Firma de Consultori...</td>\n",
       "      <td>Caro Cliente,\\n\\nRecebemos sua solicitação urg...</td>\n",
       "      <td>Incident</td>\n",
       "      <td>Human Resources</td>\n",
       "      <td>medium</td>\n",
       "      <td>pt</td>\n",
       "      <td>IT Consulting Firm</td>\n",
       "      <td>Urgent Issue</td>\n",
       "      <td>Payroll Issue</td>\n",
       "      <td>Technical Support</td>\n",
       "      <td>Service Disruption</td>\n",
       "      <td>Problem Resolution</td>\n",
       "      <td>Account Assistance</td>\n",
       "      <td>NaN</td>\n",
       "      <td>NaN</td>\n",
       "      <td>NaN</td>\n",
       "    </tr>\n",
       "    <tr>\n",
       "      <th>...</th>\n",
       "      <td>...</td>\n",
       "      <td>...</td>\n",
       "      <td>...</td>\n",
       "      <td>...</td>\n",
       "      <td>...</td>\n",
       "      <td>...</td>\n",
       "      <td>...</td>\n",
       "      <td>...</td>\n",
       "      <td>...</td>\n",
       "      <td>...</td>\n",
       "      <td>...</td>\n",
       "      <td>...</td>\n",
       "      <td>...</td>\n",
       "      <td>...</td>\n",
       "      <td>...</td>\n",
       "      <td>...</td>\n",
       "      <td>...</td>\n",
       "      <td>...</td>\n",
       "    </tr>\n",
       "    <tr>\n",
       "      <th>595</th>\n",
       "      <td>99421</td>\n",
       "      <td>Urgente: Problema de Conectividad del Router</td>\n",
       "      <td>Estimado Soporte de Servicios de TI,\\n\\nEstamo...</td>\n",
       "      <td>Estimado &lt;name&gt;,\\n\\nGracias por ponerte en con...</td>\n",
       "      <td>Problem</td>\n",
       "      <td>IT Support</td>\n",
       "      <td>high</td>\n",
       "      <td>es</td>\n",
       "      <td>IT Services</td>\n",
       "      <td>Technical Support</td>\n",
       "      <td>Urgent Issue</td>\n",
       "      <td>Network Issue</td>\n",
       "      <td>Problem Resolution</td>\n",
       "      <td>Service Disruption</td>\n",
       "      <td>IT Support</td>\n",
       "      <td>NaN</td>\n",
       "      <td>NaN</td>\n",
       "      <td>NaN</td>\n",
       "    </tr>\n",
       "    <tr>\n",
       "      <th>596</th>\n",
       "      <td>99513</td>\n",
       "      <td>Necesito ayuda con el despliegue de un nuevo m...</td>\n",
       "      <td>Estimado equipo de soporte de servicios de TI,...</td>\n",
       "      <td>Estimado &lt;name&gt;,\\n\\nGracias por ponerte en con...</td>\n",
       "      <td>Request</td>\n",
       "      <td>Technical Support</td>\n",
       "      <td>medium</td>\n",
       "      <td>es</td>\n",
       "      <td>IT Services</td>\n",
       "      <td>Technical Support</td>\n",
       "      <td>IT Support</td>\n",
       "      <td>Product Support</td>\n",
       "      <td>System Maintenance</td>\n",
       "      <td>Technical Guidance</td>\n",
       "      <td>NaN</td>\n",
       "      <td>NaN</td>\n",
       "      <td>NaN</td>\n",
       "      <td>NaN</td>\n",
       "    </tr>\n",
       "    <tr>\n",
       "      <th>597</th>\n",
       "      <td>99541</td>\n",
       "      <td>Necesito soporte urgente</td>\n",
       "      <td>Estimado soporte al cliente, La pantalla tácti...</td>\n",
       "      <td>Estimado &lt;name&gt;,\\n\\nGracias por ponerte en con...</td>\n",
       "      <td>Problem</td>\n",
       "      <td>Technical Support</td>\n",
       "      <td>high</td>\n",
       "      <td>es</td>\n",
       "      <td>Tech Online Store</td>\n",
       "      <td>Technical Support</td>\n",
       "      <td>Urgent Issue</td>\n",
       "      <td>Hardware Failure</td>\n",
       "      <td>Problem Resolution</td>\n",
       "      <td>Product Support</td>\n",
       "      <td>System Maintenance</td>\n",
       "      <td>NaN</td>\n",
       "      <td>NaN</td>\n",
       "      <td>NaN</td>\n",
       "    </tr>\n",
       "    <tr>\n",
       "      <th>598</th>\n",
       "      <td>99603</td>\n",
       "      <td>Problema de Erro de Servidor</td>\n",
       "      <td>Caro Suporte ao Cliente,\\n\\nNosso Serviço de C...</td>\n",
       "      <td>Caro &lt;name&gt;,\\n\\nObrigado por entrar em contato...</td>\n",
       "      <td>Incident</td>\n",
       "      <td>Service Outages and Maintenance</td>\n",
       "      <td>high</td>\n",
       "      <td>pt</td>\n",
       "      <td>IT Services</td>\n",
       "      <td>Technical Support</td>\n",
       "      <td>IT Support</td>\n",
       "      <td>Service Disruption</td>\n",
       "      <td>System Crash</td>\n",
       "      <td>Problem Resolution</td>\n",
       "      <td>NaN</td>\n",
       "      <td>NaN</td>\n",
       "      <td>NaN</td>\n",
       "      <td>NaN</td>\n",
       "    </tr>\n",
       "    <tr>\n",
       "      <th>599</th>\n",
       "      <td>99709</td>\n",
       "      <td>Wiederholtes Bildschirmflimmern Problem gemeldet</td>\n",
       "      <td>Sehr geehrter Kundenservice, ich schreibe, um ...</td>\n",
       "      <td>Sehr geehrter &lt;name&gt;,\\n\\nvielen Dank, dass Sie...</td>\n",
       "      <td>Incident</td>\n",
       "      <td>Product Support</td>\n",
       "      <td>medium</td>\n",
       "      <td>de</td>\n",
       "      <td>Tech Online Store</td>\n",
       "      <td>Technical Support</td>\n",
       "      <td>Product Support</td>\n",
       "      <td>Hardware Failure</td>\n",
       "      <td>Problem Resolution</td>\n",
       "      <td>Service Recovery</td>\n",
       "      <td>Returns and Exchanges</td>\n",
       "      <td>NaN</td>\n",
       "      <td>NaN</td>\n",
       "      <td>NaN</td>\n",
       "    </tr>\n",
       "  </tbody>\n",
       "</table>\n",
       "<p>600 rows × 18 columns</p>\n",
       "</div>"
      ],
      "text/plain": [
       "        id                                            subject  \\\n",
       "0       36  Anfrage zu den Spezifikationen und Anpassungso...   \n",
       "1       39               Déconnexions fréquentes et plantages   \n",
       "2      243                        Problema de sonido Dell XPS   \n",
       "3      381  Assistance requise pour la configuration du ta...   \n",
       "4      663  Urgente: Assistência Imediata Necessária para ...   \n",
       "..     ...                                                ...   \n",
       "595  99421       Urgente: Problema de Conectividad del Router   \n",
       "596  99513  Necesito ayuda con el despliegue de un nuevo m...   \n",
       "597  99541                           Necesito soporte urgente   \n",
       "598  99603                       Problema de Erro de Servidor   \n",
       "599  99709   Wiederholtes Bildschirmflimmern Problem gemeldet   \n",
       "\n",
       "                                                  body  \\\n",
       "0    Sehr geehrtes Support-Team des Tech Online Sto...   \n",
       "1    Le client signale des déconnexions fréquentes ...   \n",
       "2    Problema con el sonido, manejando como devoluc...   \n",
       "3    Cher support client,\\n\\nNotre client, <name>, ...   \n",
       "4    Caro Suporte ao Cliente da Firma de Consultori...   \n",
       "..                                                 ...   \n",
       "595  Estimado Soporte de Servicios de TI,\\n\\nEstamo...   \n",
       "596  Estimado equipo de soporte de servicios de TI,...   \n",
       "597  Estimado soporte al cliente, La pantalla tácti...   \n",
       "598  Caro Suporte ao Cliente,\\n\\nNosso Serviço de C...   \n",
       "599  Sehr geehrter Kundenservice, ich schreibe, um ...   \n",
       "\n",
       "                                                answer      type  \\\n",
       "0    Sehr geehrter <name>,\\n\\nvielen Dank für Ihr I...   Request   \n",
       "1    Nous allons enquêter sur le problème avec Zoom...  Incident   \n",
       "2    Gracias por su correo electrónico. Procesaremo...   Problem   \n",
       "3    Cher <name>,\\n\\nMerci de nous avoir contactés....   Request   \n",
       "4    Caro Cliente,\\n\\nRecebemos sua solicitação urg...  Incident   \n",
       "..                                                 ...       ...   \n",
       "595  Estimado <name>,\\n\\nGracias por ponerte en con...   Problem   \n",
       "596  Estimado <name>,\\n\\nGracias por ponerte en con...   Request   \n",
       "597  Estimado <name>,\\n\\nGracias por ponerte en con...   Problem   \n",
       "598  Caro <name>,\\n\\nObrigado por entrar em contato...  Incident   \n",
       "599  Sehr geehrter <name>,\\n\\nvielen Dank, dass Sie...  Incident   \n",
       "\n",
       "                               queue priority language  \\\n",
       "0                   Customer Service   medium       de   \n",
       "1                    Product Support     high       fr   \n",
       "2              Returns and Exchanges   medium       es   \n",
       "3                    Product Support   medium       fr   \n",
       "4                    Human Resources   medium       pt   \n",
       "..                               ...      ...      ...   \n",
       "595                       IT Support     high       es   \n",
       "596                Technical Support   medium       es   \n",
       "597                Technical Support     high       es   \n",
       "598  Service Outages and Maintenance     high       pt   \n",
       "599                  Product Support   medium       de   \n",
       "\n",
       "                    business_type                  tag_1            tag_2  \\\n",
       "0               Tech Online Store        Product Support    Sales Inquiry   \n",
       "1    Software Development Company      Technical Support     Software Bug   \n",
       "2               Tech Online Store  Returns and Exchanges  Product Support   \n",
       "3    Software Development Company      Technical Support  Product Support   \n",
       "4              IT Consulting Firm           Urgent Issue    Payroll Issue   \n",
       "..                            ...                    ...              ...   \n",
       "595                   IT Services      Technical Support     Urgent Issue   \n",
       "596                   IT Services      Technical Support       IT Support   \n",
       "597             Tech Online Store      Technical Support     Urgent Issue   \n",
       "598                   IT Services      Technical Support       IT Support   \n",
       "599             Tech Online Store      Technical Support  Product Support   \n",
       "\n",
       "                  tag_3               tag_4               tag_5  \\\n",
       "0    Technical Guidance     General Inquiry                 NaN   \n",
       "1    Service Disruption        System Crash  Problem Resolution   \n",
       "2      Customer Service      Refund Request                 NaN   \n",
       "3       General Inquiry  Problem Resolution    Training Request   \n",
       "4     Technical Support  Service Disruption  Problem Resolution   \n",
       "..                  ...                 ...                 ...   \n",
       "595       Network Issue  Problem Resolution  Service Disruption   \n",
       "596     Product Support  System Maintenance  Technical Guidance   \n",
       "597    Hardware Failure  Problem Resolution     Product Support   \n",
       "598  Service Disruption        System Crash  Problem Resolution   \n",
       "599    Hardware Failure  Problem Resolution    Service Recovery   \n",
       "\n",
       "                     tag_6 tag_7 tag_8  tag_9  \n",
       "0                      NaN   NaN   NaN    NaN  \n",
       "1       Performance Tuning   NaN   NaN    NaN  \n",
       "2                      NaN   NaN   NaN    NaN  \n",
       "3                      NaN   NaN   NaN    NaN  \n",
       "4       Account Assistance   NaN   NaN    NaN  \n",
       "..                     ...   ...   ...    ...  \n",
       "595             IT Support   NaN   NaN    NaN  \n",
       "596                    NaN   NaN   NaN    NaN  \n",
       "597     System Maintenance   NaN   NaN    NaN  \n",
       "598                    NaN   NaN   NaN    NaN  \n",
       "599  Returns and Exchanges   NaN   NaN    NaN  \n",
       "\n",
       "[600 rows x 18 columns]"
      ]
     },
     "execution_count": 4,
     "metadata": {},
     "output_type": "execute_result"
    }
   ],
   "source": [
    "tickets_df"
   ]
  },
  {
   "cell_type": "code",
   "execution_count": 5,
   "id": "39115177",
   "metadata": {
    "execution": {
     "iopub.execute_input": "2024-11-20T11:55:16.336066Z",
     "iopub.status.busy": "2024-11-20T11:55:16.335640Z",
     "iopub.status.idle": "2024-11-20T11:55:16.345378Z",
     "shell.execute_reply": "2024-11-20T11:55:16.344233Z"
    },
    "papermill": {
     "duration": 0.025598,
     "end_time": "2024-11-20T11:55:16.347371",
     "exception": false,
     "start_time": "2024-11-20T11:55:16.321773",
     "status": "completed"
    },
    "tags": []
   },
   "outputs": [
    {
     "data": {
      "text/plain": [
       "array(['de', 'fr', 'es', 'pt', 'en'], dtype=object)"
      ]
     },
     "execution_count": 5,
     "metadata": {},
     "output_type": "execute_result"
    }
   ],
   "source": [
    "tickets_df['language'].unique()"
   ]
  },
  {
   "cell_type": "markdown",
   "id": "e4753f59",
   "metadata": {
    "papermill": {
     "duration": 0.012281,
     "end_time": "2024-11-20T11:55:16.372060",
     "exception": false,
     "start_time": "2024-11-20T11:55:16.359779",
     "status": "completed"
    },
    "tags": []
   },
   "source": [
    "### There are five different languages"
   ]
  },
  {
   "cell_type": "code",
   "execution_count": 6,
   "id": "0720ae1e",
   "metadata": {
    "execution": {
     "iopub.execute_input": "2024-11-20T11:55:16.398424Z",
     "iopub.status.busy": "2024-11-20T11:55:16.398093Z",
     "iopub.status.idle": "2024-11-20T11:55:16.405197Z",
     "shell.execute_reply": "2024-11-20T11:55:16.404117Z"
    },
    "papermill": {
     "duration": 0.022754,
     "end_time": "2024-11-20T11:55:16.407204",
     "exception": false,
     "start_time": "2024-11-20T11:55:16.384450",
     "status": "completed"
    },
    "tags": []
   },
   "outputs": [
    {
     "data": {
      "text/plain": [
       "array(['Customer Service', 'Product Support', 'Returns and Exchanges',\n",
       "       'Human Resources', 'Billing and Payments', 'Technical Support',\n",
       "       'IT Support', 'Sales and Pre-Sales', 'General Inquiry',\n",
       "       'Service Outages and Maintenance'], dtype=object)"
      ]
     },
     "execution_count": 6,
     "metadata": {},
     "output_type": "execute_result"
    }
   ],
   "source": [
    "tickets_df['queue'].unique()"
   ]
  },
  {
   "cell_type": "markdown",
   "id": "fa5ac496",
   "metadata": {
    "papermill": {
     "duration": 0.012013,
     "end_time": "2024-11-20T11:55:16.431906",
     "exception": false,
     "start_time": "2024-11-20T11:55:16.419893",
     "status": "completed"
    },
    "tags": []
   },
   "source": [
    "# Data cleaning"
   ]
  },
  {
   "cell_type": "code",
   "execution_count": 7,
   "id": "b259ad9a",
   "metadata": {
    "execution": {
     "iopub.execute_input": "2024-11-20T11:55:16.458318Z",
     "iopub.status.busy": "2024-11-20T11:55:16.457904Z",
     "iopub.status.idle": "2024-11-20T11:55:16.477866Z",
     "shell.execute_reply": "2024-11-20T11:55:16.476656Z"
    },
    "papermill": {
     "duration": 0.035969,
     "end_time": "2024-11-20T11:55:16.480139",
     "exception": false,
     "start_time": "2024-11-20T11:55:16.444170",
     "status": "completed"
    },
    "tags": []
   },
   "outputs": [
    {
     "name": "stdout",
     "output_type": "stream",
     "text": [
      "<class 'pandas.core.frame.DataFrame'>\n",
      "RangeIndex: 600 entries, 0 to 599\n",
      "Data columns (total 18 columns):\n",
      " #   Column         Non-Null Count  Dtype  \n",
      "---  ------         --------------  -----  \n",
      " 0   id             600 non-null    int64  \n",
      " 1   subject        599 non-null    object \n",
      " 2   body           600 non-null    object \n",
      " 3   answer         600 non-null    object \n",
      " 4   type           600 non-null    object \n",
      " 5   queue          600 non-null    object \n",
      " 6   priority       600 non-null    object \n",
      " 7   language       600 non-null    object \n",
      " 8   business_type  600 non-null    object \n",
      " 9   tag_1          600 non-null    object \n",
      " 10  tag_2          600 non-null    object \n",
      " 11  tag_3          600 non-null    object \n",
      " 12  tag_4          600 non-null    object \n",
      " 13  tag_5          432 non-null    object \n",
      " 14  tag_6          173 non-null    object \n",
      " 15  tag_7          56 non-null     object \n",
      " 16  tag_8          9 non-null      object \n",
      " 17  tag_9          0 non-null      float64\n",
      "dtypes: float64(1), int64(1), object(16)\n",
      "memory usage: 84.5+ KB\n"
     ]
    }
   ],
   "source": [
    "tickets_df.info()"
   ]
  },
  {
   "cell_type": "code",
   "execution_count": 8,
   "id": "1a72664a",
   "metadata": {
    "execution": {
     "iopub.execute_input": "2024-11-20T11:55:16.506763Z",
     "iopub.status.busy": "2024-11-20T11:55:16.506379Z",
     "iopub.status.idle": "2024-11-20T11:55:16.522238Z",
     "shell.execute_reply": "2024-11-20T11:55:16.521207Z"
    },
    "papermill": {
     "duration": 0.031933,
     "end_time": "2024-11-20T11:55:16.524490",
     "exception": false,
     "start_time": "2024-11-20T11:55:16.492557",
     "status": "completed"
    },
    "tags": []
   },
   "outputs": [
    {
     "data": {
      "text/html": [
       "<div>\n",
       "<style scoped>\n",
       "    .dataframe tbody tr th:only-of-type {\n",
       "        vertical-align: middle;\n",
       "    }\n",
       "\n",
       "    .dataframe tbody tr th {\n",
       "        vertical-align: top;\n",
       "    }\n",
       "\n",
       "    .dataframe thead th {\n",
       "        text-align: right;\n",
       "    }\n",
       "</style>\n",
       "<table border=\"1\" class=\"dataframe\">\n",
       "  <thead>\n",
       "    <tr style=\"text-align: right;\">\n",
       "      <th></th>\n",
       "      <th>id</th>\n",
       "      <th>subject</th>\n",
       "      <th>body</th>\n",
       "      <th>answer</th>\n",
       "      <th>type</th>\n",
       "      <th>queue</th>\n",
       "      <th>priority</th>\n",
       "      <th>language</th>\n",
       "      <th>business_type</th>\n",
       "      <th>tag_1</th>\n",
       "      <th>tag_2</th>\n",
       "      <th>tag_3</th>\n",
       "      <th>tag_4</th>\n",
       "      <th>tag_5</th>\n",
       "      <th>tag_6</th>\n",
       "      <th>tag_7</th>\n",
       "      <th>tag_8</th>\n",
       "      <th>tag_9</th>\n",
       "    </tr>\n",
       "  </thead>\n",
       "  <tbody>\n",
       "    <tr>\n",
       "      <th>6</th>\n",
       "      <td>717</td>\n",
       "      <td>NaN</td>\n",
       "      <td>Dear Tech Online Store Customer Support,\\n\\nI ...</td>\n",
       "      <td>Dear &lt;name&gt;,\\n\\nThank you for contacting Tech ...</td>\n",
       "      <td>Problem</td>\n",
       "      <td>Returns and Exchanges</td>\n",
       "      <td>low</td>\n",
       "      <td>en</td>\n",
       "      <td>Tech Online Store</td>\n",
       "      <td>Technical Support</td>\n",
       "      <td>Product Support</td>\n",
       "      <td>Returns and Exchanges</td>\n",
       "      <td>Network Issue</td>\n",
       "      <td>Hardware Failure</td>\n",
       "      <td>Problem Resolution</td>\n",
       "      <td>NaN</td>\n",
       "      <td>NaN</td>\n",
       "      <td>NaN</td>\n",
       "    </tr>\n",
       "  </tbody>\n",
       "</table>\n",
       "</div>"
      ],
      "text/plain": [
       "    id subject                                               body  \\\n",
       "6  717     NaN  Dear Tech Online Store Customer Support,\\n\\nI ...   \n",
       "\n",
       "                                              answer     type  \\\n",
       "6  Dear <name>,\\n\\nThank you for contacting Tech ...  Problem   \n",
       "\n",
       "                   queue priority language      business_type  \\\n",
       "6  Returns and Exchanges      low       en  Tech Online Store   \n",
       "\n",
       "               tag_1            tag_2                  tag_3          tag_4  \\\n",
       "6  Technical Support  Product Support  Returns and Exchanges  Network Issue   \n",
       "\n",
       "              tag_5               tag_6 tag_7 tag_8  tag_9  \n",
       "6  Hardware Failure  Problem Resolution   NaN   NaN    NaN  "
      ]
     },
     "execution_count": 8,
     "metadata": {},
     "output_type": "execute_result"
    }
   ],
   "source": [
    "# the types of the columns are correct\n",
    "# we have null in tags and that is ok, as not all tickets can have 9 tags\n",
    "# check 1 null data in the subject, there is just one null data, if needed I will deal with it\n",
    "tickets_df[tickets_df['subject'].isnull()]"
   ]
  },
  {
   "cell_type": "code",
   "execution_count": 9,
   "id": "3de389ef",
   "metadata": {
    "execution": {
     "iopub.execute_input": "2024-11-20T11:55:16.552422Z",
     "iopub.status.busy": "2024-11-20T11:55:16.552061Z",
     "iopub.status.idle": "2024-11-20T11:55:16.558747Z",
     "shell.execute_reply": "2024-11-20T11:55:16.557695Z"
    },
    "papermill": {
     "duration": 0.022677,
     "end_time": "2024-11-20T11:55:16.560752",
     "exception": false,
     "start_time": "2024-11-20T11:55:16.538075",
     "status": "completed"
    },
    "tags": []
   },
   "outputs": [
    {
     "data": {
      "text/plain": [
       "Index(['id', 'subject', 'body', 'answer', 'type', 'queue', 'priority',\n",
       "       'language', 'business_type', 'tag_1', 'tag_2', 'tag_3', 'tag_4',\n",
       "       'tag_5', 'tag_6', 'tag_7', 'tag_8', 'tag_9'],\n",
       "      dtype='object')"
      ]
     },
     "execution_count": 9,
     "metadata": {},
     "output_type": "execute_result"
    }
   ],
   "source": [
    "# checking the columns\n",
    "tickets_df.columns"
   ]
  },
  {
   "cell_type": "code",
   "execution_count": 10,
   "id": "c25c1a47",
   "metadata": {
    "execution": {
     "iopub.execute_input": "2024-11-20T11:55:16.588077Z",
     "iopub.status.busy": "2024-11-20T11:55:16.587686Z",
     "iopub.status.idle": "2024-11-20T11:55:16.597938Z",
     "shell.execute_reply": "2024-11-20T11:55:16.596906Z"
    },
    "papermill": {
     "duration": 0.026085,
     "end_time": "2024-11-20T11:55:16.599921",
     "exception": false,
     "start_time": "2024-11-20T11:55:16.573836",
     "status": "completed"
    },
    "tags": []
   },
   "outputs": [
    {
     "data": {
      "text/plain": [
       "0"
      ]
     },
     "execution_count": 10,
     "metadata": {},
     "output_type": "execute_result"
    }
   ],
   "source": [
    "# checking for duplicates\n",
    "tickets_df.duplicated().sum()\n",
    "# there are no duplicates"
   ]
  },
  {
   "cell_type": "markdown",
   "id": "b234e343",
   "metadata": {
    "papermill": {
     "duration": 0.012465,
     "end_time": "2024-11-20T11:55:16.625129",
     "exception": false,
     "start_time": "2024-11-20T11:55:16.612664",
     "status": "completed"
    },
    "tags": []
   },
   "source": [
    "### So far, everything seems good"
   ]
  },
  {
   "cell_type": "markdown",
   "id": "ab1973d2",
   "metadata": {
    "papermill": {
     "duration": 0.012496,
     "end_time": "2024-11-20T11:55:16.650369",
     "exception": false,
     "start_time": "2024-11-20T11:55:16.637873",
     "status": "completed"
    },
    "tags": []
   },
   "source": [
    "# Text classification (traditional models)\n",
    "### Train machine learning models to accurately classify email content into appropriate departments, improving ticket routing and handling."
   ]
  },
  {
   "cell_type": "code",
   "execution_count": 11,
   "id": "49dfb23d",
   "metadata": {
    "execution": {
     "iopub.execute_input": "2024-11-20T11:55:16.677354Z",
     "iopub.status.busy": "2024-11-20T11:55:16.676948Z",
     "iopub.status.idle": "2024-11-20T11:55:16.698018Z",
     "shell.execute_reply": "2024-11-20T11:55:16.697028Z"
    },
    "papermill": {
     "duration": 0.036792,
     "end_time": "2024-11-20T11:55:16.699886",
     "exception": false,
     "start_time": "2024-11-20T11:55:16.663094",
     "status": "completed"
    },
    "tags": []
   },
   "outputs": [
    {
     "data": {
      "text/html": [
       "<div>\n",
       "<style scoped>\n",
       "    .dataframe tbody tr th:only-of-type {\n",
       "        vertical-align: middle;\n",
       "    }\n",
       "\n",
       "    .dataframe tbody tr th {\n",
       "        vertical-align: top;\n",
       "    }\n",
       "\n",
       "    .dataframe thead th {\n",
       "        text-align: right;\n",
       "    }\n",
       "</style>\n",
       "<table border=\"1\" class=\"dataframe\">\n",
       "  <thead>\n",
       "    <tr style=\"text-align: right;\">\n",
       "      <th></th>\n",
       "      <th>subject</th>\n",
       "      <th>body</th>\n",
       "      <th>language</th>\n",
       "      <th>queue</th>\n",
       "      <th>tag_1</th>\n",
       "      <th>tag_2</th>\n",
       "      <th>tag_3</th>\n",
       "      <th>tag_4</th>\n",
       "      <th>tag_5</th>\n",
       "      <th>tag_6</th>\n",
       "      <th>tag_7</th>\n",
       "      <th>tag_8</th>\n",
       "      <th>tag_9</th>\n",
       "    </tr>\n",
       "  </thead>\n",
       "  <tbody>\n",
       "    <tr>\n",
       "      <th>0</th>\n",
       "      <td>Anfrage zu den Spezifikationen und Anpassungso...</td>\n",
       "      <td>Sehr geehrtes Support-Team des Tech Online Sto...</td>\n",
       "      <td>de</td>\n",
       "      <td>Customer Service</td>\n",
       "      <td>Product Support</td>\n",
       "      <td>Sales Inquiry</td>\n",
       "      <td>Technical Guidance</td>\n",
       "      <td>General Inquiry</td>\n",
       "      <td>NaN</td>\n",
       "      <td>NaN</td>\n",
       "      <td>NaN</td>\n",
       "      <td>NaN</td>\n",
       "      <td>NaN</td>\n",
       "    </tr>\n",
       "    <tr>\n",
       "      <th>1</th>\n",
       "      <td>Déconnexions fréquentes et plantages</td>\n",
       "      <td>Le client signale des déconnexions fréquentes ...</td>\n",
       "      <td>fr</td>\n",
       "      <td>Product Support</td>\n",
       "      <td>Technical Support</td>\n",
       "      <td>Software Bug</td>\n",
       "      <td>Service Disruption</td>\n",
       "      <td>System Crash</td>\n",
       "      <td>Problem Resolution</td>\n",
       "      <td>Performance Tuning</td>\n",
       "      <td>NaN</td>\n",
       "      <td>NaN</td>\n",
       "      <td>NaN</td>\n",
       "    </tr>\n",
       "    <tr>\n",
       "      <th>2</th>\n",
       "      <td>Problema de sonido Dell XPS</td>\n",
       "      <td>Problema con el sonido, manejando como devoluc...</td>\n",
       "      <td>es</td>\n",
       "      <td>Returns and Exchanges</td>\n",
       "      <td>Returns and Exchanges</td>\n",
       "      <td>Product Support</td>\n",
       "      <td>Customer Service</td>\n",
       "      <td>Refund Request</td>\n",
       "      <td>NaN</td>\n",
       "      <td>NaN</td>\n",
       "      <td>NaN</td>\n",
       "      <td>NaN</td>\n",
       "      <td>NaN</td>\n",
       "    </tr>\n",
       "    <tr>\n",
       "      <th>3</th>\n",
       "      <td>Assistance requise pour la configuration du ta...</td>\n",
       "      <td>Cher support client,\\n\\nNotre client, &lt;name&gt;, ...</td>\n",
       "      <td>fr</td>\n",
       "      <td>Product Support</td>\n",
       "      <td>Technical Support</td>\n",
       "      <td>Product Support</td>\n",
       "      <td>General Inquiry</td>\n",
       "      <td>Problem Resolution</td>\n",
       "      <td>Training Request</td>\n",
       "      <td>NaN</td>\n",
       "      <td>NaN</td>\n",
       "      <td>NaN</td>\n",
       "      <td>NaN</td>\n",
       "    </tr>\n",
       "    <tr>\n",
       "      <th>4</th>\n",
       "      <td>Urgente: Assistência Imediata Necessária para ...</td>\n",
       "      <td>Caro Suporte ao Cliente da Firma de Consultori...</td>\n",
       "      <td>pt</td>\n",
       "      <td>Human Resources</td>\n",
       "      <td>Urgent Issue</td>\n",
       "      <td>Payroll Issue</td>\n",
       "      <td>Technical Support</td>\n",
       "      <td>Service Disruption</td>\n",
       "      <td>Problem Resolution</td>\n",
       "      <td>Account Assistance</td>\n",
       "      <td>NaN</td>\n",
       "      <td>NaN</td>\n",
       "      <td>NaN</td>\n",
       "    </tr>\n",
       "    <tr>\n",
       "      <th>...</th>\n",
       "      <td>...</td>\n",
       "      <td>...</td>\n",
       "      <td>...</td>\n",
       "      <td>...</td>\n",
       "      <td>...</td>\n",
       "      <td>...</td>\n",
       "      <td>...</td>\n",
       "      <td>...</td>\n",
       "      <td>...</td>\n",
       "      <td>...</td>\n",
       "      <td>...</td>\n",
       "      <td>...</td>\n",
       "      <td>...</td>\n",
       "    </tr>\n",
       "    <tr>\n",
       "      <th>595</th>\n",
       "      <td>Urgente: Problema de Conectividad del Router</td>\n",
       "      <td>Estimado Soporte de Servicios de TI,\\n\\nEstamo...</td>\n",
       "      <td>es</td>\n",
       "      <td>IT Support</td>\n",
       "      <td>Technical Support</td>\n",
       "      <td>Urgent Issue</td>\n",
       "      <td>Network Issue</td>\n",
       "      <td>Problem Resolution</td>\n",
       "      <td>Service Disruption</td>\n",
       "      <td>IT Support</td>\n",
       "      <td>NaN</td>\n",
       "      <td>NaN</td>\n",
       "      <td>NaN</td>\n",
       "    </tr>\n",
       "    <tr>\n",
       "      <th>596</th>\n",
       "      <td>Necesito ayuda con el despliegue de un nuevo m...</td>\n",
       "      <td>Estimado equipo de soporte de servicios de TI,...</td>\n",
       "      <td>es</td>\n",
       "      <td>Technical Support</td>\n",
       "      <td>Technical Support</td>\n",
       "      <td>IT Support</td>\n",
       "      <td>Product Support</td>\n",
       "      <td>System Maintenance</td>\n",
       "      <td>Technical Guidance</td>\n",
       "      <td>NaN</td>\n",
       "      <td>NaN</td>\n",
       "      <td>NaN</td>\n",
       "      <td>NaN</td>\n",
       "    </tr>\n",
       "    <tr>\n",
       "      <th>597</th>\n",
       "      <td>Necesito soporte urgente</td>\n",
       "      <td>Estimado soporte al cliente, La pantalla tácti...</td>\n",
       "      <td>es</td>\n",
       "      <td>Technical Support</td>\n",
       "      <td>Technical Support</td>\n",
       "      <td>Urgent Issue</td>\n",
       "      <td>Hardware Failure</td>\n",
       "      <td>Problem Resolution</td>\n",
       "      <td>Product Support</td>\n",
       "      <td>System Maintenance</td>\n",
       "      <td>NaN</td>\n",
       "      <td>NaN</td>\n",
       "      <td>NaN</td>\n",
       "    </tr>\n",
       "    <tr>\n",
       "      <th>598</th>\n",
       "      <td>Problema de Erro de Servidor</td>\n",
       "      <td>Caro Suporte ao Cliente,\\n\\nNosso Serviço de C...</td>\n",
       "      <td>pt</td>\n",
       "      <td>Service Outages and Maintenance</td>\n",
       "      <td>Technical Support</td>\n",
       "      <td>IT Support</td>\n",
       "      <td>Service Disruption</td>\n",
       "      <td>System Crash</td>\n",
       "      <td>Problem Resolution</td>\n",
       "      <td>NaN</td>\n",
       "      <td>NaN</td>\n",
       "      <td>NaN</td>\n",
       "      <td>NaN</td>\n",
       "    </tr>\n",
       "    <tr>\n",
       "      <th>599</th>\n",
       "      <td>Wiederholtes Bildschirmflimmern Problem gemeldet</td>\n",
       "      <td>Sehr geehrter Kundenservice, ich schreibe, um ...</td>\n",
       "      <td>de</td>\n",
       "      <td>Product Support</td>\n",
       "      <td>Technical Support</td>\n",
       "      <td>Product Support</td>\n",
       "      <td>Hardware Failure</td>\n",
       "      <td>Problem Resolution</td>\n",
       "      <td>Service Recovery</td>\n",
       "      <td>Returns and Exchanges</td>\n",
       "      <td>NaN</td>\n",
       "      <td>NaN</td>\n",
       "      <td>NaN</td>\n",
       "    </tr>\n",
       "  </tbody>\n",
       "</table>\n",
       "<p>600 rows × 13 columns</p>\n",
       "</div>"
      ],
      "text/plain": [
       "                                               subject  \\\n",
       "0    Anfrage zu den Spezifikationen und Anpassungso...   \n",
       "1                 Déconnexions fréquentes et plantages   \n",
       "2                          Problema de sonido Dell XPS   \n",
       "3    Assistance requise pour la configuration du ta...   \n",
       "4    Urgente: Assistência Imediata Necessária para ...   \n",
       "..                                                 ...   \n",
       "595       Urgente: Problema de Conectividad del Router   \n",
       "596  Necesito ayuda con el despliegue de un nuevo m...   \n",
       "597                           Necesito soporte urgente   \n",
       "598                       Problema de Erro de Servidor   \n",
       "599   Wiederholtes Bildschirmflimmern Problem gemeldet   \n",
       "\n",
       "                                                  body language  \\\n",
       "0    Sehr geehrtes Support-Team des Tech Online Sto...       de   \n",
       "1    Le client signale des déconnexions fréquentes ...       fr   \n",
       "2    Problema con el sonido, manejando como devoluc...       es   \n",
       "3    Cher support client,\\n\\nNotre client, <name>, ...       fr   \n",
       "4    Caro Suporte ao Cliente da Firma de Consultori...       pt   \n",
       "..                                                 ...      ...   \n",
       "595  Estimado Soporte de Servicios de TI,\\n\\nEstamo...       es   \n",
       "596  Estimado equipo de soporte de servicios de TI,...       es   \n",
       "597  Estimado soporte al cliente, La pantalla tácti...       es   \n",
       "598  Caro Suporte ao Cliente,\\n\\nNosso Serviço de C...       pt   \n",
       "599  Sehr geehrter Kundenservice, ich schreibe, um ...       de   \n",
       "\n",
       "                               queue                  tag_1            tag_2  \\\n",
       "0                   Customer Service        Product Support    Sales Inquiry   \n",
       "1                    Product Support      Technical Support     Software Bug   \n",
       "2              Returns and Exchanges  Returns and Exchanges  Product Support   \n",
       "3                    Product Support      Technical Support  Product Support   \n",
       "4                    Human Resources           Urgent Issue    Payroll Issue   \n",
       "..                               ...                    ...              ...   \n",
       "595                       IT Support      Technical Support     Urgent Issue   \n",
       "596                Technical Support      Technical Support       IT Support   \n",
       "597                Technical Support      Technical Support     Urgent Issue   \n",
       "598  Service Outages and Maintenance      Technical Support       IT Support   \n",
       "599                  Product Support      Technical Support  Product Support   \n",
       "\n",
       "                  tag_3               tag_4               tag_5  \\\n",
       "0    Technical Guidance     General Inquiry                 NaN   \n",
       "1    Service Disruption        System Crash  Problem Resolution   \n",
       "2      Customer Service      Refund Request                 NaN   \n",
       "3       General Inquiry  Problem Resolution    Training Request   \n",
       "4     Technical Support  Service Disruption  Problem Resolution   \n",
       "..                  ...                 ...                 ...   \n",
       "595       Network Issue  Problem Resolution  Service Disruption   \n",
       "596     Product Support  System Maintenance  Technical Guidance   \n",
       "597    Hardware Failure  Problem Resolution     Product Support   \n",
       "598  Service Disruption        System Crash  Problem Resolution   \n",
       "599    Hardware Failure  Problem Resolution    Service Recovery   \n",
       "\n",
       "                     tag_6 tag_7 tag_8  tag_9  \n",
       "0                      NaN   NaN   NaN    NaN  \n",
       "1       Performance Tuning   NaN   NaN    NaN  \n",
       "2                      NaN   NaN   NaN    NaN  \n",
       "3                      NaN   NaN   NaN    NaN  \n",
       "4       Account Assistance   NaN   NaN    NaN  \n",
       "..                     ...   ...   ...    ...  \n",
       "595             IT Support   NaN   NaN    NaN  \n",
       "596                    NaN   NaN   NaN    NaN  \n",
       "597     System Maintenance   NaN   NaN    NaN  \n",
       "598                    NaN   NaN   NaN    NaN  \n",
       "599  Returns and Exchanges   NaN   NaN    NaN  \n",
       "\n",
       "[600 rows x 13 columns]"
      ]
     },
     "execution_count": 11,
     "metadata": {},
     "output_type": "execute_result"
    }
   ],
   "source": [
    "# identify the queue based on the subject and body of the ticket\n",
    "tickets_df[['subject', 'body', 'language', 'queue', 'tag_1', 'tag_2', 'tag_3', 'tag_4', 'tag_5', 'tag_6', 'tag_7', 'tag_8', 'tag_9']]"
   ]
  },
  {
   "cell_type": "code",
   "execution_count": 12,
   "id": "edc7e94d",
   "metadata": {
    "execution": {
     "iopub.execute_input": "2024-11-20T11:55:16.727976Z",
     "iopub.status.busy": "2024-11-20T11:55:16.727590Z",
     "iopub.status.idle": "2024-11-20T11:55:16.734325Z",
     "shell.execute_reply": "2024-11-20T11:55:16.733288Z"
    },
    "papermill": {
     "duration": 0.02314,
     "end_time": "2024-11-20T11:55:16.736220",
     "exception": false,
     "start_time": "2024-11-20T11:55:16.713080",
     "status": "completed"
    },
    "tags": []
   },
   "outputs": [
    {
     "data": {
      "text/plain": [
       "array(['Customer Service', 'Product Support', 'Returns and Exchanges',\n",
       "       'Human Resources', 'Billing and Payments', 'Technical Support',\n",
       "       'IT Support', 'Sales and Pre-Sales', 'General Inquiry',\n",
       "       'Service Outages and Maintenance'], dtype=object)"
      ]
     },
     "execution_count": 12,
     "metadata": {},
     "output_type": "execute_result"
    }
   ],
   "source": [
    "tickets_df['queue'].unique()"
   ]
  },
  {
   "cell_type": "markdown",
   "id": "97ce136a",
   "metadata": {
    "papermill": {
     "duration": 0.013143,
     "end_time": "2024-11-20T11:55:16.762785",
     "exception": false,
     "start_time": "2024-11-20T11:55:16.749642",
     "status": "completed"
    },
    "tags": []
   },
   "source": [
    "### we are going to classify the subject and body of the ticket based on its department, our target is 'queu' column, so for the first task we only need 3 columns"
   ]
  },
  {
   "cell_type": "code",
   "execution_count": 13,
   "id": "bbcdb76b",
   "metadata": {
    "execution": {
     "iopub.execute_input": "2024-11-20T11:55:16.791271Z",
     "iopub.status.busy": "2024-11-20T11:55:16.790874Z",
     "iopub.status.idle": "2024-11-20T11:55:16.803218Z",
     "shell.execute_reply": "2024-11-20T11:55:16.802034Z"
    },
    "papermill": {
     "duration": 0.029009,
     "end_time": "2024-11-20T11:55:16.805313",
     "exception": false,
     "start_time": "2024-11-20T11:55:16.776304",
     "status": "completed"
    },
    "tags": []
   },
   "outputs": [
    {
     "name": "stdout",
     "output_type": "stream",
     "text": [
      "<class 'pandas.core.frame.DataFrame'>\n",
      "RangeIndex: 600 entries, 0 to 599\n",
      "Data columns (total 4 columns):\n",
      " #   Column    Non-Null Count  Dtype \n",
      "---  ------    --------------  ----- \n",
      " 0   subject   599 non-null    object\n",
      " 1   body      600 non-null    object\n",
      " 2   queue     600 non-null    object\n",
      " 3   language  600 non-null    object\n",
      "dtypes: object(4)\n",
      "memory usage: 18.9+ KB\n"
     ]
    }
   ],
   "source": [
    "# dataframe for the first task, join subject and body, make two columns, one is label and the other is text\n",
    "text_classification_df = tickets_df[['subject', 'body', 'queue', 'language']]\n",
    "\n",
    "text_classification_df.info()"
   ]
  },
  {
   "cell_type": "code",
   "execution_count": 14,
   "id": "62d80069",
   "metadata": {
    "execution": {
     "iopub.execute_input": "2024-11-20T11:55:16.834094Z",
     "iopub.status.busy": "2024-11-20T11:55:16.833693Z",
     "iopub.status.idle": "2024-11-20T11:55:16.839891Z",
     "shell.execute_reply": "2024-11-20T11:55:16.839033Z"
    },
    "papermill": {
     "duration": 0.023023,
     "end_time": "2024-11-20T11:55:16.841969",
     "exception": false,
     "start_time": "2024-11-20T11:55:16.818946",
     "status": "completed"
    },
    "tags": []
   },
   "outputs": [],
   "source": [
    "# import ' ' instead of one nan value in the subject\n",
    "text_classification_df.fillna(' ', inplace=True)"
   ]
  },
  {
   "cell_type": "code",
   "execution_count": 15,
   "id": "481bc831",
   "metadata": {
    "execution": {
     "iopub.execute_input": "2024-11-20T11:55:16.870729Z",
     "iopub.status.busy": "2024-11-20T11:55:16.870347Z",
     "iopub.status.idle": "2024-11-20T11:55:16.881179Z",
     "shell.execute_reply": "2024-11-20T11:55:16.879968Z"
    },
    "papermill": {
     "duration": 0.02743,
     "end_time": "2024-11-20T11:55:16.883028",
     "exception": false,
     "start_time": "2024-11-20T11:55:16.855598",
     "status": "completed"
    },
    "tags": []
   },
   "outputs": [
    {
     "name": "stdout",
     "output_type": "stream",
     "text": [
      "<class 'pandas.core.frame.DataFrame'>\n",
      "RangeIndex: 600 entries, 0 to 599\n",
      "Data columns (total 4 columns):\n",
      " #   Column    Non-Null Count  Dtype \n",
      "---  ------    --------------  ----- \n",
      " 0   subject   600 non-null    object\n",
      " 1   body      600 non-null    object\n",
      " 2   queue     600 non-null    object\n",
      " 3   language  600 non-null    object\n",
      "dtypes: object(4)\n",
      "memory usage: 18.9+ KB\n"
     ]
    }
   ],
   "source": [
    "text_classification_df.info()"
   ]
  },
  {
   "cell_type": "code",
   "execution_count": 16,
   "id": "47928f8a",
   "metadata": {
    "execution": {
     "iopub.execute_input": "2024-11-20T11:55:16.911384Z",
     "iopub.status.busy": "2024-11-20T11:55:16.911021Z",
     "iopub.status.idle": "2024-11-20T11:55:16.922542Z",
     "shell.execute_reply": "2024-11-20T11:55:16.921574Z"
    },
    "papermill": {
     "duration": 0.028128,
     "end_time": "2024-11-20T11:55:16.924416",
     "exception": false,
     "start_time": "2024-11-20T11:55:16.896288",
     "status": "completed"
    },
    "tags": []
   },
   "outputs": [
    {
     "data": {
      "text/html": [
       "<div>\n",
       "<style scoped>\n",
       "    .dataframe tbody tr th:only-of-type {\n",
       "        vertical-align: middle;\n",
       "    }\n",
       "\n",
       "    .dataframe tbody tr th {\n",
       "        vertical-align: top;\n",
       "    }\n",
       "\n",
       "    .dataframe thead th {\n",
       "        text-align: right;\n",
       "    }\n",
       "</style>\n",
       "<table border=\"1\" class=\"dataframe\">\n",
       "  <thead>\n",
       "    <tr style=\"text-align: right;\">\n",
       "      <th></th>\n",
       "      <th>subject</th>\n",
       "      <th>body</th>\n",
       "      <th>queue</th>\n",
       "      <th>language</th>\n",
       "    </tr>\n",
       "  </thead>\n",
       "  <tbody>\n",
       "    <tr>\n",
       "      <th>0</th>\n",
       "      <td>Anfrage zu den Spezifikationen und Anpassungso...</td>\n",
       "      <td>Sehr geehrtes Support-Team des Tech Online Sto...</td>\n",
       "      <td>Customer Service</td>\n",
       "      <td>de</td>\n",
       "    </tr>\n",
       "    <tr>\n",
       "      <th>1</th>\n",
       "      <td>Déconnexions fréquentes et plantages</td>\n",
       "      <td>Le client signale des déconnexions fréquentes ...</td>\n",
       "      <td>Product Support</td>\n",
       "      <td>fr</td>\n",
       "    </tr>\n",
       "    <tr>\n",
       "      <th>2</th>\n",
       "      <td>Problema de sonido Dell XPS</td>\n",
       "      <td>Problema con el sonido, manejando como devoluc...</td>\n",
       "      <td>Returns and Exchanges</td>\n",
       "      <td>es</td>\n",
       "    </tr>\n",
       "    <tr>\n",
       "      <th>3</th>\n",
       "      <td>Assistance requise pour la configuration du ta...</td>\n",
       "      <td>Cher support client,\\n\\nNotre client, &lt;name&gt;, ...</td>\n",
       "      <td>Product Support</td>\n",
       "      <td>fr</td>\n",
       "    </tr>\n",
       "    <tr>\n",
       "      <th>4</th>\n",
       "      <td>Urgente: Assistência Imediata Necessária para ...</td>\n",
       "      <td>Caro Suporte ao Cliente da Firma de Consultori...</td>\n",
       "      <td>Human Resources</td>\n",
       "      <td>pt</td>\n",
       "    </tr>\n",
       "    <tr>\n",
       "      <th>...</th>\n",
       "      <td>...</td>\n",
       "      <td>...</td>\n",
       "      <td>...</td>\n",
       "      <td>...</td>\n",
       "    </tr>\n",
       "    <tr>\n",
       "      <th>595</th>\n",
       "      <td>Urgente: Problema de Conectividad del Router</td>\n",
       "      <td>Estimado Soporte de Servicios de TI,\\n\\nEstamo...</td>\n",
       "      <td>IT Support</td>\n",
       "      <td>es</td>\n",
       "    </tr>\n",
       "    <tr>\n",
       "      <th>596</th>\n",
       "      <td>Necesito ayuda con el despliegue de un nuevo m...</td>\n",
       "      <td>Estimado equipo de soporte de servicios de TI,...</td>\n",
       "      <td>Technical Support</td>\n",
       "      <td>es</td>\n",
       "    </tr>\n",
       "    <tr>\n",
       "      <th>597</th>\n",
       "      <td>Necesito soporte urgente</td>\n",
       "      <td>Estimado soporte al cliente, La pantalla tácti...</td>\n",
       "      <td>Technical Support</td>\n",
       "      <td>es</td>\n",
       "    </tr>\n",
       "    <tr>\n",
       "      <th>598</th>\n",
       "      <td>Problema de Erro de Servidor</td>\n",
       "      <td>Caro Suporte ao Cliente,\\n\\nNosso Serviço de C...</td>\n",
       "      <td>Service Outages and Maintenance</td>\n",
       "      <td>pt</td>\n",
       "    </tr>\n",
       "    <tr>\n",
       "      <th>599</th>\n",
       "      <td>Wiederholtes Bildschirmflimmern Problem gemeldet</td>\n",
       "      <td>Sehr geehrter Kundenservice, ich schreibe, um ...</td>\n",
       "      <td>Product Support</td>\n",
       "      <td>de</td>\n",
       "    </tr>\n",
       "  </tbody>\n",
       "</table>\n",
       "<p>600 rows × 4 columns</p>\n",
       "</div>"
      ],
      "text/plain": [
       "                                               subject  \\\n",
       "0    Anfrage zu den Spezifikationen und Anpassungso...   \n",
       "1                 Déconnexions fréquentes et plantages   \n",
       "2                          Problema de sonido Dell XPS   \n",
       "3    Assistance requise pour la configuration du ta...   \n",
       "4    Urgente: Assistência Imediata Necessária para ...   \n",
       "..                                                 ...   \n",
       "595       Urgente: Problema de Conectividad del Router   \n",
       "596  Necesito ayuda con el despliegue de un nuevo m...   \n",
       "597                           Necesito soporte urgente   \n",
       "598                       Problema de Erro de Servidor   \n",
       "599   Wiederholtes Bildschirmflimmern Problem gemeldet   \n",
       "\n",
       "                                                  body  \\\n",
       "0    Sehr geehrtes Support-Team des Tech Online Sto...   \n",
       "1    Le client signale des déconnexions fréquentes ...   \n",
       "2    Problema con el sonido, manejando como devoluc...   \n",
       "3    Cher support client,\\n\\nNotre client, <name>, ...   \n",
       "4    Caro Suporte ao Cliente da Firma de Consultori...   \n",
       "..                                                 ...   \n",
       "595  Estimado Soporte de Servicios de TI,\\n\\nEstamo...   \n",
       "596  Estimado equipo de soporte de servicios de TI,...   \n",
       "597  Estimado soporte al cliente, La pantalla tácti...   \n",
       "598  Caro Suporte ao Cliente,\\n\\nNosso Serviço de C...   \n",
       "599  Sehr geehrter Kundenservice, ich schreibe, um ...   \n",
       "\n",
       "                               queue language  \n",
       "0                   Customer Service       de  \n",
       "1                    Product Support       fr  \n",
       "2              Returns and Exchanges       es  \n",
       "3                    Product Support       fr  \n",
       "4                    Human Resources       pt  \n",
       "..                               ...      ...  \n",
       "595                       IT Support       es  \n",
       "596                Technical Support       es  \n",
       "597                Technical Support       es  \n",
       "598  Service Outages and Maintenance       pt  \n",
       "599                  Product Support       de  \n",
       "\n",
       "[600 rows x 4 columns]"
      ]
     },
     "execution_count": 16,
     "metadata": {},
     "output_type": "execute_result"
    }
   ],
   "source": [
    "text_classification_df"
   ]
  },
  {
   "cell_type": "code",
   "execution_count": 17,
   "id": "8981c3f9",
   "metadata": {
    "execution": {
     "iopub.execute_input": "2024-11-20T11:55:17.010664Z",
     "iopub.status.busy": "2024-11-20T11:55:17.009679Z",
     "iopub.status.idle": "2024-11-20T11:55:17.029004Z",
     "shell.execute_reply": "2024-11-20T11:55:17.027944Z"
    },
    "papermill": {
     "duration": 0.036636,
     "end_time": "2024-11-20T11:55:17.031142",
     "exception": false,
     "start_time": "2024-11-20T11:55:16.994506",
     "status": "completed"
    },
    "tags": []
   },
   "outputs": [],
   "source": [
    "text_classification_df['text'] =[text_classification_df.loc[i, 'subject']+' '+text_classification_df.loc[i, 'body'] for i in range(len(text_classification_df))]"
   ]
  },
  {
   "cell_type": "code",
   "execution_count": 18,
   "id": "3b10f487",
   "metadata": {
    "execution": {
     "iopub.execute_input": "2024-11-20T11:55:17.060642Z",
     "iopub.status.busy": "2024-11-20T11:55:17.060281Z",
     "iopub.status.idle": "2024-11-20T11:55:17.066170Z",
     "shell.execute_reply": "2024-11-20T11:55:17.065141Z"
    },
    "papermill": {
     "duration": 0.023317,
     "end_time": "2024-11-20T11:55:17.068277",
     "exception": false,
     "start_time": "2024-11-20T11:55:17.044960",
     "status": "completed"
    },
    "tags": []
   },
   "outputs": [],
   "source": [
    "text_classification_df.drop(['subject', 'body'], axis=1, inplace= True)"
   ]
  },
  {
   "cell_type": "code",
   "execution_count": 19,
   "id": "5e7293b5",
   "metadata": {
    "execution": {
     "iopub.execute_input": "2024-11-20T11:55:17.098363Z",
     "iopub.status.busy": "2024-11-20T11:55:17.097431Z",
     "iopub.status.idle": "2024-11-20T11:55:17.102143Z",
     "shell.execute_reply": "2024-11-20T11:55:17.101267Z"
    },
    "papermill": {
     "duration": 0.02167,
     "end_time": "2024-11-20T11:55:17.103977",
     "exception": false,
     "start_time": "2024-11-20T11:55:17.082307",
     "status": "completed"
    },
    "tags": []
   },
   "outputs": [],
   "source": [
    "# rename the columns into text and label\n",
    "\n",
    "text_classification_df.columns=['label', 'language', 'text']"
   ]
  },
  {
   "cell_type": "code",
   "execution_count": 20,
   "id": "fedc7a5e",
   "metadata": {
    "execution": {
     "iopub.execute_input": "2024-11-20T11:55:17.133534Z",
     "iopub.status.busy": "2024-11-20T11:55:17.132838Z",
     "iopub.status.idle": "2024-11-20T11:55:17.139702Z",
     "shell.execute_reply": "2024-11-20T11:55:17.138703Z"
    },
    "papermill": {
     "duration": 0.024041,
     "end_time": "2024-11-20T11:55:17.141720",
     "exception": false,
     "start_time": "2024-11-20T11:55:17.117679",
     "status": "completed"
    },
    "tags": []
   },
   "outputs": [
    {
     "data": {
      "text/plain": [
       "array(['Customer Service', 'Product Support', 'Returns and Exchanges',\n",
       "       'Human Resources', 'Billing and Payments', 'Technical Support',\n",
       "       'IT Support', 'Sales and Pre-Sales', 'General Inquiry',\n",
       "       'Service Outages and Maintenance'], dtype=object)"
      ]
     },
     "execution_count": 20,
     "metadata": {},
     "output_type": "execute_result"
    }
   ],
   "source": [
    "text_classification_df['label'].unique()"
   ]
  },
  {
   "cell_type": "code",
   "execution_count": 21,
   "id": "90da89a0",
   "metadata": {
    "execution": {
     "iopub.execute_input": "2024-11-20T11:55:17.171436Z",
     "iopub.status.busy": "2024-11-20T11:55:17.171101Z",
     "iopub.status.idle": "2024-11-20T11:55:17.489710Z",
     "shell.execute_reply": "2024-11-20T11:55:17.488657Z"
    },
    "papermill": {
     "duration": 0.335903,
     "end_time": "2024-11-20T11:55:17.491741",
     "exception": false,
     "start_time": "2024-11-20T11:55:17.155838",
     "status": "completed"
    },
    "tags": []
   },
   "outputs": [
    {
     "data": {
      "text/plain": [
       "<Axes: xlabel='label'>"
      ]
     },
     "execution_count": 21,
     "metadata": {},
     "output_type": "execute_result"
    },
    {
     "data": {
      "image/png": "[encoded data removed]",
      "text/plain": [
       "<Figure size 640x480 with 1 Axes>"
      ]
     },
     "metadata": {},
     "output_type": "display_data"
    }
   ],
   "source": [
    "text_classification_df['label'].value_counts().plot.bar()\n",
    "# imbalanced labels"
   ]
  },
  {
   "cell_type": "code",
   "execution_count": 22,
   "id": "2a697f10",
   "metadata": {
    "execution": {
     "iopub.execute_input": "2024-11-20T11:55:17.523332Z",
     "iopub.status.busy": "2024-11-20T11:55:17.522458Z",
     "iopub.status.idle": "2024-11-20T11:55:17.753701Z",
     "shell.execute_reply": "2024-11-20T11:55:17.752552Z"
    },
    "papermill": {
     "duration": 0.249426,
     "end_time": "2024-11-20T11:55:17.755952",
     "exception": false,
     "start_time": "2024-11-20T11:55:17.506526",
     "status": "completed"
    },
    "tags": []
   },
   "outputs": [
    {
     "data": {
      "text/plain": [
       "<Axes: xlabel='language'>"
      ]
     },
     "execution_count": 22,
     "metadata": {},
     "output_type": "execute_result"
    },
    {
     "data": {
      "image/png": "[encoded data removed]",
      "text/plain": [
       "<Figure size 640x480 with 1 Axes>"
      ]
     },
     "metadata": {},
     "output_type": "display_data"
    }
   ],
   "source": [
    "text_classification_df['language'].value_counts().plot.bar()"
   ]
  },
  {
   "cell_type": "markdown",
   "id": "d09a1b2f",
   "metadata": {
    "papermill": {
     "duration": 0.015356,
     "end_time": "2024-11-20T11:55:17.786880",
     "exception": false,
     "start_time": "2024-11-20T11:55:17.771524",
     "status": "completed"
    },
    "tags": []
   },
   "source": [
    "## Text preprocessing "
   ]
  },
  {
   "cell_type": "code",
   "execution_count": 23,
   "id": "c2fc4158",
   "metadata": {
    "execution": {
     "iopub.execute_input": "2024-11-20T11:55:17.819838Z",
     "iopub.status.busy": "2024-11-20T11:55:17.819495Z",
     "iopub.status.idle": "2024-11-20T11:55:18.044293Z",
     "shell.execute_reply": "2024-11-20T11:55:18.043188Z"
    },
    "papermill": {
     "duration": 0.243887,
     "end_time": "2024-11-20T11:55:18.046663",
     "exception": false,
     "start_time": "2024-11-20T11:55:17.802776",
     "status": "completed"
    },
    "tags": []
   },
   "outputs": [
    {
     "data": {
      "text/html": [
       "<div>\n",
       "<style scoped>\n",
       "    .dataframe tbody tr th:only-of-type {\n",
       "        vertical-align: middle;\n",
       "    }\n",
       "\n",
       "    .dataframe tbody tr th {\n",
       "        vertical-align: top;\n",
       "    }\n",
       "\n",
       "    .dataframe thead th {\n",
       "        text-align: right;\n",
       "    }\n",
       "</style>\n",
       "<table border=\"1\" class=\"dataframe\">\n",
       "  <thead>\n",
       "    <tr style=\"text-align: right;\">\n",
       "      <th></th>\n",
       "      <th>label</th>\n",
       "      <th>language</th>\n",
       "      <th>text</th>\n",
       "    </tr>\n",
       "  </thead>\n",
       "  <tbody>\n",
       "    <tr>\n",
       "      <th>0</th>\n",
       "      <td>Customer Service</td>\n",
       "      <td>de</td>\n",
       "      <td>[anfrage, zu, den, spezifikationen, und, anpas...</td>\n",
       "    </tr>\n",
       "    <tr>\n",
       "      <th>1</th>\n",
       "      <td>Product Support</td>\n",
       "      <td>fr</td>\n",
       "      <td>[d, connexions, fr, quentes, et, plantages, le...</td>\n",
       "    </tr>\n",
       "    <tr>\n",
       "      <th>2</th>\n",
       "      <td>Returns and Exchanges</td>\n",
       "      <td>es</td>\n",
       "      <td>[problema, de, sonido, dell, xps, problema, co...</td>\n",
       "    </tr>\n",
       "    <tr>\n",
       "      <th>3</th>\n",
       "      <td>Product Support</td>\n",
       "      <td>fr</td>\n",
       "      <td>[assistance, requise, pour, la, configuration,...</td>\n",
       "    </tr>\n",
       "    <tr>\n",
       "      <th>4</th>\n",
       "      <td>Human Resources</td>\n",
       "      <td>pt</td>\n",
       "      <td>[urgente, assist, ncia, imediata, necess, ria,...</td>\n",
       "    </tr>\n",
       "    <tr>\n",
       "      <th>...</th>\n",
       "      <td>...</td>\n",
       "      <td>...</td>\n",
       "      <td>...</td>\n",
       "    </tr>\n",
       "    <tr>\n",
       "      <th>595</th>\n",
       "      <td>IT Support</td>\n",
       "      <td>es</td>\n",
       "      <td>[urgente, problema, de, conectividad, del, rou...</td>\n",
       "    </tr>\n",
       "    <tr>\n",
       "      <th>596</th>\n",
       "      <td>Technical Support</td>\n",
       "      <td>es</td>\n",
       "      <td>[necesito, ayuda, con, el, despliegue, de, un,...</td>\n",
       "    </tr>\n",
       "    <tr>\n",
       "      <th>597</th>\n",
       "      <td>Technical Support</td>\n",
       "      <td>es</td>\n",
       "      <td>[necesito, soporte, urgente, estimado, soporte...</td>\n",
       "    </tr>\n",
       "    <tr>\n",
       "      <th>598</th>\n",
       "      <td>Service Outages and Maintenance</td>\n",
       "      <td>pt</td>\n",
       "      <td>[problema, de, erro, de, servidor, caro, supor...</td>\n",
       "    </tr>\n",
       "    <tr>\n",
       "      <th>599</th>\n",
       "      <td>Product Support</td>\n",
       "      <td>de</td>\n",
       "      <td>[wiederholtes, bildschirmflimmern, problem, ge...</td>\n",
       "    </tr>\n",
       "  </tbody>\n",
       "</table>\n",
       "<p>600 rows × 3 columns</p>\n",
       "</div>"
      ],
      "text/plain": [
       "                               label language  \\\n",
       "0                   Customer Service       de   \n",
       "1                    Product Support       fr   \n",
       "2              Returns and Exchanges       es   \n",
       "3                    Product Support       fr   \n",
       "4                    Human Resources       pt   \n",
       "..                               ...      ...   \n",
       "595                       IT Support       es   \n",
       "596                Technical Support       es   \n",
       "597                Technical Support       es   \n",
       "598  Service Outages and Maintenance       pt   \n",
       "599                  Product Support       de   \n",
       "\n",
       "                                                  text  \n",
       "0    [anfrage, zu, den, spezifikationen, und, anpas...  \n",
       "1    [d, connexions, fr, quentes, et, plantages, le...  \n",
       "2    [problema, de, sonido, dell, xps, problema, co...  \n",
       "3    [assistance, requise, pour, la, configuration,...  \n",
       "4    [urgente, assist, ncia, imediata, necess, ria,...  \n",
       "..                                                 ...  \n",
       "595  [urgente, problema, de, conectividad, del, rou...  \n",
       "596  [necesito, ayuda, con, el, despliegue, de, un,...  \n",
       "597  [necesito, soporte, urgente, estimado, soporte...  \n",
       "598  [problema, de, erro, de, servidor, caro, supor...  \n",
       "599  [wiederholtes, bildschirmflimmern, problem, ge...  \n",
       "\n",
       "[600 rows x 3 columns]"
      ]
     },
     "execution_count": 23,
     "metadata": {},
     "output_type": "execute_result"
    }
   ],
   "source": [
    "# first make bag of words\n",
    "# lower case\n",
    "# replace punctuations and numbers with space\n",
    "\n",
    "text = list(text_classification_df['text'])\n",
    "\n",
    "final_text =[]\n",
    "\n",
    "\n",
    "for i in range(len(text)):\n",
    "\n",
    "    r = re.sub('[^a-zA-Z]', ' ', text[i])\n",
    "\n",
    "    r = r.lower()\n",
    "    \n",
    "    bow = nltk.word_tokenize(r) # make bag of words\n",
    "    \n",
    "    final_text.append(bow)\n",
    "\n",
    "text_classification_df['text'] = final_text\n",
    "text_classification_df"
   ]
  },
  {
   "cell_type": "code",
   "execution_count": 24,
   "id": "dc4a89a6",
   "metadata": {
    "execution": {
     "iopub.execute_input": "2024-11-20T11:55:18.079943Z",
     "iopub.status.busy": "2024-11-20T11:55:18.079064Z",
     "iopub.status.idle": "2024-11-20T11:55:22.995015Z",
     "shell.execute_reply": "2024-11-20T11:55:22.993946Z"
    },
    "papermill": {
     "duration": 4.935012,
     "end_time": "2024-11-20T11:55:22.997155",
     "exception": false,
     "start_time": "2024-11-20T11:55:18.062143",
     "status": "completed"
    },
    "tags": []
   },
   "outputs": [
    {
     "data": {
      "text/html": [
       "<div>\n",
       "<style scoped>\n",
       "    .dataframe tbody tr th:only-of-type {\n",
       "        vertical-align: middle;\n",
       "    }\n",
       "\n",
       "    .dataframe tbody tr th {\n",
       "        vertical-align: top;\n",
       "    }\n",
       "\n",
       "    .dataframe thead th {\n",
       "        text-align: right;\n",
       "    }\n",
       "</style>\n",
       "<table border=\"1\" class=\"dataframe\">\n",
       "  <thead>\n",
       "    <tr style=\"text-align: right;\">\n",
       "      <th></th>\n",
       "      <th>label</th>\n",
       "      <th>language</th>\n",
       "      <th>text</th>\n",
       "    </tr>\n",
       "  </thead>\n",
       "  <tbody>\n",
       "    <tr>\n",
       "      <th>0</th>\n",
       "      <td>Customer Service</td>\n",
       "      <td>de</td>\n",
       "      <td>[anfrage, spezifikationen, anpassungsoptionen,...</td>\n",
       "    </tr>\n",
       "    <tr>\n",
       "      <th>1</th>\n",
       "      <td>Product Support</td>\n",
       "      <td>fr</td>\n",
       "      <td>[connexions, fr, quentes, plantages, client, s...</td>\n",
       "    </tr>\n",
       "    <tr>\n",
       "      <th>2</th>\n",
       "      <td>Returns and Exchanges</td>\n",
       "      <td>es</td>\n",
       "      <td>[problema, sonido, dell, xps, problema, sonido...</td>\n",
       "    </tr>\n",
       "    <tr>\n",
       "      <th>3</th>\n",
       "      <td>Product Support</td>\n",
       "      <td>fr</td>\n",
       "      <td>[assistance, requise, configuration, tableau, ...</td>\n",
       "    </tr>\n",
       "    <tr>\n",
       "      <th>4</th>\n",
       "      <td>Human Resources</td>\n",
       "      <td>pt</td>\n",
       "      <td>[urgente, assist, ncia, imediata, necess, ria,...</td>\n",
       "    </tr>\n",
       "    <tr>\n",
       "      <th>...</th>\n",
       "      <td>...</td>\n",
       "      <td>...</td>\n",
       "      <td>...</td>\n",
       "    </tr>\n",
       "    <tr>\n",
       "      <th>595</th>\n",
       "      <td>IT Support</td>\n",
       "      <td>es</td>\n",
       "      <td>[urgente, problema, conectividad, router, esti...</td>\n",
       "    </tr>\n",
       "    <tr>\n",
       "      <th>596</th>\n",
       "      <td>Technical Support</td>\n",
       "      <td>es</td>\n",
       "      <td>[necesito, ayuda, despliegue, nuevo, microserv...</td>\n",
       "    </tr>\n",
       "    <tr>\n",
       "      <th>597</th>\n",
       "      <td>Technical Support</td>\n",
       "      <td>es</td>\n",
       "      <td>[necesito, soporte, urgente, estimado, soporte...</td>\n",
       "    </tr>\n",
       "    <tr>\n",
       "      <th>598</th>\n",
       "      <td>Service Outages and Maintenance</td>\n",
       "      <td>pt</td>\n",
       "      <td>[problema, erro, servidor, caro, suporte, clie...</td>\n",
       "    </tr>\n",
       "    <tr>\n",
       "      <th>599</th>\n",
       "      <td>Product Support</td>\n",
       "      <td>de</td>\n",
       "      <td>[wiederholtes, bildschirmflimmern, problem, ge...</td>\n",
       "    </tr>\n",
       "  </tbody>\n",
       "</table>\n",
       "<p>600 rows × 3 columns</p>\n",
       "</div>"
      ],
      "text/plain": [
       "                               label language  \\\n",
       "0                   Customer Service       de   \n",
       "1                    Product Support       fr   \n",
       "2              Returns and Exchanges       es   \n",
       "3                    Product Support       fr   \n",
       "4                    Human Resources       pt   \n",
       "..                               ...      ...   \n",
       "595                       IT Support       es   \n",
       "596                Technical Support       es   \n",
       "597                Technical Support       es   \n",
       "598  Service Outages and Maintenance       pt   \n",
       "599                  Product Support       de   \n",
       "\n",
       "                                                  text  \n",
       "0    [anfrage, spezifikationen, anpassungsoptionen,...  \n",
       "1    [connexions, fr, quentes, plantages, client, s...  \n",
       "2    [problema, sonido, dell, xps, problema, sonido...  \n",
       "3    [assistance, requise, configuration, tableau, ...  \n",
       "4    [urgente, assist, ncia, imediata, necess, ria,...  \n",
       "..                                                 ...  \n",
       "595  [urgente, problema, conectividad, router, esti...  \n",
       "596  [necesito, ayuda, despliegue, nuevo, microserv...  \n",
       "597  [necesito, soporte, urgente, estimado, soporte...  \n",
       "598  [problema, erro, servidor, caro, suporte, clie...  \n",
       "599  [wiederholtes, bildschirmflimmern, problem, ge...  \n",
       "\n",
       "[600 rows x 3 columns]"
      ]
     },
     "execution_count": 24,
     "metadata": {},
     "output_type": "execute_result"
    }
   ],
   "source": [
    "# removing stopwords of each language from its bag of words\n",
    "\n",
    "for i in range(len(text_classification_df)):\n",
    "    \n",
    "    if text_classification_df.loc[i, 'language'] == 'en':\n",
    "        text_classification_df['text'][i] = [word for word in text_classification_df.loc[i, 'text'] if word not in stopwords.words('english')]\n",
    "    \n",
    "    elif text_classification_df['language'][i] == 'de':\n",
    "        text_classification_df['text'][i] = [word for word in text_classification_df.loc[i, 'text'] if word not in stopwords.words('german')]\n",
    "\n",
    "            \n",
    "    elif text_classification_df.loc[i, 'language'] == 'es':\n",
    "        text_classification_df['text'][i] = [word for word in text_classification_df.loc[i, 'text'] if word not in stopwords.words('spanish')]\n",
    "    \n",
    "    elif text_classification_df.loc[i, 'language'] == 'pt':\n",
    "        text_classification_df['text'][i] = [word for word in text_classification_df.loc[i, 'text'] if word not in stopwords.words('portuguese')]\n",
    "    \n",
    "    else:\n",
    "        text_classification_df['text'][i] = [word for word in text_classification_df.loc[i, 'text'] if word not in stopwords.words('french')]\n",
    "        \n",
    "        \n",
    "text_classification_df\n",
    "                        "
   ]
  },
  {
   "cell_type": "code",
   "execution_count": 25,
   "id": "4da69b65",
   "metadata": {
    "execution": {
     "iopub.execute_input": "2024-11-20T11:55:23.030910Z",
     "iopub.status.busy": "2024-11-20T11:55:23.030129Z",
     "iopub.status.idle": "2024-11-20T11:56:49.912911Z",
     "shell.execute_reply": "2024-11-20T11:56:49.911785Z"
    },
    "papermill": {
     "duration": 86.902213,
     "end_time": "2024-11-20T11:56:49.915533",
     "exception": false,
     "start_time": "2024-11-20T11:55:23.013320",
     "status": "completed"
    },
    "tags": []
   },
   "outputs": [
    {
     "name": "stdout",
     "output_type": "stream",
     "text": [
      "Collecting en-core-web-sm==3.7.1\r\n",
      "  Downloading https://github.com/explosion/spacy-models/releases/download/en_core_web_sm-3.7.1/en_core_web_sm-3.7.1-py3-none-any.whl (12.8 MB)\r\n",
      "\u001b[2K     \u001b[90m━━━━━━━━━━━━━━━━━━━━━━━━━━━━━━━━━━━━━━━━\u001b[0m \u001b[32m12.8/12.8 MB\u001b[0m \u001b[31m69.0 MB/s\u001b[0m eta \u001b[36m0:00:00\u001b[0m\r\n",
      "\u001b[?25hRequirement already satisfied: spacy<3.8.0,>=3.7.2 in /opt/conda/lib/python3.10/site-packages (from en-core-web-sm==3.7.1) (3.7.5)\r\n",
      "Requirement already satisfied: spacy-legacy<3.1.0,>=3.0.11 in /opt/conda/lib/python3.10/site-packages (from spacy<3.8.0,>=3.7.2->en-core-web-sm==3.7.1) (3.0.12)\r\n",
      "Requirement already satisfied: spacy-loggers<2.0.0,>=1.0.0 in /opt/conda/lib/python3.10/site-packages (from spacy<3.8.0,>=3.7.2->en-core-web-sm==3.7.1) (1.0.5)\r\n",
      "Requirement already satisfied: murmurhash<1.1.0,>=0.28.0 in /opt/conda/lib/python3.10/site-packages (from spacy<3.8.0,>=3.7.2->en-core-web-sm==3.7.1) (1.0.10)\r\n",
      "Requirement already satisfied: cymem<2.1.0,>=2.0.2 in /opt/conda/lib/python3.10/site-packages (from spacy<3.8.0,>=3.7.2->en-core-web-sm==3.7.1) (2.0.8)\r\n",
      "Requirement already satisfied: preshed<3.1.0,>=3.0.2 in /opt/conda/lib/python3.10/site-packages (from spacy<3.8.0,>=3.7.2->en-core-web-sm==3.7.1) (3.0.9)\r\n",
      "Requirement already satisfied: thinc<8.3.0,>=8.2.2 in /opt/conda/lib/python3.10/site-packages (from spacy<3.8.0,>=3.7.2->en-core-web-sm==3.7.1) (8.2.5)\r\n",
      "Requirement already satisfied: wasabi<1.2.0,>=0.9.1 in /opt/conda/lib/python3.10/site-packages (from spacy<3.8.0,>=3.7.2->en-core-web-sm==3.7.1) (1.1.3)\r\n",
      "Requirement already satisfied: srsly<3.0.0,>=2.4.3 in /opt/conda/lib/python3.10/site-packages (from spacy<3.8.0,>=3.7.2->en-core-web-sm==3.7.1) (2.4.8)\r\n",
      "Requirement already satisfied: catalogue<2.1.0,>=2.0.6 in /opt/conda/lib/python3.10/site-packages (from spacy<3.8.0,>=3.7.2->en-core-web-sm==3.7.1) (2.0.10)\r\n",
      "Requirement already satisfied: weasel<0.5.0,>=0.1.0 in /opt/conda/lib/python3.10/site-packages (from spacy<3.8.0,>=3.7.2->en-core-web-sm==3.7.1) (0.4.1)\r\n",
      "Requirement already satisfied: typer<1.0.0,>=0.3.0 in /opt/conda/lib/python3.10/site-packages (from spacy<3.8.0,>=3.7.2->en-core-web-sm==3.7.1) (0.9.0)\r\n",
      "Requirement already satisfied: tqdm<5.0.0,>=4.38.0 in /opt/conda/lib/python3.10/site-packages (from spacy<3.8.0,>=3.7.2->en-core-web-sm==3.7.1) (4.66.4)\r\n",
      "Requirement already satisfied: requests<3.0.0,>=2.13.0 in /opt/conda/lib/python3.10/site-packages (from spacy<3.8.0,>=3.7.2->en-core-web-sm==3.7.1) (2.32.3)\r\n",
      "Requirement already satisfied: pydantic!=1.8,!=1.8.1,<3.0.0,>=1.7.4 in /opt/conda/lib/python3.10/site-packages (from spacy<3.8.0,>=3.7.2->en-core-web-sm==3.7.1) (2.5.3)\r\n",
      "Requirement already satisfied: jinja2 in /opt/conda/lib/python3.10/site-packages (from spacy<3.8.0,>=3.7.2->en-core-web-sm==3.7.1) (3.1.2)\r\n",
      "Requirement already satisfied: setuptools in /opt/conda/lib/python3.10/site-packages (from spacy<3.8.0,>=3.7.2->en-core-web-sm==3.7.1) (69.0.3)\r\n",
      "Requirement already satisfied: packaging>=20.0 in /opt/conda/lib/python3.10/site-packages (from spacy<3.8.0,>=3.7.2->en-core-web-sm==3.7.1) (21.3)\r\n",
      "Requirement already satisfied: langcodes<4.0.0,>=3.2.0 in /opt/conda/lib/python3.10/site-packages (from spacy<3.8.0,>=3.7.2->en-core-web-sm==3.7.1) (3.4.0)\r\n",
      "Requirement already satisfied: numpy>=1.19.0 in /opt/conda/lib/python3.10/site-packages (from spacy<3.8.0,>=3.7.2->en-core-web-sm==3.7.1) (1.26.4)\r\n",
      "Requirement already satisfied: language-data>=1.2 in /opt/conda/lib/python3.10/site-packages (from langcodes<4.0.0,>=3.2.0->spacy<3.8.0,>=3.7.2->en-core-web-sm==3.7.1) (1.2.0)\r\n",
      "Requirement already satisfied: pyparsing!=3.0.5,>=2.0.2 in /opt/conda/lib/python3.10/site-packages (from packaging>=20.0->spacy<3.8.0,>=3.7.2->en-core-web-sm==3.7.1) (3.1.1)\r\n",
      "Requirement already satisfied: annotated-types>=0.4.0 in /opt/conda/lib/python3.10/site-packages (from pydantic!=1.8,!=1.8.1,<3.0.0,>=1.7.4->spacy<3.8.0,>=3.7.2->en-core-web-sm==3.7.1) (0.6.0)\r\n",
      "Requirement already satisfied: pydantic-core==2.14.6 in /opt/conda/lib/python3.10/site-packages (from pydantic!=1.8,!=1.8.1,<3.0.0,>=1.7.4->spacy<3.8.0,>=3.7.2->en-core-web-sm==3.7.1) (2.14.6)\r\n",
      "Requirement already satisfied: typing-extensions>=4.6.1 in /opt/conda/lib/python3.10/site-packages (from pydantic!=1.8,!=1.8.1,<3.0.0,>=1.7.4->spacy<3.8.0,>=3.7.2->en-core-web-sm==3.7.1) (4.9.0)\r\n",
      "Requirement already satisfied: charset-normalizer<4,>=2 in /opt/conda/lib/python3.10/site-packages (from requests<3.0.0,>=2.13.0->spacy<3.8.0,>=3.7.2->en-core-web-sm==3.7.1) (3.3.2)\r\n",
      "Requirement already satisfied: idna<4,>=2.5 in /opt/conda/lib/python3.10/site-packages (from requests<3.0.0,>=2.13.0->spacy<3.8.0,>=3.7.2->en-core-web-sm==3.7.1) (3.6)\r\n",
      "Requirement already satisfied: urllib3<3,>=1.21.1 in /opt/conda/lib/python3.10/site-packages (from requests<3.0.0,>=2.13.0->spacy<3.8.0,>=3.7.2->en-core-web-sm==3.7.1) (1.26.18)\r\n",
      "Requirement already satisfied: certifi>=2017.4.17 in /opt/conda/lib/python3.10/site-packages (from requests<3.0.0,>=2.13.0->spacy<3.8.0,>=3.7.2->en-core-web-sm==3.7.1) (2024.7.4)\r\n",
      "Requirement already satisfied: blis<0.8.0,>=0.7.8 in /opt/conda/lib/python3.10/site-packages (from thinc<8.3.0,>=8.2.2->spacy<3.8.0,>=3.7.2->en-core-web-sm==3.7.1) (0.7.11)\r\n",
      "Requirement already satisfied: confection<1.0.0,>=0.0.1 in /opt/conda/lib/python3.10/site-packages (from thinc<8.3.0,>=8.2.2->spacy<3.8.0,>=3.7.2->en-core-web-sm==3.7.1) (0.1.5)\r\n",
      "Requirement already satisfied: click<9.0.0,>=7.1.1 in /opt/conda/lib/python3.10/site-packages (from typer<1.0.0,>=0.3.0->spacy<3.8.0,>=3.7.2->en-core-web-sm==3.7.1) (8.1.7)\r\n",
      "Requirement already satisfied: cloudpathlib<1.0.0,>=0.7.0 in /opt/conda/lib/python3.10/site-packages (from weasel<0.5.0,>=0.1.0->spacy<3.8.0,>=3.7.2->en-core-web-sm==3.7.1) (0.18.1)\r\n",
      "Requirement already satisfied: smart-open<8.0.0,>=5.2.1 in /opt/conda/lib/python3.10/site-packages (from weasel<0.5.0,>=0.1.0->spacy<3.8.0,>=3.7.2->en-core-web-sm==3.7.1) (6.4.0)\r\n",
      "Requirement already satisfied: MarkupSafe>=2.0 in /opt/conda/lib/python3.10/site-packages (from jinja2->spacy<3.8.0,>=3.7.2->en-core-web-sm==3.7.1) (2.1.3)\r\n",
      "Requirement already satisfied: marisa-trie>=0.7.7 in /opt/conda/lib/python3.10/site-packages (from language-data>=1.2->langcodes<4.0.0,>=3.2.0->spacy<3.8.0,>=3.7.2->en-core-web-sm==3.7.1) (1.2.0)\r\n",
      "\u001b[38;5;2m✔ Download and installation successful\u001b[0m\r\n",
      "You can now load the package via spacy.load('en_core_web_sm')\r\n",
      "Collecting es-core-news-sm==3.7.0\r\n",
      "  Downloading https://github.com/explosion/spacy-models/releases/download/es_core_news_sm-3.7.0/es_core_news_sm-3.7.0-py3-none-any.whl (12.9 MB)\r\n",
      "\u001b[2K     \u001b[90m━━━━━━━━━━━━━━━━━━━━━━━━━━━━━━━━━━━━━━━━\u001b[0m \u001b[32m12.9/12.9 MB\u001b[0m \u001b[31m78.1 MB/s\u001b[0m eta \u001b[36m0:00:00\u001b[0m\r\n",
      "\u001b[?25hRequirement already satisfied: spacy<3.8.0,>=3.7.0 in /opt/conda/lib/python3.10/site-packages (from es-core-news-sm==3.7.0) (3.7.5)\r\n",
      "Requirement already satisfied: spacy-legacy<3.1.0,>=3.0.11 in /opt/conda/lib/python3.10/site-packages (from spacy<3.8.0,>=3.7.0->es-core-news-sm==3.7.0) (3.0.12)\r\n",
      "Requirement already satisfied: spacy-loggers<2.0.0,>=1.0.0 in /opt/conda/lib/python3.10/site-packages (from spacy<3.8.0,>=3.7.0->es-core-news-sm==3.7.0) (1.0.5)\r\n",
      "Requirement already satisfied: murmurhash<1.1.0,>=0.28.0 in /opt/conda/lib/python3.10/site-packages (from spacy<3.8.0,>=3.7.0->es-core-news-sm==3.7.0) (1.0.10)\r\n",
      "Requirement already satisfied: cymem<2.1.0,>=2.0.2 in /opt/conda/lib/python3.10/site-packages (from spacy<3.8.0,>=3.7.0->es-core-news-sm==3.7.0) (2.0.8)\r\n",
      "Requirement already satisfied: preshed<3.1.0,>=3.0.2 in /opt/conda/lib/python3.10/site-packages (from spacy<3.8.0,>=3.7.0->es-core-news-sm==3.7.0) (3.0.9)\r\n",
      "Requirement already satisfied: thinc<8.3.0,>=8.2.2 in /opt/conda/lib/python3.10/site-packages (from spacy<3.8.0,>=3.7.0->es-core-news-sm==3.7.0) (8.2.5)\r\n",
      "Requirement already satisfied: wasabi<1.2.0,>=0.9.1 in /opt/conda/lib/python3.10/site-packages (from spacy<3.8.0,>=3.7.0->es-core-news-sm==3.7.0) (1.1.3)\r\n",
      "Requirement already satisfied: srsly<3.0.0,>=2.4.3 in /opt/conda/lib/python3.10/site-packages (from spacy<3.8.0,>=3.7.0->es-core-news-sm==3.7.0) (2.4.8)\r\n",
      "Requirement already satisfied: catalogue<2.1.0,>=2.0.6 in /opt/conda/lib/python3.10/site-packages (from spacy<3.8.0,>=3.7.0->es-core-news-sm==3.7.0) (2.0.10)\r\n",
      "Requirement already satisfied: weasel<0.5.0,>=0.1.0 in /opt/conda/lib/python3.10/site-packages (from spacy<3.8.0,>=3.7.0->es-core-news-sm==3.7.0) (0.4.1)\r\n",
      "Requirement already satisfied: typer<1.0.0,>=0.3.0 in /opt/conda/lib/python3.10/site-packages (from spacy<3.8.0,>=3.7.0->es-core-news-sm==3.7.0) (0.9.0)\r\n",
      "Requirement already satisfied: tqdm<5.0.0,>=4.38.0 in /opt/conda/lib/python3.10/site-packages (from spacy<3.8.0,>=3.7.0->es-core-news-sm==3.7.0) (4.66.4)\r\n",
      "Requirement already satisfied: requests<3.0.0,>=2.13.0 in /opt/conda/lib/python3.10/site-packages (from spacy<3.8.0,>=3.7.0->es-core-news-sm==3.7.0) (2.32.3)\r\n",
      "Requirement already satisfied: pydantic!=1.8,!=1.8.1,<3.0.0,>=1.7.4 in /opt/conda/lib/python3.10/site-packages (from spacy<3.8.0,>=3.7.0->es-core-news-sm==3.7.0) (2.5.3)\r\n",
      "Requirement already satisfied: jinja2 in /opt/conda/lib/python3.10/site-packages (from spacy<3.8.0,>=3.7.0->es-core-news-sm==3.7.0) (3.1.2)\r\n",
      "Requirement already satisfied: setuptools in /opt/conda/lib/python3.10/site-packages (from spacy<3.8.0,>=3.7.0->es-core-news-sm==3.7.0) (69.0.3)\r\n",
      "Requirement already satisfied: packaging>=20.0 in /opt/conda/lib/python3.10/site-packages (from spacy<3.8.0,>=3.7.0->es-core-news-sm==3.7.0) (21.3)\r\n",
      "Requirement already satisfied: langcodes<4.0.0,>=3.2.0 in /opt/conda/lib/python3.10/site-packages (from spacy<3.8.0,>=3.7.0->es-core-news-sm==3.7.0) (3.4.0)\r\n",
      "Requirement already satisfied: numpy>=1.19.0 in /opt/conda/lib/python3.10/site-packages (from spacy<3.8.0,>=3.7.0->es-core-news-sm==3.7.0) (1.26.4)\r\n",
      "Requirement already satisfied: language-data>=1.2 in /opt/conda/lib/python3.10/site-packages (from langcodes<4.0.0,>=3.2.0->spacy<3.8.0,>=3.7.0->es-core-news-sm==3.7.0) (1.2.0)\r\n",
      "Requirement already satisfied: pyparsing!=3.0.5,>=2.0.2 in /opt/conda/lib/python3.10/site-packages (from packaging>=20.0->spacy<3.8.0,>=3.7.0->es-core-news-sm==3.7.0) (3.1.1)\r\n",
      "Requirement already satisfied: annotated-types>=0.4.0 in /opt/conda/lib/python3.10/site-packages (from pydantic!=1.8,!=1.8.1,<3.0.0,>=1.7.4->spacy<3.8.0,>=3.7.0->es-core-news-sm==3.7.0) (0.6.0)\r\n",
      "Requirement already satisfied: pydantic-core==2.14.6 in /opt/conda/lib/python3.10/site-packages (from pydantic!=1.8,!=1.8.1,<3.0.0,>=1.7.4->spacy<3.8.0,>=3.7.0->es-core-news-sm==3.7.0) (2.14.6)\r\n",
      "Requirement already satisfied: typing-extensions>=4.6.1 in /opt/conda/lib/python3.10/site-packages (from pydantic!=1.8,!=1.8.1,<3.0.0,>=1.7.4->spacy<3.8.0,>=3.7.0->es-core-news-sm==3.7.0) (4.9.0)\r\n",
      "Requirement already satisfied: charset-normalizer<4,>=2 in /opt/conda/lib/python3.10/site-packages (from requests<3.0.0,>=2.13.0->spacy<3.8.0,>=3.7.0->es-core-news-sm==3.7.0) (3.3.2)\r\n",
      "Requirement already satisfied: idna<4,>=2.5 in /opt/conda/lib/python3.10/site-packages (from requests<3.0.0,>=2.13.0->spacy<3.8.0,>=3.7.0->es-core-news-sm==3.7.0) (3.6)\r\n",
      "Requirement already satisfied: urllib3<3,>=1.21.1 in /opt/conda/lib/python3.10/site-packages (from requests<3.0.0,>=2.13.0->spacy<3.8.0,>=3.7.0->es-core-news-sm==3.7.0) (1.26.18)\r\n",
      "Requirement already satisfied: certifi>=2017.4.17 in /opt/conda/lib/python3.10/site-packages (from requests<3.0.0,>=2.13.0->spacy<3.8.0,>=3.7.0->es-core-news-sm==3.7.0) (2024.7.4)\r\n",
      "Requirement already satisfied: blis<0.8.0,>=0.7.8 in /opt/conda/lib/python3.10/site-packages (from thinc<8.3.0,>=8.2.2->spacy<3.8.0,>=3.7.0->es-core-news-sm==3.7.0) (0.7.11)\r\n",
      "Requirement already satisfied: confection<1.0.0,>=0.0.1 in /opt/conda/lib/python3.10/site-packages (from thinc<8.3.0,>=8.2.2->spacy<3.8.0,>=3.7.0->es-core-news-sm==3.7.0) (0.1.5)\r\n",
      "Requirement already satisfied: click<9.0.0,>=7.1.1 in /opt/conda/lib/python3.10/site-packages (from typer<1.0.0,>=0.3.0->spacy<3.8.0,>=3.7.0->es-core-news-sm==3.7.0) (8.1.7)\r\n",
      "Requirement already satisfied: cloudpathlib<1.0.0,>=0.7.0 in /opt/conda/lib/python3.10/site-packages (from weasel<0.5.0,>=0.1.0->spacy<3.8.0,>=3.7.0->es-core-news-sm==3.7.0) (0.18.1)\r\n",
      "Requirement already satisfied: smart-open<8.0.0,>=5.2.1 in /opt/conda/lib/python3.10/site-packages (from weasel<0.5.0,>=0.1.0->spacy<3.8.0,>=3.7.0->es-core-news-sm==3.7.0) (6.4.0)\r\n",
      "Requirement already satisfied: MarkupSafe>=2.0 in /opt/conda/lib/python3.10/site-packages (from jinja2->spacy<3.8.0,>=3.7.0->es-core-news-sm==3.7.0) (2.1.3)\r\n",
      "Requirement already satisfied: marisa-trie>=0.7.7 in /opt/conda/lib/python3.10/site-packages (from language-data>=1.2->langcodes<4.0.0,>=3.2.0->spacy<3.8.0,>=3.7.0->es-core-news-sm==3.7.0) (1.2.0)\r\n",
      "Installing collected packages: es-core-news-sm\r\n",
      "Successfully installed es-core-news-sm-3.7.0\r\n",
      "\u001b[38;5;2m✔ Download and installation successful\u001b[0m\r\n",
      "You can now load the package via spacy.load('es_core_news_sm')\r\n",
      "Collecting de-core-news-sm==3.7.0\r\n",
      "  Downloading https://github.com/explosion/spacy-models/releases/download/de_core_news_sm-3.7.0/de_core_news_sm-3.7.0-py3-none-any.whl (14.6 MB)\r\n",
      "\u001b[2K     \u001b[90m━━━━━━━━━━━━━━━━━━━━━━━━━━━━━━━━━━━━━━━━\u001b[0m \u001b[32m14.6/14.6 MB\u001b[0m \u001b[31m72.3 MB/s\u001b[0m eta \u001b[36m0:00:00\u001b[0m\r\n",
      "\u001b[?25hRequirement already satisfied: spacy<3.8.0,>=3.7.0 in /opt/conda/lib/python3.10/site-packages (from de-core-news-sm==3.7.0) (3.7.5)\r\n",
      "Requirement already satisfied: spacy-legacy<3.1.0,>=3.0.11 in /opt/conda/lib/python3.10/site-packages (from spacy<3.8.0,>=3.7.0->de-core-news-sm==3.7.0) (3.0.12)\r\n",
      "Requirement already satisfied: spacy-loggers<2.0.0,>=1.0.0 in /opt/conda/lib/python3.10/site-packages (from spacy<3.8.0,>=3.7.0->de-core-news-sm==3.7.0) (1.0.5)\r\n",
      "Requirement already satisfied: murmurhash<1.1.0,>=0.28.0 in /opt/conda/lib/python3.10/site-packages (from spacy<3.8.0,>=3.7.0->de-core-news-sm==3.7.0) (1.0.10)\r\n",
      "Requirement already satisfied: cymem<2.1.0,>=2.0.2 in /opt/conda/lib/python3.10/site-packages (from spacy<3.8.0,>=3.7.0->de-core-news-sm==3.7.0) (2.0.8)\r\n",
      "Requirement already satisfied: preshed<3.1.0,>=3.0.2 in /opt/conda/lib/python3.10/site-packages (from spacy<3.8.0,>=3.7.0->de-core-news-sm==3.7.0) (3.0.9)\r\n",
      "Requirement already satisfied: thinc<8.3.0,>=8.2.2 in /opt/conda/lib/python3.10/site-packages (from spacy<3.8.0,>=3.7.0->de-core-news-sm==3.7.0) (8.2.5)\r\n",
      "Requirement already satisfied: wasabi<1.2.0,>=0.9.1 in /opt/conda/lib/python3.10/site-packages (from spacy<3.8.0,>=3.7.0->de-core-news-sm==3.7.0) (1.1.3)\r\n",
      "Requirement already satisfied: srsly<3.0.0,>=2.4.3 in /opt/conda/lib/python3.10/site-packages (from spacy<3.8.0,>=3.7.0->de-core-news-sm==3.7.0) (2.4.8)\r\n",
      "Requirement already satisfied: catalogue<2.1.0,>=2.0.6 in /opt/conda/lib/python3.10/site-packages (from spacy<3.8.0,>=3.7.0->de-core-news-sm==3.7.0) (2.0.10)\r\n",
      "Requirement already satisfied: weasel<0.5.0,>=0.1.0 in /opt/conda/lib/python3.10/site-packages (from spacy<3.8.0,>=3.7.0->de-core-news-sm==3.7.0) (0.4.1)\r\n",
      "Requirement already satisfied: typer<1.0.0,>=0.3.0 in /opt/conda/lib/python3.10/site-packages (from spacy<3.8.0,>=3.7.0->de-core-news-sm==3.7.0) (0.9.0)\r\n",
      "Requirement already satisfied: tqdm<5.0.0,>=4.38.0 in /opt/conda/lib/python3.10/site-packages (from spacy<3.8.0,>=3.7.0->de-core-news-sm==3.7.0) (4.66.4)\r\n",
      "Requirement already satisfied: requests<3.0.0,>=2.13.0 in /opt/conda/lib/python3.10/site-packages (from spacy<3.8.0,>=3.7.0->de-core-news-sm==3.7.0) (2.32.3)\r\n",
      "Requirement already satisfied: pydantic!=1.8,!=1.8.1,<3.0.0,>=1.7.4 in /opt/conda/lib/python3.10/site-packages (from spacy<3.8.0,>=3.7.0->de-core-news-sm==3.7.0) (2.5.3)\r\n",
      "Requirement already satisfied: jinja2 in /opt/conda/lib/python3.10/site-packages (from spacy<3.8.0,>=3.7.0->de-core-news-sm==3.7.0) (3.1.2)\r\n",
      "Requirement already satisfied: setuptools in /opt/conda/lib/python3.10/site-packages (from spacy<3.8.0,>=3.7.0->de-core-news-sm==3.7.0) (69.0.3)\r\n",
      "Requirement already satisfied: packaging>=20.0 in /opt/conda/lib/python3.10/site-packages (from spacy<3.8.0,>=3.7.0->de-core-news-sm==3.7.0) (21.3)\r\n",
      "Requirement already satisfied: langcodes<4.0.0,>=3.2.0 in /opt/conda/lib/python3.10/site-packages (from spacy<3.8.0,>=3.7.0->de-core-news-sm==3.7.0) (3.4.0)\r\n",
      "Requirement already satisfied: numpy>=1.19.0 in /opt/conda/lib/python3.10/site-packages (from spacy<3.8.0,>=3.7.0->de-core-news-sm==3.7.0) (1.26.4)\r\n",
      "Requirement already satisfied: language-data>=1.2 in /opt/conda/lib/python3.10/site-packages (from langcodes<4.0.0,>=3.2.0->spacy<3.8.0,>=3.7.0->de-core-news-sm==3.7.0) (1.2.0)\r\n",
      "Requirement already satisfied: pyparsing!=3.0.5,>=2.0.2 in /opt/conda/lib/python3.10/site-packages (from packaging>=20.0->spacy<3.8.0,>=3.7.0->de-core-news-sm==3.7.0) (3.1.1)\r\n",
      "Requirement already satisfied: annotated-types>=0.4.0 in /opt/conda/lib/python3.10/site-packages (from pydantic!=1.8,!=1.8.1,<3.0.0,>=1.7.4->spacy<3.8.0,>=3.7.0->de-core-news-sm==3.7.0) (0.6.0)\r\n",
      "Requirement already satisfied: pydantic-core==2.14.6 in /opt/conda/lib/python3.10/site-packages (from pydantic!=1.8,!=1.8.1,<3.0.0,>=1.7.4->spacy<3.8.0,>=3.7.0->de-core-news-sm==3.7.0) (2.14.6)\r\n",
      "Requirement already satisfied: typing-extensions>=4.6.1 in /opt/conda/lib/python3.10/site-packages (from pydantic!=1.8,!=1.8.1,<3.0.0,>=1.7.4->spacy<3.8.0,>=3.7.0->de-core-news-sm==3.7.0) (4.9.0)\r\n",
      "Requirement already satisfied: charset-normalizer<4,>=2 in /opt/conda/lib/python3.10/site-packages (from requests<3.0.0,>=2.13.0->spacy<3.8.0,>=3.7.0->de-core-news-sm==3.7.0) (3.3.2)\r\n",
      "Requirement already satisfied: idna<4,>=2.5 in /opt/conda/lib/python3.10/site-packages (from requests<3.0.0,>=2.13.0->spacy<3.8.0,>=3.7.0->de-core-news-sm==3.7.0) (3.6)\r\n",
      "Requirement already satisfied: urllib3<3,>=1.21.1 in /opt/conda/lib/python3.10/site-packages (from requests<3.0.0,>=2.13.0->spacy<3.8.0,>=3.7.0->de-core-news-sm==3.7.0) (1.26.18)\r\n",
      "Requirement already satisfied: certifi>=2017.4.17 in /opt/conda/lib/python3.10/site-packages (from requests<3.0.0,>=2.13.0->spacy<3.8.0,>=3.7.0->de-core-news-sm==3.7.0) (2024.7.4)\r\n",
      "Requirement already satisfied: blis<0.8.0,>=0.7.8 in /opt/conda/lib/python3.10/site-packages (from thinc<8.3.0,>=8.2.2->spacy<3.8.0,>=3.7.0->de-core-news-sm==3.7.0) (0.7.11)\r\n",
      "Requirement already satisfied: confection<1.0.0,>=0.0.1 in /opt/conda/lib/python3.10/site-packages (from thinc<8.3.0,>=8.2.2->spacy<3.8.0,>=3.7.0->de-core-news-sm==3.7.0) (0.1.5)\r\n",
      "Requirement already satisfied: click<9.0.0,>=7.1.1 in /opt/conda/lib/python3.10/site-packages (from typer<1.0.0,>=0.3.0->spacy<3.8.0,>=3.7.0->de-core-news-sm==3.7.0) (8.1.7)\r\n",
      "Requirement already satisfied: cloudpathlib<1.0.0,>=0.7.0 in /opt/conda/lib/python3.10/site-packages (from weasel<0.5.0,>=0.1.0->spacy<3.8.0,>=3.7.0->de-core-news-sm==3.7.0) (0.18.1)\r\n",
      "Requirement already satisfied: smart-open<8.0.0,>=5.2.1 in /opt/conda/lib/python3.10/site-packages (from weasel<0.5.0,>=0.1.0->spacy<3.8.0,>=3.7.0->de-core-news-sm==3.7.0) (6.4.0)\r\n",
      "Requirement already satisfied: MarkupSafe>=2.0 in /opt/conda/lib/python3.10/site-packages (from jinja2->spacy<3.8.0,>=3.7.0->de-core-news-sm==3.7.0) (2.1.3)\r\n",
      "Requirement already satisfied: marisa-trie>=0.7.7 in /opt/conda/lib/python3.10/site-packages (from language-data>=1.2->langcodes<4.0.0,>=3.2.0->spacy<3.8.0,>=3.7.0->de-core-news-sm==3.7.0) (1.2.0)\r\n",
      "Installing collected packages: de-core-news-sm\r\n",
      "Successfully installed de-core-news-sm-3.7.0\r\n",
      "\u001b[38;5;2m✔ Download and installation successful\u001b[0m\r\n",
      "You can now load the package via spacy.load('de_core_news_sm')\r\n",
      "Collecting fr-core-news-sm==3.7.0\r\n",
      "  Downloading https://github.com/explosion/spacy-models/releases/download/fr_core_news_sm-3.7.0/fr_core_news_sm-3.7.0-py3-none-any.whl (16.3 MB)\r\n",
      "\u001b[2K     \u001b[90m━━━━━━━━━━━━━━━━━━━━━━━━━━━━━━━━━━━━━━━━\u001b[0m \u001b[32m16.3/16.3 MB\u001b[0m \u001b[31m71.2 MB/s\u001b[0m eta \u001b[36m0:00:00\u001b[0m\r\n",
      "\u001b[?25hRequirement already satisfied: spacy<3.8.0,>=3.7.0 in /opt/conda/lib/python3.10/site-packages (from fr-core-news-sm==3.7.0) (3.7.5)\r\n",
      "Requirement already satisfied: spacy-legacy<3.1.0,>=3.0.11 in /opt/conda/lib/python3.10/site-packages (from spacy<3.8.0,>=3.7.0->fr-core-news-sm==3.7.0) (3.0.12)\r\n",
      "Requirement already satisfied: spacy-loggers<2.0.0,>=1.0.0 in /opt/conda/lib/python3.10/site-packages (from spacy<3.8.0,>=3.7.0->fr-core-news-sm==3.7.0) (1.0.5)\r\n",
      "Requirement already satisfied: murmurhash<1.1.0,>=0.28.0 in /opt/conda/lib/python3.10/site-packages (from spacy<3.8.0,>=3.7.0->fr-core-news-sm==3.7.0) (1.0.10)\r\n",
      "Requirement already satisfied: cymem<2.1.0,>=2.0.2 in /opt/conda/lib/python3.10/site-packages (from spacy<3.8.0,>=3.7.0->fr-core-news-sm==3.7.0) (2.0.8)\r\n",
      "Requirement already satisfied: preshed<3.1.0,>=3.0.2 in /opt/conda/lib/python3.10/site-packages (from spacy<3.8.0,>=3.7.0->fr-core-news-sm==3.7.0) (3.0.9)\r\n",
      "Requirement already satisfied: thinc<8.3.0,>=8.2.2 in /opt/conda/lib/python3.10/site-packages (from spacy<3.8.0,>=3.7.0->fr-core-news-sm==3.7.0) (8.2.5)\r\n",
      "Requirement already satisfied: wasabi<1.2.0,>=0.9.1 in /opt/conda/lib/python3.10/site-packages (from spacy<3.8.0,>=3.7.0->fr-core-news-sm==3.7.0) (1.1.3)\r\n",
      "Requirement already satisfied: srsly<3.0.0,>=2.4.3 in /opt/conda/lib/python3.10/site-packages (from spacy<3.8.0,>=3.7.0->fr-core-news-sm==3.7.0) (2.4.8)\r\n",
      "Requirement already satisfied: catalogue<2.1.0,>=2.0.6 in /opt/conda/lib/python3.10/site-packages (from spacy<3.8.0,>=3.7.0->fr-core-news-sm==3.7.0) (2.0.10)\r\n",
      "Requirement already satisfied: weasel<0.5.0,>=0.1.0 in /opt/conda/lib/python3.10/site-packages (from spacy<3.8.0,>=3.7.0->fr-core-news-sm==3.7.0) (0.4.1)\r\n",
      "Requirement already satisfied: typer<1.0.0,>=0.3.0 in /opt/conda/lib/python3.10/site-packages (from spacy<3.8.0,>=3.7.0->fr-core-news-sm==3.7.0) (0.9.0)\r\n",
      "Requirement already satisfied: tqdm<5.0.0,>=4.38.0 in /opt/conda/lib/python3.10/site-packages (from spacy<3.8.0,>=3.7.0->fr-core-news-sm==3.7.0) (4.66.4)\r\n",
      "Requirement already satisfied: requests<3.0.0,>=2.13.0 in /opt/conda/lib/python3.10/site-packages (from spacy<3.8.0,>=3.7.0->fr-core-news-sm==3.7.0) (2.32.3)\r\n",
      "Requirement already satisfied: pydantic!=1.8,!=1.8.1,<3.0.0,>=1.7.4 in /opt/conda/lib/python3.10/site-packages (from spacy<3.8.0,>=3.7.0->fr-core-news-sm==3.7.0) (2.5.3)\r\n",
      "Requirement already satisfied: jinja2 in /opt/conda/lib/python3.10/site-packages (from spacy<3.8.0,>=3.7.0->fr-core-news-sm==3.7.0) (3.1.2)\r\n",
      "Requirement already satisfied: setuptools in /opt/conda/lib/python3.10/site-packages (from spacy<3.8.0,>=3.7.0->fr-core-news-sm==3.7.0) (69.0.3)\r\n",
      "Requirement already satisfied: packaging>=20.0 in /opt/conda/lib/python3.10/site-packages (from spacy<3.8.0,>=3.7.0->fr-core-news-sm==3.7.0) (21.3)\r\n",
      "Requirement already satisfied: langcodes<4.0.0,>=3.2.0 in /opt/conda/lib/python3.10/site-packages (from spacy<3.8.0,>=3.7.0->fr-core-news-sm==3.7.0) (3.4.0)\r\n",
      "Requirement already satisfied: numpy>=1.19.0 in /opt/conda/lib/python3.10/site-packages (from spacy<3.8.0,>=3.7.0->fr-core-news-sm==3.7.0) (1.26.4)\r\n",
      "Requirement already satisfied: language-data>=1.2 in /opt/conda/lib/python3.10/site-packages (from langcodes<4.0.0,>=3.2.0->spacy<3.8.0,>=3.7.0->fr-core-news-sm==3.7.0) (1.2.0)\r\n",
      "Requirement already satisfied: pyparsing!=3.0.5,>=2.0.2 in /opt/conda/lib/python3.10/site-packages (from packaging>=20.0->spacy<3.8.0,>=3.7.0->fr-core-news-sm==3.7.0) (3.1.1)\r\n",
      "Requirement already satisfied: annotated-types>=0.4.0 in /opt/conda/lib/python3.10/site-packages (from pydantic!=1.8,!=1.8.1,<3.0.0,>=1.7.4->spacy<3.8.0,>=3.7.0->fr-core-news-sm==3.7.0) (0.6.0)\r\n",
      "Requirement already satisfied: pydantic-core==2.14.6 in /opt/conda/lib/python3.10/site-packages (from pydantic!=1.8,!=1.8.1,<3.0.0,>=1.7.4->spacy<3.8.0,>=3.7.0->fr-core-news-sm==3.7.0) (2.14.6)\r\n",
      "Requirement already satisfied: typing-extensions>=4.6.1 in /opt/conda/lib/python3.10/site-packages (from pydantic!=1.8,!=1.8.1,<3.0.0,>=1.7.4->spacy<3.8.0,>=3.7.0->fr-core-news-sm==3.7.0) (4.9.0)\r\n",
      "Requirement already satisfied: charset-normalizer<4,>=2 in /opt/conda/lib/python3.10/site-packages (from requests<3.0.0,>=2.13.0->spacy<3.8.0,>=3.7.0->fr-core-news-sm==3.7.0) (3.3.2)\r\n",
      "Requirement already satisfied: idna<4,>=2.5 in /opt/conda/lib/python3.10/site-packages (from requests<3.0.0,>=2.13.0->spacy<3.8.0,>=3.7.0->fr-core-news-sm==3.7.0) (3.6)\r\n",
      "Requirement already satisfied: urllib3<3,>=1.21.1 in /opt/conda/lib/python3.10/site-packages (from requests<3.0.0,>=2.13.0->spacy<3.8.0,>=3.7.0->fr-core-news-sm==3.7.0) (1.26.18)\r\n",
      "Requirement already satisfied: certifi>=2017.4.17 in /opt/conda/lib/python3.10/site-packages (from requests<3.0.0,>=2.13.0->spacy<3.8.0,>=3.7.0->fr-core-news-sm==3.7.0) (2024.7.4)\r\n",
      "Requirement already satisfied: blis<0.8.0,>=0.7.8 in /opt/conda/lib/python3.10/site-packages (from thinc<8.3.0,>=8.2.2->spacy<3.8.0,>=3.7.0->fr-core-news-sm==3.7.0) (0.7.11)\r\n",
      "Requirement already satisfied: confection<1.0.0,>=0.0.1 in /opt/conda/lib/python3.10/site-packages (from thinc<8.3.0,>=8.2.2->spacy<3.8.0,>=3.7.0->fr-core-news-sm==3.7.0) (0.1.5)\r\n",
      "Requirement already satisfied: click<9.0.0,>=7.1.1 in /opt/conda/lib/python3.10/site-packages (from typer<1.0.0,>=0.3.0->spacy<3.8.0,>=3.7.0->fr-core-news-sm==3.7.0) (8.1.7)\r\n",
      "Requirement already satisfied: cloudpathlib<1.0.0,>=0.7.0 in /opt/conda/lib/python3.10/site-packages (from weasel<0.5.0,>=0.1.0->spacy<3.8.0,>=3.7.0->fr-core-news-sm==3.7.0) (0.18.1)\r\n",
      "Requirement already satisfied: smart-open<8.0.0,>=5.2.1 in /opt/conda/lib/python3.10/site-packages (from weasel<0.5.0,>=0.1.0->spacy<3.8.0,>=3.7.0->fr-core-news-sm==3.7.0) (6.4.0)\r\n",
      "Requirement already satisfied: MarkupSafe>=2.0 in /opt/conda/lib/python3.10/site-packages (from jinja2->spacy<3.8.0,>=3.7.0->fr-core-news-sm==3.7.0) (2.1.3)\r\n",
      "Requirement already satisfied: marisa-trie>=0.7.7 in /opt/conda/lib/python3.10/site-packages (from language-data>=1.2->langcodes<4.0.0,>=3.2.0->spacy<3.8.0,>=3.7.0->fr-core-news-sm==3.7.0) (1.2.0)\r\n",
      "Installing collected packages: fr-core-news-sm\r\n",
      "Successfully installed fr-core-news-sm-3.7.0\r\n",
      "\u001b[38;5;2m✔ Download and installation successful\u001b[0m\r\n",
      "You can now load the package via spacy.load('fr_core_news_sm')\r\n",
      "Collecting pt-core-news-sm==3.7.0\r\n",
      "  Downloading https://github.com/explosion/spacy-models/releases/download/pt_core_news_sm-3.7.0/pt_core_news_sm-3.7.0-py3-none-any.whl (13.0 MB)\r\n",
      "\u001b[2K     \u001b[90m━━━━━━━━━━━━━━━━━━━━━━━━━━━━━━━━━━━━━━━━\u001b[0m \u001b[32m13.0/13.0 MB\u001b[0m \u001b[31m80.4 MB/s\u001b[0m eta \u001b[36m0:00:00\u001b[0m\r\n",
      "\u001b[?25hRequirement already satisfied: spacy<3.8.0,>=3.7.0 in /opt/conda/lib/python3.10/site-packages (from pt-core-news-sm==3.7.0) (3.7.5)\r\n",
      "Requirement already satisfied: spacy-legacy<3.1.0,>=3.0.11 in /opt/conda/lib/python3.10/site-packages (from spacy<3.8.0,>=3.7.0->pt-core-news-sm==3.7.0) (3.0.12)\r\n",
      "Requirement already satisfied: spacy-loggers<2.0.0,>=1.0.0 in /opt/conda/lib/python3.10/site-packages (from spacy<3.8.0,>=3.7.0->pt-core-news-sm==3.7.0) (1.0.5)\r\n",
      "Requirement already satisfied: murmurhash<1.1.0,>=0.28.0 in /opt/conda/lib/python3.10/site-packages (from spacy<3.8.0,>=3.7.0->pt-core-news-sm==3.7.0) (1.0.10)\r\n",
      "Requirement already satisfied: cymem<2.1.0,>=2.0.2 in /opt/conda/lib/python3.10/site-packages (from spacy<3.8.0,>=3.7.0->pt-core-news-sm==3.7.0) (2.0.8)\r\n",
      "Requirement already satisfied: preshed<3.1.0,>=3.0.2 in /opt/conda/lib/python3.10/site-packages (from spacy<3.8.0,>=3.7.0->pt-core-news-sm==3.7.0) (3.0.9)\r\n",
      "Requirement already satisfied: thinc<8.3.0,>=8.2.2 in /opt/conda/lib/python3.10/site-packages (from spacy<3.8.0,>=3.7.0->pt-core-news-sm==3.7.0) (8.2.5)\r\n",
      "Requirement already satisfied: wasabi<1.2.0,>=0.9.1 in /opt/conda/lib/python3.10/site-packages (from spacy<3.8.0,>=3.7.0->pt-core-news-sm==3.7.0) (1.1.3)\r\n",
      "Requirement already satisfied: srsly<3.0.0,>=2.4.3 in /opt/conda/lib/python3.10/site-packages (from spacy<3.8.0,>=3.7.0->pt-core-news-sm==3.7.0) (2.4.8)\r\n",
      "Requirement already satisfied: catalogue<2.1.0,>=2.0.6 in /opt/conda/lib/python3.10/site-packages (from spacy<3.8.0,>=3.7.0->pt-core-news-sm==3.7.0) (2.0.10)\r\n",
      "Requirement already satisfied: weasel<0.5.0,>=0.1.0 in /opt/conda/lib/python3.10/site-packages (from spacy<3.8.0,>=3.7.0->pt-core-news-sm==3.7.0) (0.4.1)\r\n",
      "Requirement already satisfied: typer<1.0.0,>=0.3.0 in /opt/conda/lib/python3.10/site-packages (from spacy<3.8.0,>=3.7.0->pt-core-news-sm==3.7.0) (0.9.0)\r\n",
      "Requirement already satisfied: tqdm<5.0.0,>=4.38.0 in /opt/conda/lib/python3.10/site-packages (from spacy<3.8.0,>=3.7.0->pt-core-news-sm==3.7.0) (4.66.4)\r\n",
      "Requirement already satisfied: requests<3.0.0,>=2.13.0 in /opt/conda/lib/python3.10/site-packages (from spacy<3.8.0,>=3.7.0->pt-core-news-sm==3.7.0) (2.32.3)\r\n",
      "Requirement already satisfied: pydantic!=1.8,!=1.8.1,<3.0.0,>=1.7.4 in /opt/conda/lib/python3.10/site-packages (from spacy<3.8.0,>=3.7.0->pt-core-news-sm==3.7.0) (2.5.3)\r\n",
      "Requirement already satisfied: jinja2 in /opt/conda/lib/python3.10/site-packages (from spacy<3.8.0,>=3.7.0->pt-core-news-sm==3.7.0) (3.1.2)\r\n",
      "Requirement already satisfied: setuptools in /opt/conda/lib/python3.10/site-packages (from spacy<3.8.0,>=3.7.0->pt-core-news-sm==3.7.0) (69.0.3)\r\n",
      "Requirement already satisfied: packaging>=20.0 in /opt/conda/lib/python3.10/site-packages (from spacy<3.8.0,>=3.7.0->pt-core-news-sm==3.7.0) (21.3)\r\n",
      "Requirement already satisfied: langcodes<4.0.0,>=3.2.0 in /opt/conda/lib/python3.10/site-packages (from spacy<3.8.0,>=3.7.0->pt-core-news-sm==3.7.0) (3.4.0)\r\n",
      "Requirement already satisfied: numpy>=1.19.0 in /opt/conda/lib/python3.10/site-packages (from spacy<3.8.0,>=3.7.0->pt-core-news-sm==3.7.0) (1.26.4)\r\n",
      "Requirement already satisfied: language-data>=1.2 in /opt/conda/lib/python3.10/site-packages (from langcodes<4.0.0,>=3.2.0->spacy<3.8.0,>=3.7.0->pt-core-news-sm==3.7.0) (1.2.0)\r\n",
      "Requirement already satisfied: pyparsing!=3.0.5,>=2.0.2 in /opt/conda/lib/python3.10/site-packages (from packaging>=20.0->spacy<3.8.0,>=3.7.0->pt-core-news-sm==3.7.0) (3.1.1)\r\n",
      "Requirement already satisfied: annotated-types>=0.4.0 in /opt/conda/lib/python3.10/site-packages (from pydantic!=1.8,!=1.8.1,<3.0.0,>=1.7.4->spacy<3.8.0,>=3.7.0->pt-core-news-sm==3.7.0) (0.6.0)\r\n",
      "Requirement already satisfied: pydantic-core==2.14.6 in /opt/conda/lib/python3.10/site-packages (from pydantic!=1.8,!=1.8.1,<3.0.0,>=1.7.4->spacy<3.8.0,>=3.7.0->pt-core-news-sm==3.7.0) (2.14.6)\r\n",
      "Requirement already satisfied: typing-extensions>=4.6.1 in /opt/conda/lib/python3.10/site-packages (from pydantic!=1.8,!=1.8.1,<3.0.0,>=1.7.4->spacy<3.8.0,>=3.7.0->pt-core-news-sm==3.7.0) (4.9.0)\r\n",
      "Requirement already satisfied: charset-normalizer<4,>=2 in /opt/conda/lib/python3.10/site-packages (from requests<3.0.0,>=2.13.0->spacy<3.8.0,>=3.7.0->pt-core-news-sm==3.7.0) (3.3.2)\r\n",
      "Requirement already satisfied: idna<4,>=2.5 in /opt/conda/lib/python3.10/site-packages (from requests<3.0.0,>=2.13.0->spacy<3.8.0,>=3.7.0->pt-core-news-sm==3.7.0) (3.6)\r\n",
      "Requirement already satisfied: urllib3<3,>=1.21.1 in /opt/conda/lib/python3.10/site-packages (from requests<3.0.0,>=2.13.0->spacy<3.8.0,>=3.7.0->pt-core-news-sm==3.7.0) (1.26.18)\r\n",
      "Requirement already satisfied: certifi>=2017.4.17 in /opt/conda/lib/python3.10/site-packages (from requests<3.0.0,>=2.13.0->spacy<3.8.0,>=3.7.0->pt-core-news-sm==3.7.0) (2024.7.4)\r\n",
      "Requirement already satisfied: blis<0.8.0,>=0.7.8 in /opt/conda/lib/python3.10/site-packages (from thinc<8.3.0,>=8.2.2->spacy<3.8.0,>=3.7.0->pt-core-news-sm==3.7.0) (0.7.11)\r\n",
      "Requirement already satisfied: confection<1.0.0,>=0.0.1 in /opt/conda/lib/python3.10/site-packages (from thinc<8.3.0,>=8.2.2->spacy<3.8.0,>=3.7.0->pt-core-news-sm==3.7.0) (0.1.5)\r\n",
      "Requirement already satisfied: click<9.0.0,>=7.1.1 in /opt/conda/lib/python3.10/site-packages (from typer<1.0.0,>=0.3.0->spacy<3.8.0,>=3.7.0->pt-core-news-sm==3.7.0) (8.1.7)\r\n",
      "Requirement already satisfied: cloudpathlib<1.0.0,>=0.7.0 in /opt/conda/lib/python3.10/site-packages (from weasel<0.5.0,>=0.1.0->spacy<3.8.0,>=3.7.0->pt-core-news-sm==3.7.0) (0.18.1)\r\n",
      "Requirement already satisfied: smart-open<8.0.0,>=5.2.1 in /opt/conda/lib/python3.10/site-packages (from weasel<0.5.0,>=0.1.0->spacy<3.8.0,>=3.7.0->pt-core-news-sm==3.7.0) (6.4.0)\r\n",
      "Requirement already satisfied: MarkupSafe>=2.0 in /opt/conda/lib/python3.10/site-packages (from jinja2->spacy<3.8.0,>=3.7.0->pt-core-news-sm==3.7.0) (2.1.3)\r\n",
      "Requirement already satisfied: marisa-trie>=0.7.7 in /opt/conda/lib/python3.10/site-packages (from language-data>=1.2->langcodes<4.0.0,>=3.2.0->spacy<3.8.0,>=3.7.0->pt-core-news-sm==3.7.0) (1.2.0)\r\n",
      "Installing collected packages: pt-core-news-sm\r\n",
      "Successfully installed pt-core-news-sm-3.7.0\r\n",
      "\u001b[38;5;2m✔ Download and installation successful\u001b[0m\r\n",
      "You can now load the package via spacy.load('pt_core_news_sm')\r\n"
     ]
    }
   ],
   "source": [
    "try:\n",
    "    # Load spaCy models with parser and NER disabled to optimize speed\n",
    "    nlp_en = spacy.load('en_core_web_sm', disable=['parser', 'ner'])  # English\n",
    "    nlp_es = spacy.load('es_core_news_sm', disable=['parser', 'ner'])  # Spanish\n",
    "    nlp_de = spacy.load('de_core_news_sm', disable=['parser', 'ner'])  # German\n",
    "    nlp_fr = spacy.load('fr_core_news_sm', disable=['parser', 'ner'])  # French\n",
    "    nlp_pt = spacy.load('pt_core_news_sm', disable=['parser', 'ner'])  # Portuguese\n",
    "    \n",
    "except:\n",
    "    # Download the language models\n",
    "    ! python -m spacy download en_core_web_sm  # English\n",
    "    ! python -m spacy download es_core_news_sm  # Spanish\n",
    "    ! python -m spacy download de_core_news_sm  # German\n",
    "    ! python -m spacy download fr_core_news_sm  # French\n",
    "    ! python -m spacy download pt_core_news_sm  # Portuguese\n",
    "    \n",
    "    # Load spaCy models with parser and NER disabled to optimize speed\n",
    "    nlp_en = spacy.load('en_core_web_sm', disable=['parser', 'ner'])  # English\n",
    "    nlp_es = spacy.load('es_core_news_sm', disable=['parser', 'ner'])  # Spanish\n",
    "    nlp_de = spacy.load('de_core_news_sm', disable=['parser', 'ner'])  # German\n",
    "    nlp_fr = spacy.load('fr_core_news_sm', disable=['parser', 'ner'])  # French\n",
    "    nlp_pt = spacy.load('pt_core_news_sm', disable=['parser', 'ner'])  # Portuguese"
   ]
  },
  {
   "cell_type": "code",
   "execution_count": 26,
   "id": "89783e4c",
   "metadata": {
    "execution": {
     "iopub.execute_input": "2024-11-20T11:56:49.960927Z",
     "iopub.status.busy": "2024-11-20T11:56:49.960022Z",
     "iopub.status.idle": "2024-11-20T11:57:49.721037Z",
     "shell.execute_reply": "2024-11-20T11:57:49.719961Z"
    },
    "papermill": {
     "duration": 59.80615,
     "end_time": "2024-11-20T11:57:49.742945",
     "exception": false,
     "start_time": "2024-11-20T11:56:49.936795",
     "status": "completed"
    },
    "tags": []
   },
   "outputs": [
    {
     "data": {
      "text/html": [
       "<div>\n",
       "<style scoped>\n",
       "    .dataframe tbody tr th:only-of-type {\n",
       "        vertical-align: middle;\n",
       "    }\n",
       "\n",
       "    .dataframe tbody tr th {\n",
       "        vertical-align: top;\n",
       "    }\n",
       "\n",
       "    .dataframe thead th {\n",
       "        text-align: right;\n",
       "    }\n",
       "</style>\n",
       "<table border=\"1\" class=\"dataframe\">\n",
       "  <thead>\n",
       "    <tr style=\"text-align: right;\">\n",
       "      <th></th>\n",
       "      <th>label</th>\n",
       "      <th>language</th>\n",
       "      <th>text</th>\n",
       "    </tr>\n",
       "  </thead>\n",
       "  <tbody>\n",
       "    <tr>\n",
       "      <th>0</th>\n",
       "      <td>Customer Service</td>\n",
       "      <td>de</td>\n",
       "      <td>Anfrage Spezifikation anpassungsoptionen Macbo...</td>\n",
       "    </tr>\n",
       "    <tr>\n",
       "      <th>1</th>\n",
       "      <td>Product Support</td>\n",
       "      <td>fr</td>\n",
       "      <td>connexion fr quente plantage client signal con...</td>\n",
       "    </tr>\n",
       "    <tr>\n",
       "      <th>2</th>\n",
       "      <td>Returns and Exchanges</td>\n",
       "      <td>es</td>\n",
       "      <td>problema sonido dell xps problema sonido manej...</td>\n",
       "    </tr>\n",
       "    <tr>\n",
       "      <th>3</th>\n",
       "      <td>Product Support</td>\n",
       "      <td>fr</td>\n",
       "      <td>assistance requérir configuration tableau scru...</td>\n",
       "    </tr>\n",
       "    <tr>\n",
       "      <th>4</th>\n",
       "      <td>Human Resources</td>\n",
       "      <td>pt</td>\n",
       "      <td>urgente assist ncia imediato necess rio falha ...</td>\n",
       "    </tr>\n",
       "    <tr>\n",
       "      <th>...</th>\n",
       "      <td>...</td>\n",
       "      <td>...</td>\n",
       "      <td>...</td>\n",
       "    </tr>\n",
       "    <tr>\n",
       "      <th>595</th>\n",
       "      <td>IT Support</td>\n",
       "      <td>es</td>\n",
       "      <td>urgente problema conectividad router estimado ...</td>\n",
       "    </tr>\n",
       "    <tr>\n",
       "      <th>596</th>\n",
       "      <td>Technical Support</td>\n",
       "      <td>es</td>\n",
       "      <td>necesitar ayuda despliegue nuevo microservicio...</td>\n",
       "    </tr>\n",
       "    <tr>\n",
       "      <th>597</th>\n",
       "      <td>Technical Support</td>\n",
       "      <td>es</td>\n",
       "      <td>necesitar soportir urgente estimado soportir c...</td>\n",
       "    </tr>\n",
       "    <tr>\n",
       "      <th>598</th>\n",
       "      <td>Service Outages and Maintenance</td>\n",
       "      <td>pt</td>\n",
       "      <td>problema erro servidor caro suporte cliente Se...</td>\n",
       "    </tr>\n",
       "    <tr>\n",
       "      <th>599</th>\n",
       "      <td>Product Support</td>\n",
       "      <td>de</td>\n",
       "      <td>wiederholtes bildschirmflimmern Problem melden...</td>\n",
       "    </tr>\n",
       "  </tbody>\n",
       "</table>\n",
       "<p>600 rows × 3 columns</p>\n",
       "</div>"
      ],
      "text/plain": [
       "                               label language  \\\n",
       "0                   Customer Service       de   \n",
       "1                    Product Support       fr   \n",
       "2              Returns and Exchanges       es   \n",
       "3                    Product Support       fr   \n",
       "4                    Human Resources       pt   \n",
       "..                               ...      ...   \n",
       "595                       IT Support       es   \n",
       "596                Technical Support       es   \n",
       "597                Technical Support       es   \n",
       "598  Service Outages and Maintenance       pt   \n",
       "599                  Product Support       de   \n",
       "\n",
       "                                                  text  \n",
       "0    Anfrage Spezifikation anpassungsoptionen Macbo...  \n",
       "1    connexion fr quente plantage client signal con...  \n",
       "2    problema sonido dell xps problema sonido manej...  \n",
       "3    assistance requérir configuration tableau scru...  \n",
       "4    urgente assist ncia imediato necess rio falha ...  \n",
       "..                                                 ...  \n",
       "595  urgente problema conectividad router estimado ...  \n",
       "596  necesitar ayuda despliegue nuevo microservicio...  \n",
       "597  necesitar soportir urgente estimado soportir c...  \n",
       "598  problema erro servidor caro suporte cliente Se...  \n",
       "599  wiederholtes bildschirmflimmern Problem melden...  \n",
       "\n",
       "[600 rows x 3 columns]"
      ]
     },
     "execution_count": 26,
     "metadata": {},
     "output_type": "execute_result"
    }
   ],
   "source": [
    "# lemmatization \n",
    "\n",
    "# Function to get lemmatization using a specific language model\n",
    "def lemmatize_word(word, nlp):\n",
    "    doc = nlp(word)\n",
    "    return [token.lemma_ for token in doc][0]  # Return the first lemma\n",
    "\n",
    "# Applying lemmatization for words in each bag of words and combine words\n",
    "\n",
    "for i in range(len(text_classification_df)):\n",
    "    \n",
    "    if text_classification_df.loc[i, 'language'] == 'en':\n",
    "        text_classification_df['text'][i] = [lemmatize_word(word, nlp_en) for word in text_classification_df.loc[i, 'text']]\n",
    "    \n",
    "    elif text_classification_df['language'][i] == 'de':\n",
    "        text_classification_df['text'][i] = [lemmatize_word(word, nlp_de) for word in text_classification_df.loc[i, 'text']]\n",
    "\n",
    "            \n",
    "    elif text_classification_df.loc[i, 'language'] == 'es':\n",
    "        text_classification_df['text'][i] = [lemmatize_word(word, nlp_es) for word in text_classification_df.loc[i, 'text']]\n",
    "    \n",
    "    elif text_classification_df.loc[i, 'language'] == 'pt':\n",
    "        text_classification_df['text'][i] = [lemmatize_word(word, nlp_pt) for word in text_classification_df.loc[i, 'text']]\n",
    "    \n",
    "    else:\n",
    "        text_classification_df['text'][i] = [lemmatize_word(word, nlp_fr) for word in text_classification_df.loc[i, 'text']]\n",
    "        \n",
    "    text_classification_df['text'][i] = ' '.join(text_classification_df['text'][i])\n",
    "\n",
    "text_classification_df"
   ]
  },
  {
   "cell_type": "markdown",
   "id": "5a0a42de",
   "metadata": {
    "papermill": {
     "duration": 0.020359,
     "end_time": "2024-11-20T11:57:49.784329",
     "exception": false,
     "start_time": "2024-11-20T11:57:49.763970",
     "status": "completed"
    },
    "tags": []
   },
   "source": [
    "## logistic regression"
   ]
  },
  {
   "cell_type": "code",
   "execution_count": 27,
   "id": "2b6fd006",
   "metadata": {
    "execution": {
     "iopub.execute_input": "2024-11-20T11:57:49.829162Z",
     "iopub.status.busy": "2024-11-20T11:57:49.828752Z",
     "iopub.status.idle": "2024-11-20T11:57:49.834130Z",
     "shell.execute_reply": "2024-11-20T11:57:49.832973Z"
    },
    "papermill": {
     "duration": 0.030566,
     "end_time": "2024-11-20T11:57:49.836402",
     "exception": false,
     "start_time": "2024-11-20T11:57:49.805836",
     "status": "completed"
    },
    "tags": []
   },
   "outputs": [],
   "source": [
    "# import libraries for logistic regression\n",
    "from sklearn.feature_extraction.text import CountVectorizer #  for converting text data into a numeric format.\n",
    "from sklearn.model_selection import train_test_split\n",
    "from sklearn.linear_model import LogisticRegression\n",
    "from sklearn.metrics import accuracy_score, confusion_matrix, classification_report"
   ]
  },
  {
   "cell_type": "code",
   "execution_count": 28,
   "id": "5e36a212",
   "metadata": {
    "execution": {
     "iopub.execute_input": "2024-11-20T11:57:49.880718Z",
     "iopub.status.busy": "2024-11-20T11:57:49.880342Z",
     "iopub.status.idle": "2024-11-20T11:57:49.888842Z",
     "shell.execute_reply": "2024-11-20T11:57:49.887860Z"
    },
    "papermill": {
     "duration": 0.032859,
     "end_time": "2024-11-20T11:57:49.890805",
     "exception": false,
     "start_time": "2024-11-20T11:57:49.857946",
     "status": "completed"
    },
    "tags": []
   },
   "outputs": [
    {
     "name": "stdout",
     "output_type": "stream",
     "text": [
      "10\n"
     ]
    },
    {
     "data": {
      "text/plain": [
       "array(['Customer Service', 'Product Support', 'Returns and Exchanges',\n",
       "       'Human Resources', 'Billing and Payments', 'Technical Support',\n",
       "       'IT Support', 'Sales and Pre-Sales', 'General Inquiry',\n",
       "       'Service Outages and Maintenance'], dtype=object)"
      ]
     },
     "execution_count": 28,
     "metadata": {},
     "output_type": "execute_result"
    }
   ],
   "source": [
    "# map labels from text to numeric values\n",
    "print(text_classification_df['label'].nunique())\n",
    "text_classification_df['label'].unique()\n",
    "# we should map the labels from 0 to 9 respectively as they are written below"
   ]
  },
  {
   "cell_type": "code",
   "execution_count": 29,
   "id": "67101897",
   "metadata": {
    "execution": {
     "iopub.execute_input": "2024-11-20T11:57:49.934492Z",
     "iopub.status.busy": "2024-11-20T11:57:49.934125Z",
     "iopub.status.idle": "2024-11-20T11:57:49.941391Z",
     "shell.execute_reply": "2024-11-20T11:57:49.940342Z"
    },
    "papermill": {
     "duration": 0.031652,
     "end_time": "2024-11-20T11:57:49.943425",
     "exception": false,
     "start_time": "2024-11-20T11:57:49.911773",
     "status": "completed"
    },
    "tags": []
   },
   "outputs": [],
   "source": [
    "text_classification_df['numeric_labels'] = text_classification_df['label'].map({'Customer Service': 0,\n",
    "       'Product Support':1, 'Returns and Exchanges':2,\n",
    "       'Human Resources':3 , 'Billing and Payments' : 4, 'Technical Support': 5,\n",
    "       'IT Support':6 , 'Sales and Pre-Sales':7 , 'General Inquiry':8 ,\n",
    "       'Service Outages and Maintenance':9 })"
   ]
  },
  {
   "cell_type": "code",
   "execution_count": 30,
   "id": "41da43fb",
   "metadata": {
    "execution": {
     "iopub.execute_input": "2024-11-20T11:57:49.987594Z",
     "iopub.status.busy": "2024-11-20T11:57:49.987221Z",
     "iopub.status.idle": "2024-11-20T11:57:49.999096Z",
     "shell.execute_reply": "2024-11-20T11:57:49.998023Z"
    },
    "papermill": {
     "duration": 0.036811,
     "end_time": "2024-11-20T11:57:50.001280",
     "exception": false,
     "start_time": "2024-11-20T11:57:49.964469",
     "status": "completed"
    },
    "tags": []
   },
   "outputs": [
    {
     "data": {
      "text/html": [
       "<div>\n",
       "<style scoped>\n",
       "    .dataframe tbody tr th:only-of-type {\n",
       "        vertical-align: middle;\n",
       "    }\n",
       "\n",
       "    .dataframe tbody tr th {\n",
       "        vertical-align: top;\n",
       "    }\n",
       "\n",
       "    .dataframe thead th {\n",
       "        text-align: right;\n",
       "    }\n",
       "</style>\n",
       "<table border=\"1\" class=\"dataframe\">\n",
       "  <thead>\n",
       "    <tr style=\"text-align: right;\">\n",
       "      <th></th>\n",
       "      <th>label</th>\n",
       "      <th>language</th>\n",
       "      <th>text</th>\n",
       "      <th>numeric_labels</th>\n",
       "    </tr>\n",
       "  </thead>\n",
       "  <tbody>\n",
       "    <tr>\n",
       "      <th>0</th>\n",
       "      <td>Customer Service</td>\n",
       "      <td>de</td>\n",
       "      <td>Anfrage Spezifikation anpassungsoptionen Macbo...</td>\n",
       "      <td>0</td>\n",
       "    </tr>\n",
       "    <tr>\n",
       "      <th>1</th>\n",
       "      <td>Product Support</td>\n",
       "      <td>fr</td>\n",
       "      <td>connexion fr quente plantage client signal con...</td>\n",
       "      <td>1</td>\n",
       "    </tr>\n",
       "    <tr>\n",
       "      <th>2</th>\n",
       "      <td>Returns and Exchanges</td>\n",
       "      <td>es</td>\n",
       "      <td>problema sonido dell xps problema sonido manej...</td>\n",
       "      <td>2</td>\n",
       "    </tr>\n",
       "    <tr>\n",
       "      <th>3</th>\n",
       "      <td>Product Support</td>\n",
       "      <td>fr</td>\n",
       "      <td>assistance requérir configuration tableau scru...</td>\n",
       "      <td>1</td>\n",
       "    </tr>\n",
       "    <tr>\n",
       "      <th>4</th>\n",
       "      <td>Human Resources</td>\n",
       "      <td>pt</td>\n",
       "      <td>urgente assist ncia imediato necess rio falha ...</td>\n",
       "      <td>3</td>\n",
       "    </tr>\n",
       "    <tr>\n",
       "      <th>...</th>\n",
       "      <td>...</td>\n",
       "      <td>...</td>\n",
       "      <td>...</td>\n",
       "      <td>...</td>\n",
       "    </tr>\n",
       "    <tr>\n",
       "      <th>595</th>\n",
       "      <td>IT Support</td>\n",
       "      <td>es</td>\n",
       "      <td>urgente problema conectividad router estimado ...</td>\n",
       "      <td>6</td>\n",
       "    </tr>\n",
       "    <tr>\n",
       "      <th>596</th>\n",
       "      <td>Technical Support</td>\n",
       "      <td>es</td>\n",
       "      <td>necesitar ayuda despliegue nuevo microservicio...</td>\n",
       "      <td>5</td>\n",
       "    </tr>\n",
       "    <tr>\n",
       "      <th>597</th>\n",
       "      <td>Technical Support</td>\n",
       "      <td>es</td>\n",
       "      <td>necesitar soportir urgente estimado soportir c...</td>\n",
       "      <td>5</td>\n",
       "    </tr>\n",
       "    <tr>\n",
       "      <th>598</th>\n",
       "      <td>Service Outages and Maintenance</td>\n",
       "      <td>pt</td>\n",
       "      <td>problema erro servidor caro suporte cliente Se...</td>\n",
       "      <td>9</td>\n",
       "    </tr>\n",
       "    <tr>\n",
       "      <th>599</th>\n",
       "      <td>Product Support</td>\n",
       "      <td>de</td>\n",
       "      <td>wiederholtes bildschirmflimmern Problem melden...</td>\n",
       "      <td>1</td>\n",
       "    </tr>\n",
       "  </tbody>\n",
       "</table>\n",
       "<p>600 rows × 4 columns</p>\n",
       "</div>"
      ],
      "text/plain": [
       "                               label language  \\\n",
       "0                   Customer Service       de   \n",
       "1                    Product Support       fr   \n",
       "2              Returns and Exchanges       es   \n",
       "3                    Product Support       fr   \n",
       "4                    Human Resources       pt   \n",
       "..                               ...      ...   \n",
       "595                       IT Support       es   \n",
       "596                Technical Support       es   \n",
       "597                Technical Support       es   \n",
       "598  Service Outages and Maintenance       pt   \n",
       "599                  Product Support       de   \n",
       "\n",
       "                                                  text  numeric_labels  \n",
       "0    Anfrage Spezifikation anpassungsoptionen Macbo...               0  \n",
       "1    connexion fr quente plantage client signal con...               1  \n",
       "2    problema sonido dell xps problema sonido manej...               2  \n",
       "3    assistance requérir configuration tableau scru...               1  \n",
       "4    urgente assist ncia imediato necess rio falha ...               3  \n",
       "..                                                 ...             ...  \n",
       "595  urgente problema conectividad router estimado ...               6  \n",
       "596  necesitar ayuda despliegue nuevo microservicio...               5  \n",
       "597  necesitar soportir urgente estimado soportir c...               5  \n",
       "598  problema erro servidor caro suporte cliente Se...               9  \n",
       "599  wiederholtes bildschirmflimmern Problem melden...               1  \n",
       "\n",
       "[600 rows x 4 columns]"
      ]
     },
     "execution_count": 30,
     "metadata": {},
     "output_type": "execute_result"
    }
   ],
   "source": [
    "text_classification_df"
   ]
  },
  {
   "cell_type": "code",
   "execution_count": 31,
   "id": "5422d848",
   "metadata": {
    "execution": {
     "iopub.execute_input": "2024-11-20T11:57:50.045824Z",
     "iopub.status.busy": "2024-11-20T11:57:50.045430Z",
     "iopub.status.idle": "2024-11-20T11:57:50.080734Z",
     "shell.execute_reply": "2024-11-20T11:57:50.079568Z"
    },
    "papermill": {
     "duration": 0.060217,
     "end_time": "2024-11-20T11:57:50.083141",
     "exception": false,
     "start_time": "2024-11-20T11:57:50.022924",
     "status": "completed"
    },
    "tags": []
   },
   "outputs": [],
   "source": [
    "# text vectorization\n",
    "vectorizer = CountVectorizer()\n",
    "X = vectorizer.fit_transform(text_classification_df['text'])\n",
    "y = text_classification_df['numeric_labels']"
   ]
  },
  {
   "cell_type": "code",
   "execution_count": 32,
   "id": "5f41fd50",
   "metadata": {
    "execution": {
     "iopub.execute_input": "2024-11-20T11:57:50.128588Z",
     "iopub.status.busy": "2024-11-20T11:57:50.127888Z",
     "iopub.status.idle": "2024-11-20T11:57:50.139678Z",
     "shell.execute_reply": "2024-11-20T11:57:50.138604Z"
    },
    "papermill": {
     "duration": 0.037399,
     "end_time": "2024-11-20T11:57:50.141961",
     "exception": false,
     "start_time": "2024-11-20T11:57:50.104562",
     "status": "completed"
    },
    "tags": []
   },
   "outputs": [],
   "source": [
    "# train test split\n",
    "X_train, X_test, y_train, y_test = train_test_split(X, y, test_size=0.3, random_state=42)\n"
   ]
  },
  {
   "cell_type": "code",
   "execution_count": 33,
   "id": "8c6681de",
   "metadata": {
    "execution": {
     "iopub.execute_input": "2024-11-20T11:57:50.186360Z",
     "iopub.status.busy": "2024-11-20T11:57:50.185949Z",
     "iopub.status.idle": "2024-11-20T11:57:51.517931Z",
     "shell.execute_reply": "2024-11-20T11:57:51.515998Z"
    },
    "papermill": {
     "duration": 1.368743,
     "end_time": "2024-11-20T11:57:51.532097",
     "exception": false,
     "start_time": "2024-11-20T11:57:50.163354",
     "status": "completed"
    },
    "tags": []
   },
   "outputs": [
    {
     "data": {
      "text/html": [
       "<style>#sk-container-id-1 {color: black;background-color: white;}#sk-container-id-1 pre{padding: 0;}#sk-container-id-1 div.sk-toggleable {background-color: white;}#sk-container-id-1 label.sk-toggleable__label {cursor: pointer;display: block;width: 100%;margin-bottom: 0;padding: 0.3em;box-sizing: border-box;text-align: center;}#sk-container-id-1 label.sk-toggleable__label-arrow:before {content: \"▸\";float: left;margin-right: 0.25em;color: #696969;}#sk-container-id-1 label.sk-toggleable__label-arrow:hover:before {color: black;}#sk-container-id-1 div.sk-estimator:hover label.sk-toggleable__label-arrow:before {color: black;}#sk-container-id-1 div.sk-toggleable__content {max-height: 0;max-width: 0;overflow: hidden;text-align: left;background-color: #f0f8ff;}#sk-container-id-1 div.sk-toggleable__content pre {margin: 0.2em;color: black;border-radius: 0.25em;background-color: #f0f8ff;}#sk-container-id-1 input.sk-toggleable__control:checked~div.sk-toggleable__content {max-height: 200px;max-width: 100%;overflow: auto;}#sk-container-id-1 input.sk-toggleable__control:checked~label.sk-toggleable__label-arrow:before {content: \"▾\";}#sk-container-id-1 div.sk-estimator input.sk-toggleable__control:checked~label.sk-toggleable__label {background-color: #d4ebff;}#sk-container-id-1 div.sk-label input.sk-toggleable__control:checked~label.sk-toggleable__label {background-color: #d4ebff;}#sk-container-id-1 input.sk-hidden--visually {border: 0;clip: rect(1px 1px 1px 1px);clip: rect(1px, 1px, 1px, 1px);height: 1px;margin: -1px;overflow: hidden;padding: 0;position: absolute;width: 1px;}#sk-container-id-1 div.sk-estimator {font-family: monospace;background-color: #f0f8ff;border: 1px dotted black;border-radius: 0.25em;box-sizing: border-box;margin-bottom: 0.5em;}#sk-container-id-1 div.sk-estimator:hover {background-color: #d4ebff;}#sk-container-id-1 div.sk-parallel-item::after {content: \"\";width: 100%;border-bottom: 1px solid gray;flex-grow: 1;}#sk-container-id-1 div.sk-label:hover label.sk-toggleable__label {background-color: #d4ebff;}#sk-container-id-1 div.sk-serial::before {content: \"\";position: absolute;border-left: 1px solid gray;box-sizing: border-box;top: 0;bottom: 0;left: 50%;z-index: 0;}#sk-container-id-1 div.sk-serial {display: flex;flex-direction: column;align-items: center;background-color: white;padding-right: 0.2em;padding-left: 0.2em;position: relative;}#sk-container-id-1 div.sk-item {position: relative;z-index: 1;}#sk-container-id-1 div.sk-parallel {display: flex;align-items: stretch;justify-content: center;background-color: white;position: relative;}#sk-container-id-1 div.sk-item::before, #sk-container-id-1 div.sk-parallel-item::before {content: \"\";position: absolute;border-left: 1px solid gray;box-sizing: border-box;top: 0;bottom: 0;left: 50%;z-index: -1;}#sk-container-id-1 div.sk-parallel-item {display: flex;flex-direction: column;z-index: 1;position: relative;background-color: white;}#sk-container-id-1 div.sk-parallel-item:first-child::after {align-self: flex-end;width: 50%;}#sk-container-id-1 div.sk-parallel-item:last-child::after {align-self: flex-start;width: 50%;}#sk-container-id-1 div.sk-parallel-item:only-child::after {width: 0;}#sk-container-id-1 div.sk-dashed-wrapped {border: 1px dashed gray;margin: 0 0.4em 0.5em 0.4em;box-sizing: border-box;padding-bottom: 0.4em;background-color: white;}#sk-container-id-1 div.sk-label label {font-family: monospace;font-weight: bold;display: inline-block;line-height: 1.2em;}#sk-container-id-1 div.sk-label-container {text-align: center;}#sk-container-id-1 div.sk-container {/* jupyter's `normalize.less` sets `[hidden] { display: none; }` but bootstrap.min.css set `[hidden] { display: none !important; }` so we also need the `!important` here to be able to override the default hidden behavior on the sphinx rendered scikit-learn.org. See: https://github.com/scikit-learn/scikit-learn/issues/21755 */display: inline-block !important;position: relative;}#sk-container-id-1 div.sk-text-repr-fallback {display: none;}</style><div id=\"sk-container-id-1\" class=\"sk-top-container\"><div class=\"sk-text-repr-fallback\"><pre>LogisticRegression(multi_class=&#x27;multinomial&#x27;)</pre><b>In a Jupyter environment, please rerun this cell to show the HTML representation or trust the notebook. <br />On GitHub, the HTML representation is unable to render, please try loading this page with nbviewer.org.</b></div><div class=\"sk-container\" hidden><div class=\"sk-item\"><div class=\"sk-estimator sk-toggleable\"><input class=\"sk-toggleable__control sk-hidden--visually\" id=\"sk-estimator-id-1\" type=\"checkbox\" checked><label for=\"sk-estimator-id-1\" class=\"sk-toggleable__label sk-toggleable__label-arrow\">LogisticRegression</label><div class=\"sk-toggleable__content\"><pre>LogisticRegression(multi_class=&#x27;multinomial&#x27;)</pre></div></div></div></div></div>"
      ],
      "text/plain": [
       "LogisticRegression(multi_class='multinomial')"
      ]
     },
     "execution_count": 33,
     "metadata": {},
     "output_type": "execute_result"
    }
   ],
   "source": [
    "model = LogisticRegression(multi_class='multinomial', solver='lbfgs')\n",
    "model.fit(X_train, y_train)"
   ]
  },
  {
   "cell_type": "code",
   "execution_count": 34,
   "id": "ae503c4a",
   "metadata": {
    "execution": {
     "iopub.execute_input": "2024-11-20T11:57:51.645528Z",
     "iopub.status.busy": "2024-11-20T11:57:51.644596Z",
     "iopub.status.idle": "2024-11-20T11:57:51.653875Z",
     "shell.execute_reply": "2024-11-20T11:57:51.652877Z"
    },
    "papermill": {
     "duration": 0.033841,
     "end_time": "2024-11-20T11:57:51.656007",
     "exception": false,
     "start_time": "2024-11-20T11:57:51.622166",
     "status": "completed"
    },
    "tags": []
   },
   "outputs": [
    {
     "data": {
      "text/plain": [
       "0.6444444444444445"
      ]
     },
     "execution_count": 34,
     "metadata": {},
     "output_type": "execute_result"
    }
   ],
   "source": [
    "# Make Predictions\n",
    "y_pred = model.predict(X_test)\n",
    "\n",
    "# Evaluate the Model\n",
    "accuracy = accuracy_score(y_test, y_pred)\n",
    "accuracy # since we have unbalanced labels, accuracy is not a good factor"
   ]
  },
  {
   "cell_type": "code",
   "execution_count": 35,
   "id": "301c4a29",
   "metadata": {
    "execution": {
     "iopub.execute_input": "2024-11-20T11:57:51.700184Z",
     "iopub.status.busy": "2024-11-20T11:57:51.699811Z",
     "iopub.status.idle": "2024-11-20T11:57:51.957496Z",
     "shell.execute_reply": "2024-11-20T11:57:51.956396Z"
    },
    "papermill": {
     "duration": 0.282143,
     "end_time": "2024-11-20T11:57:51.959649",
     "exception": false,
     "start_time": "2024-11-20T11:57:51.677506",
     "status": "completed"
    },
    "tags": []
   },
   "outputs": [
    {
     "data": {
      "text/plain": [
       "<Axes: xlabel='numeric_labels'>"
      ]
     },
     "execution_count": 35,
     "metadata": {},
     "output_type": "execute_result"
    },
    {
     "data": {
      "image/png": "[encoded data removed]",
      "text/plain": [
       "<Figure size 640x480 with 1 Axes>"
      ]
     },
     "metadata": {},
     "output_type": "display_data"
    }
   ],
   "source": [
    "text_classification_df['numeric_labels'].value_counts().plot.bar()"
   ]
  },
  {
   "cell_type": "code",
   "execution_count": 36,
   "id": "4817fe4c",
   "metadata": {
    "execution": {
     "iopub.execute_input": "2024-11-20T11:57:52.005241Z",
     "iopub.status.busy": "2024-11-20T11:57:52.004838Z",
     "iopub.status.idle": "2024-11-20T11:57:52.020075Z",
     "shell.execute_reply": "2024-11-20T11:57:52.018793Z"
    },
    "papermill": {
     "duration": 0.040462,
     "end_time": "2024-11-20T11:57:52.022342",
     "exception": false,
     "start_time": "2024-11-20T11:57:51.981880",
     "status": "completed"
    },
    "tags": []
   },
   "outputs": [
    {
     "name": "stdout",
     "output_type": "stream",
     "text": [
      "              precision    recall  f1-score   support\n",
      "\n",
      "           0       0.48      0.62      0.54        16\n",
      "           1       0.54      0.59      0.57        22\n",
      "           2       0.83      0.38      0.53        13\n",
      "           3       1.00      0.40      0.57         5\n",
      "           4       1.00      0.83      0.91        12\n",
      "           5       0.62      0.81      0.71        74\n",
      "           6       0.67      0.37      0.48        27\n",
      "           7       1.00      1.00      1.00         4\n",
      "           8       1.00      1.00      1.00         2\n",
      "           9       0.00      0.00      0.00         5\n",
      "\n",
      "    accuracy                           0.64       180\n",
      "   macro avg       0.71      0.60      0.63       180\n",
      "weighted avg       0.65      0.64      0.63       180\n",
      "\n"
     ]
    }
   ],
   "source": [
    "# For a more detailed report:\n",
    "# Use classification_report to see precision, recall, and F1-score.\n",
    "print(classification_report(y_test, y_pred))"
   ]
  },
  {
   "cell_type": "markdown",
   "id": "6dced901",
   "metadata": {
    "papermill": {
     "duration": 0.021267,
     "end_time": "2024-11-20T11:57:52.065141",
     "exception": false,
     "start_time": "2024-11-20T11:57:52.043874",
     "status": "completed"
    },
    "tags": []
   },
   "source": [
    "for 7 and 8 and 4 the reports are good, as their numbers are less and most of the key metrics are not good, we can say that logistic regression is not an ideal model for multilingual-multiclass text classification\n",
    "weighted avg and accuracy are not good enough"
   ]
  },
  {
   "cell_type": "code",
   "execution_count": 37,
   "id": "e8ac3465",
   "metadata": {
    "execution": {
     "iopub.execute_input": "2024-11-20T11:57:52.110784Z",
     "iopub.status.busy": "2024-11-20T11:57:52.110442Z",
     "iopub.status.idle": "2024-11-20T11:57:52.503366Z",
     "shell.execute_reply": "2024-11-20T11:57:52.502298Z"
    },
    "papermill": {
     "duration": 0.418331,
     "end_time": "2024-11-20T11:57:52.505413",
     "exception": false,
     "start_time": "2024-11-20T11:57:52.087082",
     "status": "completed"
    },
    "tags": []
   },
   "outputs": [
    {
     "data": {
      "image/png": "[encoded data removed]",
      "text/plain": [
       "<Figure size 1000x800 with 1 Axes>"
      ]
     },
     "metadata": {},
     "output_type": "display_data"
    },
    {
     "name": "stdout",
     "output_type": "stream",
     "text": [
      "Weighted Average ROC AUC: 0.85\n"
     ]
    }
   ],
   "source": [
    "# ROC AUC:\n",
    "# Binarize the output for multi-class (10 classes from 0 to 9)\n",
    "from sklearn.preprocessing import label_binarize\n",
    "from sklearn.metrics import roc_auc_score, roc_curve, auc\n",
    "\n",
    "y_test_binarized = label_binarize(y_test, classes=np.arange(10))\n",
    "n_classes = y_test_binarized.shape[1]\n",
    "\n",
    "# Get the predicted probabilities for each class\n",
    "y_score = model.predict_proba(X_test)\n",
    "\n",
    "# Compute ROC curve and AUC for each class\n",
    "fpr = dict()\n",
    "tpr = dict()\n",
    "roc_auc = dict()\n",
    "\n",
    "for i in range(n_classes):\n",
    "    fpr[i], tpr[i], _ = roc_curve(y_test_binarized[:, i], y_score[:, i])\n",
    "    roc_auc[i] = auc(fpr[i], tpr[i])\n",
    "    \n",
    "\n",
    "# Compute micro-average ROC curve and AUC\n",
    "fpr[\"micro\"], tpr[\"micro\"], _ = roc_curve(y_test_binarized.ravel(), y_score.ravel())\n",
    "roc_auc[\"micro\"] = auc(fpr[\"micro\"], tpr[\"micro\"])\n",
    "\n",
    "# Plot ROC curve for each class and the micro-average ROC curve\n",
    "plt.figure(figsize=(10, 8))\n",
    "colors = plt.cm.get_cmap(\"tab10\").colors  # Colors for the classes\n",
    "\n",
    "for i, color in enumerate(colors[:n_classes]):\n",
    "    plt.plot(fpr[i], tpr[i], color=color, lw=2, label=f'Class {i} (area = {roc_auc[i]:0.2f})')\n",
    "\n",
    "# Plot the micro-average ROC curve\n",
    "plt.plot(fpr[\"micro\"], tpr[\"micro\"], color='black', linestyle='--', lw=2, label=f'Micro-average ROC curve (area = {roc_auc[\"micro\"]:0.2f})')\n",
    "\n",
    "plt.plot([0, 1], [0, 1], 'k--', lw=2)  # Random classifier line\n",
    "plt.xlim([0.0, 1.0])\n",
    "plt.ylim([0.0, 1.05])\n",
    "plt.xlabel('False Positive Rate')\n",
    "plt.ylabel('True Positive Rate')\n",
    "plt.title('ROC Curves for Multi-Class Classification')\n",
    "plt.legend(loc=\"lower right\")\n",
    "plt.show()\n",
    "\n",
    "# Calculate and print the weighted-average ROC AUC\n",
    "weighted_roc_auc = roc_auc_score(y_test_binarized, y_score, multi_class=\"ovr\", average=\"weighted\")\n",
    "print(f'Weighted Average ROC AUC: {weighted_roc_auc:.2f}')"
   ]
  },
  {
   "cell_type": "markdown",
   "id": "c9568289",
   "metadata": {
    "papermill": {
     "duration": 0.022896,
     "end_time": "2024-11-20T11:57:52.552463",
     "exception": false,
     "start_time": "2024-11-20T11:57:52.529567",
     "status": "completed"
    },
    "tags": []
   },
   "source": [
    "the roc auc is not too bad. logistic regression can be considered as a model for multilingual multiclass text classification. The weighted average ROC AUC is promising."
   ]
  },
  {
   "cell_type": "markdown",
   "id": "724bd2df",
   "metadata": {
    "papermill": {
     "duration": 0.022669,
     "end_time": "2024-11-20T11:57:52.598363",
     "exception": false,
     "start_time": "2024-11-20T11:57:52.575694",
     "status": "completed"
    },
    "tags": []
   },
   "source": [
    "## LaBSE model"
   ]
  },
  {
   "cell_type": "markdown",
   "id": "1a633e11",
   "metadata": {
    "papermill": {
     "duration": 0.022932,
     "end_time": "2024-11-20T11:57:52.644235",
     "exception": false,
     "start_time": "2024-11-20T11:57:52.621303",
     "status": "completed"
    },
    "tags": []
   },
   "source": [
    "### I decided to use LaBSE model for several reasons:\n",
    "* The model supports 109 languages\n",
    "* The model is trained to generate similar embeddings for bilingual sentence pairs that are translations of each other.\n",
    "\n",
    "### It is pretrained model. I should fine tune the model and train the pretrained model with customer support emails dataset"
   ]
  },
  {
   "cell_type": "code",
   "execution_count": 38,
   "id": "9ec50d4b",
   "metadata": {
    "execution": {
     "iopub.execute_input": "2024-11-20T11:57:52.692204Z",
     "iopub.status.busy": "2024-11-20T11:57:52.691408Z",
     "iopub.status.idle": "2024-11-20T11:58:06.231770Z",
     "shell.execute_reply": "2024-11-20T11:58:06.230673Z"
    },
    "papermill": {
     "duration": 13.566917,
     "end_time": "2024-11-20T11:58:06.234152",
     "exception": false,
     "start_time": "2024-11-20T11:57:52.667235",
     "status": "completed"
    },
    "tags": []
   },
   "outputs": [
    {
     "name": "stderr",
     "output_type": "stream",
     "text": [
      "2024-11-20 11:57:54.932643: E external/local_xla/xla/stream_executor/cuda/cuda_dnn.cc:9261] Unable to register cuDNN factory: Attempting to register factory for plugin cuDNN when one has already been registered\n",
      "2024-11-20 11:57:54.932807: E external/local_xla/xla/stream_executor/cuda/cuda_fft.cc:607] Unable to register cuFFT factory: Attempting to register factory for plugin cuFFT when one has already been registered\n",
      "2024-11-20 11:57:55.090812: E external/local_xla/xla/stream_executor/cuda/cuda_blas.cc:1515] Unable to register cuBLAS factory: Attempting to register factory for plugin cuBLAS when one has already been registered\n"
     ]
    }
   ],
   "source": [
    "# import libraries for the model\n",
    "import tensorflow_hub as hub\n",
    "import tensorflow as tf\n",
    "import tensorflow_text as text  # Needed for loading universal-sentence-encoder-cmlm/multilingual-preprocess\n",
    "from tensorflow.keras.callbacks import EarlyStopping\n",
    "from tensorflow.keras.layers import Dense, Dropout\n",
    "from tensorflow import keras\n",
    "from tensorflow.keras import layers\n",
    "\n"
   ]
  },
  {
   "cell_type": "markdown",
   "id": "1edb7965",
   "metadata": {
    "papermill": {
     "duration": 0.023562,
     "end_time": "2024-11-20T11:58:06.281576",
     "exception": false,
     "start_time": "2024-11-20T11:58:06.258014",
     "status": "completed"
    },
    "tags": []
   },
   "source": [
    "### prepare inputs and their labels"
   ]
  },
  {
   "cell_type": "code",
   "execution_count": 39,
   "id": "adc4f784",
   "metadata": {
    "execution": {
     "iopub.execute_input": "2024-11-20T11:58:06.330695Z",
     "iopub.status.busy": "2024-11-20T11:58:06.329935Z",
     "iopub.status.idle": "2024-11-20T11:58:06.336397Z",
     "shell.execute_reply": "2024-11-20T11:58:06.335389Z"
    },
    "papermill": {
     "duration": 0.03346,
     "end_time": "2024-11-20T11:58:06.338593",
     "exception": false,
     "start_time": "2024-11-20T11:58:06.305133",
     "status": "completed"
    },
    "tags": []
   },
   "outputs": [],
   "source": [
    "labse_df= tickets_df[['subject', 'body', 'queue']]"
   ]
  },
  {
   "cell_type": "code",
   "execution_count": 40,
   "id": "0b42050f",
   "metadata": {
    "execution": {
     "iopub.execute_input": "2024-11-20T11:58:06.387126Z",
     "iopub.status.busy": "2024-11-20T11:58:06.386727Z",
     "iopub.status.idle": "2024-11-20T11:58:06.393248Z",
     "shell.execute_reply": "2024-11-20T11:58:06.392131Z"
    },
    "papermill": {
     "duration": 0.033126,
     "end_time": "2024-11-20T11:58:06.395268",
     "exception": false,
     "start_time": "2024-11-20T11:58:06.362142",
     "status": "completed"
    },
    "tags": []
   },
   "outputs": [],
   "source": [
    "# import ' ' instead of one nan value in the subject\n",
    "labse_df.fillna(' ', inplace=True)"
   ]
  },
  {
   "cell_type": "code",
   "execution_count": 41,
   "id": "b1c2aefc",
   "metadata": {
    "execution": {
     "iopub.execute_input": "2024-11-20T11:58:06.444128Z",
     "iopub.status.busy": "2024-11-20T11:58:06.443697Z",
     "iopub.status.idle": "2024-11-20T11:58:06.457696Z",
     "shell.execute_reply": "2024-11-20T11:58:06.456550Z"
    },
    "papermill": {
     "duration": 0.041076,
     "end_time": "2024-11-20T11:58:06.459971",
     "exception": false,
     "start_time": "2024-11-20T11:58:06.418895",
     "status": "completed"
    },
    "tags": []
   },
   "outputs": [],
   "source": [
    "labse_df['text'] = [labse_df['subject'][i] + '. '+ labse_df['body'][i] for i in range(len(labse_df))]"
   ]
  },
  {
   "cell_type": "code",
   "execution_count": 42,
   "id": "4de7381a",
   "metadata": {
    "execution": {
     "iopub.execute_input": "2024-11-20T11:58:06.508918Z",
     "iopub.status.busy": "2024-11-20T11:58:06.508558Z",
     "iopub.status.idle": "2024-11-20T11:58:06.514627Z",
     "shell.execute_reply": "2024-11-20T11:58:06.513729Z"
    },
    "papermill": {
     "duration": 0.032997,
     "end_time": "2024-11-20T11:58:06.516722",
     "exception": false,
     "start_time": "2024-11-20T11:58:06.483725",
     "status": "completed"
    },
    "tags": []
   },
   "outputs": [],
   "source": [
    "labse_df.drop(['subject', 'body'], inplace=True, axis=1)"
   ]
  },
  {
   "cell_type": "code",
   "execution_count": 43,
   "id": "d71f7995",
   "metadata": {
    "execution": {
     "iopub.execute_input": "2024-11-20T11:58:06.565648Z",
     "iopub.status.busy": "2024-11-20T11:58:06.565279Z",
     "iopub.status.idle": "2024-11-20T11:58:06.570432Z",
     "shell.execute_reply": "2024-11-20T11:58:06.569486Z"
    },
    "papermill": {
     "duration": 0.032123,
     "end_time": "2024-11-20T11:58:06.572454",
     "exception": false,
     "start_time": "2024-11-20T11:58:06.540331",
     "status": "completed"
    },
    "tags": []
   },
   "outputs": [],
   "source": [
    "labse_df.columns=['label', 'text']"
   ]
  },
  {
   "cell_type": "code",
   "execution_count": 44,
   "id": "0c453cee",
   "metadata": {
    "execution": {
     "iopub.execute_input": "2024-11-20T11:58:06.620833Z",
     "iopub.status.busy": "2024-11-20T11:58:06.620445Z",
     "iopub.status.idle": "2024-11-20T11:58:06.631366Z",
     "shell.execute_reply": "2024-11-20T11:58:06.630414Z"
    },
    "papermill": {
     "duration": 0.037571,
     "end_time": "2024-11-20T11:58:06.633240",
     "exception": false,
     "start_time": "2024-11-20T11:58:06.595669",
     "status": "completed"
    },
    "tags": []
   },
   "outputs": [
    {
     "data": {
      "text/html": [
       "<div>\n",
       "<style scoped>\n",
       "    .dataframe tbody tr th:only-of-type {\n",
       "        vertical-align: middle;\n",
       "    }\n",
       "\n",
       "    .dataframe tbody tr th {\n",
       "        vertical-align: top;\n",
       "    }\n",
       "\n",
       "    .dataframe thead th {\n",
       "        text-align: right;\n",
       "    }\n",
       "</style>\n",
       "<table border=\"1\" class=\"dataframe\">\n",
       "  <thead>\n",
       "    <tr style=\"text-align: right;\">\n",
       "      <th></th>\n",
       "      <th>label</th>\n",
       "      <th>text</th>\n",
       "    </tr>\n",
       "  </thead>\n",
       "  <tbody>\n",
       "    <tr>\n",
       "      <th>0</th>\n",
       "      <td>Customer Service</td>\n",
       "      <td>Anfrage zu den Spezifikationen und Anpassungso...</td>\n",
       "    </tr>\n",
       "    <tr>\n",
       "      <th>1</th>\n",
       "      <td>Product Support</td>\n",
       "      <td>Déconnexions fréquentes et plantages. Le clien...</td>\n",
       "    </tr>\n",
       "    <tr>\n",
       "      <th>2</th>\n",
       "      <td>Returns and Exchanges</td>\n",
       "      <td>Problema de sonido Dell XPS. Problema con el s...</td>\n",
       "    </tr>\n",
       "    <tr>\n",
       "      <th>3</th>\n",
       "      <td>Product Support</td>\n",
       "      <td>Assistance requise pour la configuration du ta...</td>\n",
       "    </tr>\n",
       "    <tr>\n",
       "      <th>4</th>\n",
       "      <td>Human Resources</td>\n",
       "      <td>Urgente: Assistência Imediata Necessária para ...</td>\n",
       "    </tr>\n",
       "    <tr>\n",
       "      <th>...</th>\n",
       "      <td>...</td>\n",
       "      <td>...</td>\n",
       "    </tr>\n",
       "    <tr>\n",
       "      <th>595</th>\n",
       "      <td>IT Support</td>\n",
       "      <td>Urgente: Problema de Conectividad del Router. ...</td>\n",
       "    </tr>\n",
       "    <tr>\n",
       "      <th>596</th>\n",
       "      <td>Technical Support</td>\n",
       "      <td>Necesito ayuda con el despliegue de un nuevo m...</td>\n",
       "    </tr>\n",
       "    <tr>\n",
       "      <th>597</th>\n",
       "      <td>Technical Support</td>\n",
       "      <td>Necesito soporte urgente. Estimado soporte al ...</td>\n",
       "    </tr>\n",
       "    <tr>\n",
       "      <th>598</th>\n",
       "      <td>Service Outages and Maintenance</td>\n",
       "      <td>Problema de Erro de Servidor. Caro Suporte ao ...</td>\n",
       "    </tr>\n",
       "    <tr>\n",
       "      <th>599</th>\n",
       "      <td>Product Support</td>\n",
       "      <td>Wiederholtes Bildschirmflimmern Problem gemeld...</td>\n",
       "    </tr>\n",
       "  </tbody>\n",
       "</table>\n",
       "<p>600 rows × 2 columns</p>\n",
       "</div>"
      ],
      "text/plain": [
       "                               label  \\\n",
       "0                   Customer Service   \n",
       "1                    Product Support   \n",
       "2              Returns and Exchanges   \n",
       "3                    Product Support   \n",
       "4                    Human Resources   \n",
       "..                               ...   \n",
       "595                       IT Support   \n",
       "596                Technical Support   \n",
       "597                Technical Support   \n",
       "598  Service Outages and Maintenance   \n",
       "599                  Product Support   \n",
       "\n",
       "                                                  text  \n",
       "0    Anfrage zu den Spezifikationen und Anpassungso...  \n",
       "1    Déconnexions fréquentes et plantages. Le clien...  \n",
       "2    Problema de sonido Dell XPS. Problema con el s...  \n",
       "3    Assistance requise pour la configuration du ta...  \n",
       "4    Urgente: Assistência Imediata Necessária para ...  \n",
       "..                                                 ...  \n",
       "595  Urgente: Problema de Conectividad del Router. ...  \n",
       "596  Necesito ayuda con el despliegue de un nuevo m...  \n",
       "597  Necesito soporte urgente. Estimado soporte al ...  \n",
       "598  Problema de Erro de Servidor. Caro Suporte ao ...  \n",
       "599  Wiederholtes Bildschirmflimmern Problem gemeld...  \n",
       "\n",
       "[600 rows x 2 columns]"
      ]
     },
     "execution_count": 44,
     "metadata": {},
     "output_type": "execute_result"
    }
   ],
   "source": [
    "labse_df"
   ]
  },
  {
   "cell_type": "code",
   "execution_count": 45,
   "id": "0cc2a8bf",
   "metadata": {
    "execution": {
     "iopub.execute_input": "2024-11-20T11:58:06.682781Z",
     "iopub.status.busy": "2024-11-20T11:58:06.682402Z",
     "iopub.status.idle": "2024-11-20T11:58:06.690654Z",
     "shell.execute_reply": "2024-11-20T11:58:06.689610Z"
    },
    "papermill": {
     "duration": 0.035457,
     "end_time": "2024-11-20T11:58:06.692629",
     "exception": false,
     "start_time": "2024-11-20T11:58:06.657172",
     "status": "completed"
    },
    "tags": []
   },
   "outputs": [
    {
     "data": {
      "text/plain": [
       "label\n",
       "Technical Support                  210\n",
       "Product Support                     93\n",
       "Customer Service                    85\n",
       "IT Support                          77\n",
       "Billing and Payments                46\n",
       "Returns and Exchanges               41\n",
       "Human Resources                     15\n",
       "Service Outages and Maintenance     15\n",
       "Sales and Pre-Sales                 13\n",
       "General Inquiry                      5\n",
       "Name: count, dtype: int64"
      ]
     },
     "execution_count": 45,
     "metadata": {},
     "output_type": "execute_result"
    }
   ],
   "source": [
    "labse_df['label'].value_counts()"
   ]
  },
  {
   "cell_type": "code",
   "execution_count": 46,
   "id": "7286c2b5",
   "metadata": {
    "execution": {
     "iopub.execute_input": "2024-11-20T11:58:06.741954Z",
     "iopub.status.busy": "2024-11-20T11:58:06.741180Z",
     "iopub.status.idle": "2024-11-20T11:58:06.750209Z",
     "shell.execute_reply": "2024-11-20T11:58:06.749118Z"
    },
    "papermill": {
     "duration": 0.036147,
     "end_time": "2024-11-20T11:58:06.752276",
     "exception": false,
     "start_time": "2024-11-20T11:58:06.716129",
     "status": "completed"
    },
    "tags": []
   },
   "outputs": [
    {
     "name": "stdout",
     "output_type": "stream",
     "text": [
      "Class distribution:\n",
      " label\n",
      "5    210\n",
      "1     93\n",
      "0     85\n",
      "6     77\n",
      "4     46\n",
      "2     41\n",
      "3     15\n",
      "9     15\n",
      "7     13\n",
      "8      5\n",
      "Name: count, dtype: int64\n"
     ]
    }
   ],
   "source": [
    "\n",
    "# Encode labels to numbers\n",
    "labse_df['label'] = labse_df['label'].map({'Customer Service': 0,\n",
    "       'Product Support':1, 'Returns and Exchanges':2,\n",
    "       'Human Resources':3 , 'Billing and Payments' : 4, 'Technical Support': 5,\n",
    "       'IT Support':6 , 'Sales and Pre-Sales':7 , 'General Inquiry':8 ,\n",
    "       'Service Outages and Maintenance':9 })\n",
    "\n",
    "# Check class distribution\n",
    "class_counts = labse_df['label'].value_counts()\n",
    "print(\"Class distribution:\\n\", class_counts)"
   ]
  },
  {
   "cell_type": "code",
   "execution_count": 47,
   "id": "a506be02",
   "metadata": {
    "execution": {
     "iopub.execute_input": "2024-11-20T11:58:06.801708Z",
     "iopub.status.busy": "2024-11-20T11:58:06.800941Z",
     "iopub.status.idle": "2024-11-20T11:58:06.811002Z",
     "shell.execute_reply": "2024-11-20T11:58:06.809960Z"
    },
    "papermill": {
     "duration": 0.037145,
     "end_time": "2024-11-20T11:58:06.813112",
     "exception": false,
     "start_time": "2024-11-20T11:58:06.775967",
     "status": "completed"
    },
    "tags": []
   },
   "outputs": [
    {
     "data": {
      "text/html": [
       "<div>\n",
       "<style scoped>\n",
       "    .dataframe tbody tr th:only-of-type {\n",
       "        vertical-align: middle;\n",
       "    }\n",
       "\n",
       "    .dataframe tbody tr th {\n",
       "        vertical-align: top;\n",
       "    }\n",
       "\n",
       "    .dataframe thead th {\n",
       "        text-align: right;\n",
       "    }\n",
       "</style>\n",
       "<table border=\"1\" class=\"dataframe\">\n",
       "  <thead>\n",
       "    <tr style=\"text-align: right;\">\n",
       "      <th></th>\n",
       "      <th>label</th>\n",
       "      <th>text</th>\n",
       "    </tr>\n",
       "  </thead>\n",
       "  <tbody>\n",
       "    <tr>\n",
       "      <th>0</th>\n",
       "      <td>0</td>\n",
       "      <td>Anfrage zu den Spezifikationen und Anpassungso...</td>\n",
       "    </tr>\n",
       "    <tr>\n",
       "      <th>1</th>\n",
       "      <td>1</td>\n",
       "      <td>Déconnexions fréquentes et plantages. Le clien...</td>\n",
       "    </tr>\n",
       "    <tr>\n",
       "      <th>2</th>\n",
       "      <td>2</td>\n",
       "      <td>Problema de sonido Dell XPS. Problema con el s...</td>\n",
       "    </tr>\n",
       "    <tr>\n",
       "      <th>3</th>\n",
       "      <td>1</td>\n",
       "      <td>Assistance requise pour la configuration du ta...</td>\n",
       "    </tr>\n",
       "    <tr>\n",
       "      <th>4</th>\n",
       "      <td>3</td>\n",
       "      <td>Urgente: Assistência Imediata Necessária para ...</td>\n",
       "    </tr>\n",
       "    <tr>\n",
       "      <th>...</th>\n",
       "      <td>...</td>\n",
       "      <td>...</td>\n",
       "    </tr>\n",
       "    <tr>\n",
       "      <th>595</th>\n",
       "      <td>6</td>\n",
       "      <td>Urgente: Problema de Conectividad del Router. ...</td>\n",
       "    </tr>\n",
       "    <tr>\n",
       "      <th>596</th>\n",
       "      <td>5</td>\n",
       "      <td>Necesito ayuda con el despliegue de un nuevo m...</td>\n",
       "    </tr>\n",
       "    <tr>\n",
       "      <th>597</th>\n",
       "      <td>5</td>\n",
       "      <td>Necesito soporte urgente. Estimado soporte al ...</td>\n",
       "    </tr>\n",
       "    <tr>\n",
       "      <th>598</th>\n",
       "      <td>9</td>\n",
       "      <td>Problema de Erro de Servidor. Caro Suporte ao ...</td>\n",
       "    </tr>\n",
       "    <tr>\n",
       "      <th>599</th>\n",
       "      <td>1</td>\n",
       "      <td>Wiederholtes Bildschirmflimmern Problem gemeld...</td>\n",
       "    </tr>\n",
       "  </tbody>\n",
       "</table>\n",
       "<p>600 rows × 2 columns</p>\n",
       "</div>"
      ],
      "text/plain": [
       "     label                                               text\n",
       "0        0  Anfrage zu den Spezifikationen und Anpassungso...\n",
       "1        1  Déconnexions fréquentes et plantages. Le clien...\n",
       "2        2  Problema de sonido Dell XPS. Problema con el s...\n",
       "3        1  Assistance requise pour la configuration du ta...\n",
       "4        3  Urgente: Assistência Imediata Necessária para ...\n",
       "..     ...                                                ...\n",
       "595      6  Urgente: Problema de Conectividad del Router. ...\n",
       "596      5  Necesito ayuda con el despliegue de un nuevo m...\n",
       "597      5  Necesito soporte urgente. Estimado soporte al ...\n",
       "598      9  Problema de Erro de Servidor. Caro Suporte ao ...\n",
       "599      1  Wiederholtes Bildschirmflimmern Problem gemeld...\n",
       "\n",
       "[600 rows x 2 columns]"
      ]
     },
     "execution_count": 47,
     "metadata": {},
     "output_type": "execute_result"
    }
   ],
   "source": [
    "labse_df"
   ]
  },
  {
   "cell_type": "code",
   "execution_count": 48,
   "id": "ff33b575",
   "metadata": {
    "execution": {
     "iopub.execute_input": "2024-11-20T11:58:06.863726Z",
     "iopub.status.busy": "2024-11-20T11:58:06.862861Z",
     "iopub.status.idle": "2024-11-20T11:58:06.871690Z",
     "shell.execute_reply": "2024-11-20T11:58:06.870667Z"
    },
    "papermill": {
     "duration": 0.036294,
     "end_time": "2024-11-20T11:58:06.873689",
     "exception": false,
     "start_time": "2024-11-20T11:58:06.837395",
     "status": "completed"
    },
    "tags": []
   },
   "outputs": [
    {
     "data": {
      "text/plain": [
       "'\\n# Input layer\\nmodel_input = tf.keras.layers.Input(shape=(), dtype=tf.string, name=\\'Input\\')\\n\\n# Preprocessor and encoder\\noutputs = encoder(model_input)[\"default\"]\\n\\n# Normalize embeddings\\nnorms = tf.norm(outputs, axis=1, keepdims=True)\\noutputs = outputs / norms\\n\\n# Dense layers\\noutputs = Dense(512, activation=\\'relu\\')(outputs)\\noutputs = Dropout(0.1)(outputs)\\noutputs = Dense(128, activation=\\'relu\\')(outputs)\\noutputs = Dense(10, activation=\\'softmax\\')(outputs)  # 10 classes\\n\\n# Create the model\\nclassifier_model = tf.keras.Model(inputs=text_input, outputs=outputs)'"
      ]
     },
     "execution_count": 48,
     "metadata": {},
     "output_type": "execute_result"
    }
   ],
   "source": [
    "'''def normalization(embeds):\n",
    "    norms = np.linalg.norm(embeds, 2, axis=1, keepdims=True)\n",
    "    return embeds/norms\n",
    "\n",
    "\n",
    "# BERT\n",
    "preprocessor = hub.KerasLayer(\n",
    "    \"https://kaggle.com/models/google/universal-sentence-encoder/TensorFlow2/cmlm-multilingual-preprocess/2\")\n",
    "encoder = hub.KerasLayer(\"https://www.kaggle.com/models/google/labse/TensorFlow2/labse/2\", trainable=False)\n",
    "'''\n",
    "\n",
    "'''def model1():\n",
    "    \n",
    "    text_input = tf.keras.layers.Input(shape=(), dtype=tf.string, name='text')\n",
    "    encoder_inputs = preprocessor(text_input)\n",
    "    outputs = encoder(encoder_inputs)[\"default\"]\n",
    "    outputs = normalization(outputs)\n",
    "    \n",
    "    # Dense layers \n",
    "    outputs = Dense(512, activation='relu')(outputs)\n",
    "    outputs = Dropout(0.2)(outputs)\n",
    "    outputs = Dense(128, activation='relu')(outputs)\n",
    "    outputs = Dense(10, activation='softmax')(outputs)\n",
    "\n",
    "    return tf.keras.Model(text_input, outputs)\n",
    "\n",
    "\n",
    "\n",
    "def model2():\n",
    "    \n",
    "    text_input = tf.keras.layers.Input(shape=(), dtype=tf.string, name='text')\n",
    "    encoder_inputs = preprocessor(text_input)\n",
    "    outputs = encoder(encoder_inputs)\n",
    "\n",
    "    net = outputs['pooled_output']\n",
    "    net = tf.keras.layers.Dropout(0.1)(net)\n",
    "    net = tf.keras.layers.Dense(10, name='softmax')(net)\n",
    "    return tf.keras.Model(text_input, net)\n",
    "'''\n",
    "'''\n",
    "def model():\n",
    "    text_input = tf.keras.layers.Input(shape=(), dtype=tf.string, name='Input')\n",
    "    encoder_inputs = preprocessor(text_input)\n",
    "    outputs = encoder(encoder_inputs)[\"default\"]\n",
    "    outputs = normalization(outputs)\n",
    "\n",
    "    # Dense layers with reduced complexity\n",
    "    outputs = Dense(512, activation='relu')(outputs)\n",
    "    outputs = Dropout(0.1)(outputs)\n",
    "    outputs = Dense(128, activation='relu')(outputs)\n",
    "    outputs = Dense(10, activation='softmax')(outputs)  # 10 classes\n",
    "\n",
    "    return tf.keras.Model(inputs= text_input, outputs= outputs)\n",
    "\n",
    "classifier_model = model()\n",
    "\n",
    "'''\n",
    "'''\n",
    "# Input layer\n",
    "model_input = tf.keras.layers.Input(shape=(), dtype=tf.string, name='Input')\n",
    "\n",
    "# Preprocessor and encoder\n",
    "outputs = encoder(model_input)[\"default\"]\n",
    "\n",
    "# Normalize embeddings\n",
    "norms = tf.norm(outputs, axis=1, keepdims=True)\n",
    "outputs = outputs / norms\n",
    "\n",
    "# Dense layers\n",
    "outputs = Dense(512, activation='relu')(outputs)\n",
    "outputs = Dropout(0.1)(outputs)\n",
    "outputs = Dense(128, activation='relu')(outputs)\n",
    "outputs = Dense(10, activation='softmax')(outputs)  # 10 classes\n",
    "\n",
    "# Create the model\n",
    "classifier_model = tf.keras.Model(inputs=text_input, outputs=outputs)'''"
   ]
  },
  {
   "cell_type": "code",
   "execution_count": 49,
   "id": "7efadeee",
   "metadata": {
    "execution": {
     "iopub.execute_input": "2024-11-20T11:58:06.923560Z",
     "iopub.status.busy": "2024-11-20T11:58:06.922575Z",
     "iopub.status.idle": "2024-11-20T11:58:42.907669Z",
     "shell.execute_reply": "2024-11-20T11:58:42.906583Z"
    },
    "papermill": {
     "duration": 36.012697,
     "end_time": "2024-11-20T11:58:42.910287",
     "exception": false,
     "start_time": "2024-11-20T11:58:06.897590",
     "status": "completed"
    },
    "tags": []
   },
   "outputs": [],
   "source": [
    "def normalization(embeds):\n",
    "    norms = tf.norm(embeds, ord=2, axis=1, keepdims=True)\n",
    "    return embeds / norms\n",
    "\n",
    "\n",
    "\n",
    "class TextClassifier(tf.keras.Model):\n",
    "    def __init__(self, preprocess_url, encoder_url):\n",
    "        super(TextClassifier, self).__init__()\n",
    "        \n",
    "        # Load the preprocessor and encoder\n",
    "        self.preprocess_layer = hub.KerasLayer(preprocess_url)\n",
    "        self.encoder_layer = hub.KerasLayer(encoder_url, trainable=True)\n",
    "        \n",
    "        # Define the classification head explicitly\n",
    "        self.dense1 = Dense(512, activation='relu')\n",
    "        self.dropout = Dropout(0.1)\n",
    "        self.dense2 = Dense(128, activation='relu')\n",
    "        self.output_layer = Dense(10, activation='softmax')\n",
    " \n",
    "    # @tf.function\n",
    "    def call(self, inputs):\n",
    "\n",
    "        # Apply preprocessing\n",
    "        preprocessed_text = self.preprocess_layer(inputs)\n",
    "\n",
    "        # Apply BERT encoder\n",
    "        encoder_outputs = self.encoder_layer(preprocessed_text)[\"default\"]\n",
    "\n",
    "        output = normalization(encoder_outputs)\n",
    "\n",
    "        # Pass through classification head\n",
    "        output = self.dense1(output)\n",
    "        output = self.dropout(output)\n",
    "        output = self.dense2(output)\n",
    "        output = self.output_layer(output)\n",
    "        \n",
    "        return output\n",
    "\n",
    "# Correct TensorFlow Hub URLs\n",
    "#preprocess_url = \"https://kaggle.com/models/google/universal-sentence-encoder/TensorFlow2/cmlm-multilingual-preprocess/2\"\n",
    "#encoder_url = \"https://www.kaggle.com/models/google/labse/TensorFlow2/labse/2\"\n",
    "preprocess_url='https://tfhub.dev/google/universal-sentence-encoder-cmlm/multilingual-preprocess/2'\n",
    "encoder_url='https://tfhub.dev/google/LaBSE/2'\n",
    " \n",
    "# Instantiate the custom model\n",
    "model = TextClassifier(preprocess_url, encoder_url)\n",
    "\n",
    "# Define input shape\n",
    "text_input = tf.keras.layers.Input(shape=(), dtype=tf.string, name='text')\n",
    "\n",
    "# Get model outputs\n",
    "outputs = model(text_input)\n",
    "\n",
    "\n",
    "\n",
    "# Compile the model\n",
    "\n",
    "model.compile(optimizer=tf.keras.optimizers.Adam(learning_rate=0.001),\n",
    "              loss=tf.keras.losses.SparseCategoricalCrossentropy(),  \n",
    "              metrics=['accuracy'])\n"
   ]
  },
  {
   "cell_type": "code",
   "execution_count": 50,
   "id": "873ddc86",
   "metadata": {
    "execution": {
     "iopub.execute_input": "2024-11-20T11:58:42.961324Z",
     "iopub.status.busy": "2024-11-20T11:58:42.960928Z",
     "iopub.status.idle": "2024-11-20T11:58:42.974431Z",
     "shell.execute_reply": "2024-11-20T11:58:42.973515Z"
    },
    "papermill": {
     "duration": 0.041743,
     "end_time": "2024-11-20T11:58:42.976748",
     "exception": false,
     "start_time": "2024-11-20T11:58:42.935005",
     "status": "completed"
    },
    "tags": []
   },
   "outputs": [],
   "source": [
    "\n",
    "# Split the dataset into training and testing sets\n",
    "X_train, X_temp, y_train, y_temp = train_test_split(labse_df['text'], labse_df['label'], test_size=0.3, stratify=labse_df['label'], random_state=42)\n",
    "X_valid, X_test, y_valid, y_test = train_test_split(X_temp, y_temp, test_size=0.5, stratify=y_temp, random_state=42)\n",
    "\n",
    "\n",
    "# Prepare the datasets\n",
    "X_train = tf.constant(X_train.tolist())\n",
    "X_valid = tf.constant(X_valid.tolist())\n",
    "X_test = tf.constant(X_test.tolist())\n",
    "\n"
   ]
  },
  {
   "cell_type": "code",
   "execution_count": 51,
   "id": "86a948fc",
   "metadata": {
    "execution": {
     "iopub.execute_input": "2024-11-20T11:58:43.034638Z",
     "iopub.status.busy": "2024-11-20T11:58:43.033808Z",
     "iopub.status.idle": "2024-11-20T11:58:43.039105Z",
     "shell.execute_reply": "2024-11-20T11:58:43.037995Z"
    },
    "papermill": {
     "duration": 0.034734,
     "end_time": "2024-11-20T11:58:43.042567",
     "exception": false,
     "start_time": "2024-11-20T11:58:43.007833",
     "status": "completed"
    },
    "tags": []
   },
   "outputs": [
    {
     "name": "stdout",
     "output_type": "stream",
     "text": [
      "(90,)\n",
      "(90,)\n"
     ]
    }
   ],
   "source": [
    "print(X_valid.shape)\n",
    "print(y_valid.shape)"
   ]
  },
  {
   "cell_type": "code",
   "execution_count": 52,
   "id": "7863cae3",
   "metadata": {
    "execution": {
     "iopub.execute_input": "2024-11-20T11:58:43.095631Z",
     "iopub.status.busy": "2024-11-20T11:58:43.095279Z",
     "iopub.status.idle": "2024-11-20T12:44:35.630728Z",
     "shell.execute_reply": "2024-11-20T12:44:35.629060Z"
    },
    "papermill": {
     "duration": 2752.565327,
     "end_time": "2024-11-20T12:44:35.633431",
     "exception": false,
     "start_time": "2024-11-20T11:58:43.068104",
     "status": "completed"
    },
    "tags": []
   },
   "outputs": [
    {
     "name": "stdout",
     "output_type": "stream",
     "text": [
      "Epoch 1/20\n",
      "\u001b[1m7/7\u001b[0m \u001b[32m━━━━━━━━━━━━━━━━━━━━\u001b[0m\u001b[37m\u001b[0m \u001b[1m137s\u001b[0m 18s/step - accuracy: 0.2430 - loss: 2.2166 - val_accuracy: 0.3444 - val_loss: 1.8937\n",
      "Epoch 2/20\n",
      "\u001b[1m7/7\u001b[0m \u001b[32m━━━━━━━━━━━━━━━━━━━━\u001b[0m\u001b[37m\u001b[0m \u001b[1m128s\u001b[0m 19s/step - accuracy: 0.3536 - loss: 1.8266 - val_accuracy: 0.3444 - val_loss: 1.7456\n",
      "Epoch 3/20\n",
      "\u001b[1m7/7\u001b[0m \u001b[32m━━━━━━━━━━━━━━━━━━━━\u001b[0m\u001b[37m\u001b[0m \u001b[1m128s\u001b[0m 19s/step - accuracy: 0.3572 - loss: 1.7075 - val_accuracy: 0.3556 - val_loss: 1.6358\n",
      "Epoch 4/20\n",
      "\u001b[1m7/7\u001b[0m \u001b[32m━━━━━━━━━━━━━━━━━━━━\u001b[0m\u001b[37m\u001b[0m \u001b[1m137s\u001b[0m 18s/step - accuracy: 0.4494 - loss: 1.5175 - val_accuracy: 0.3889 - val_loss: 1.5378\n",
      "Epoch 5/20\n",
      "\u001b[1m7/7\u001b[0m \u001b[32m━━━━━━━━━━━━━━━━━━━━\u001b[0m\u001b[37m\u001b[0m \u001b[1m140s\u001b[0m 21s/step - accuracy: 0.5289 - loss: 1.3579 - val_accuracy: 0.5111 - val_loss: 1.4150\n",
      "Epoch 6/20\n",
      "\u001b[1m7/7\u001b[0m \u001b[32m━━━━━━━━━━━━━━━━━━━━\u001b[0m\u001b[37m\u001b[0m \u001b[1m127s\u001b[0m 18s/step - accuracy: 0.5946 - loss: 1.2357 - val_accuracy: 0.5111 - val_loss: 1.3020\n",
      "Epoch 7/20\n",
      "\u001b[1m7/7\u001b[0m \u001b[32m━━━━━━━━━━━━━━━━━━━━\u001b[0m\u001b[37m\u001b[0m \u001b[1m126s\u001b[0m 18s/step - accuracy: 0.6072 - loss: 1.1303 - val_accuracy: 0.5333 - val_loss: 1.1804\n",
      "Epoch 8/20\n",
      "\u001b[1m7/7\u001b[0m \u001b[32m━━━━━━━━━━━━━━━━━━━━\u001b[0m\u001b[37m\u001b[0m \u001b[1m126s\u001b[0m 18s/step - accuracy: 0.6509 - loss: 1.0022 - val_accuracy: 0.6000 - val_loss: 1.0658\n",
      "Epoch 9/20\n",
      "\u001b[1m7/7\u001b[0m \u001b[32m━━━━━━━━━━━━━━━━━━━━\u001b[0m\u001b[37m\u001b[0m \u001b[1m141s\u001b[0m 18s/step - accuracy: 0.6982 - loss: 0.8716 - val_accuracy: 0.6222 - val_loss: 0.9751\n",
      "Epoch 10/20\n",
      "\u001b[1m7/7\u001b[0m \u001b[32m━━━━━━━━━━━━━━━━━━━━\u001b[0m\u001b[37m\u001b[0m \u001b[1m169s\u001b[0m 22s/step - accuracy: 0.7927 - loss: 0.7624 - val_accuracy: 0.6111 - val_loss: 0.9019\n",
      "Epoch 11/20\n",
      "\u001b[1m7/7\u001b[0m \u001b[32m━━━━━━━━━━━━━━━━━━━━\u001b[0m\u001b[37m\u001b[0m \u001b[1m146s\u001b[0m 22s/step - accuracy: 0.7609 - loss: 0.6777 - val_accuracy: 0.6889 - val_loss: 0.8152\n",
      "Epoch 12/20\n",
      "\u001b[1m7/7\u001b[0m \u001b[32m━━━━━━━━━━━━━━━━━━━━\u001b[0m\u001b[37m\u001b[0m \u001b[1m127s\u001b[0m 18s/step - accuracy: 0.7907 - loss: 0.6142 - val_accuracy: 0.7444 - val_loss: 0.7432\n",
      "Epoch 13/20\n",
      "\u001b[1m7/7\u001b[0m \u001b[32m━━━━━━━━━━━━━━━━━━━━\u001b[0m\u001b[37m\u001b[0m \u001b[1m143s\u001b[0m 18s/step - accuracy: 0.8766 - loss: 0.5087 - val_accuracy: 0.7333 - val_loss: 0.6910\n",
      "Epoch 14/20\n",
      "\u001b[1m7/7\u001b[0m \u001b[32m━━━━━━━━━━━━━━━━━━━━\u001b[0m\u001b[37m\u001b[0m \u001b[1m145s\u001b[0m 22s/step - accuracy: 0.8783 - loss: 0.4704 - val_accuracy: 0.7556 - val_loss: 0.6325\n",
      "Epoch 15/20\n",
      "\u001b[1m7/7\u001b[0m \u001b[32m━━━━━━━━━━━━━━━━━━━━\u001b[0m\u001b[37m\u001b[0m \u001b[1m125s\u001b[0m 18s/step - accuracy: 0.9163 - loss: 0.4112 - val_accuracy: 0.7778 - val_loss: 0.5894\n",
      "Epoch 16/20\n",
      "\u001b[1m7/7\u001b[0m \u001b[32m━━━━━━━━━━━━━━━━━━━━\u001b[0m\u001b[37m\u001b[0m \u001b[1m145s\u001b[0m 22s/step - accuracy: 0.9005 - loss: 0.3916 - val_accuracy: 0.8222 - val_loss: 0.5020\n",
      "Epoch 17/20\n",
      "\u001b[1m7/7\u001b[0m \u001b[32m━━━━━━━━━━━━━━━━━━━━\u001b[0m\u001b[37m\u001b[0m \u001b[1m145s\u001b[0m 21s/step - accuracy: 0.9518 - loss: 0.3005 - val_accuracy: 0.9000 - val_loss: 0.4608\n",
      "Epoch 18/20\n",
      "\u001b[1m7/7\u001b[0m \u001b[32m━━━━━━━━━━━━━━━━━━━━\u001b[0m\u001b[37m\u001b[0m \u001b[1m146s\u001b[0m 22s/step - accuracy: 0.9659 - loss: 0.2692 - val_accuracy: 0.9111 - val_loss: 0.4141\n",
      "Epoch 19/20\n",
      "\u001b[1m7/7\u001b[0m \u001b[32m━━━━━━━━━━━━━━━━━━━━\u001b[0m\u001b[37m\u001b[0m \u001b[1m145s\u001b[0m 22s/step - accuracy: 0.9808 - loss: 0.2276 - val_accuracy: 0.9222 - val_loss: 0.3587\n",
      "Epoch 20/20\n",
      "\u001b[1m7/7\u001b[0m \u001b[32m━━━━━━━━━━━━━━━━━━━━\u001b[0m\u001b[37m\u001b[0m \u001b[1m126s\u001b[0m 18s/step - accuracy: 0.9775 - loss: 0.2182 - val_accuracy: 0.9556 - val_loss: 0.3460\n"
     ]
    },
    {
     "data": {
      "image/png": "[encoded data removed]",
      "text/plain": [
       "<Figure size 1400x500 with 2 Axes>"
      ]
     },
     "metadata": {},
     "output_type": "display_data"
    }
   ],
   "source": [
    "\n",
    "\n",
    "# Set up early stopping to avoid overfitting\n",
    "early_stopping = EarlyStopping(monitor='val_loss', patience=3, restore_best_weights=True)\n",
    "\n",
    "\n",
    " \n",
    "history = model.fit(X_train, y_train,\n",
    "                    epochs=20,\n",
    "                    batch_size=64,\n",
    "                    validation_data=(X_valid, y_valid),\n",
    "                    callbacks=[early_stopping]) \n",
    "\n",
    "\n",
    "\n",
    "# Plotting the training history\n",
    "def plot_history(history):\n",
    "    # Plot training & validation accuracy values\n",
    "    plt.figure(figsize=(14, 5))\n",
    "    \n",
    "    # Accuracy plot\n",
    "    plt.subplot(1, 2, 1)\n",
    "    plt.plot(history.history['accuracy'], label='Train Accuracy')\n",
    "    plt.plot(history.history['val_accuracy'], label='Validation Accuracy')\n",
    "    plt.title('Model Accuracy')\n",
    "    plt.ylabel('Accuracy')\n",
    "    plt.xlabel('Epoch')\n",
    "    plt.legend(loc='lower right')\n",
    "    \n",
    "    # Loss plot\n",
    "    plt.subplot(1, 2, 2)\n",
    "    plt.plot(history.history['loss'], label='Train Loss')\n",
    "    plt.plot(history.history['val_loss'], label='Validation Loss')\n",
    "    plt.title('Model Loss')\n",
    "    plt.ylabel('Loss')\n",
    "    plt.xlabel('Epoch')\n",
    "    plt.legend(loc='upper right')\n",
    "    \n",
    "    plt.tight_layout()\n",
    "    plt.show()\n",
    "\n",
    "# Call the function to plot the history\n",
    "plot_history(history)"
   ]
  },
  {
   "cell_type": "code",
   "execution_count": 53,
   "id": "38364c2c",
   "metadata": {
    "execution": {
     "iopub.execute_input": "2024-11-20T12:44:35.706356Z",
     "iopub.status.busy": "2024-11-20T12:44:35.705959Z",
     "iopub.status.idle": "2024-11-20T12:44:58.671818Z",
     "shell.execute_reply": "2024-11-20T12:44:58.670671Z"
    },
    "papermill": {
     "duration": 23.005668,
     "end_time": "2024-11-20T12:44:58.674391",
     "exception": false,
     "start_time": "2024-11-20T12:44:35.668723",
     "status": "completed"
    },
    "tags": []
   },
   "outputs": [
    {
     "name": "stdout",
     "output_type": "stream",
     "text": [
      "\u001b[1m3/3\u001b[0m \u001b[32m━━━━━━━━━━━━━━━━━━━━\u001b[0m\u001b[37m\u001b[0m \u001b[1m23s\u001b[0m 7s/step\n"
     ]
    }
   ],
   "source": [
    "y_pred = model.predict(X_test)  "
   ]
  },
  {
   "cell_type": "code",
   "execution_count": 54,
   "id": "a49e00c9",
   "metadata": {
    "execution": {
     "iopub.execute_input": "2024-11-20T12:44:58.747340Z",
     "iopub.status.busy": "2024-11-20T12:44:58.746963Z",
     "iopub.status.idle": "2024-11-20T12:44:58.752086Z",
     "shell.execute_reply": "2024-11-20T12:44:58.751039Z"
    },
    "papermill": {
     "duration": 0.044303,
     "end_time": "2024-11-20T12:44:58.754289",
     "exception": false,
     "start_time": "2024-11-20T12:44:58.709986",
     "status": "completed"
    },
    "tags": []
   },
   "outputs": [],
   "source": [
    "y_pred = np.argmax(y_pred, axis = 1)"
   ]
  },
  {
   "cell_type": "code",
   "execution_count": 55,
   "id": "0401235f",
   "metadata": {
    "execution": {
     "iopub.execute_input": "2024-11-20T12:44:58.828380Z",
     "iopub.status.busy": "2024-11-20T12:44:58.827951Z",
     "iopub.status.idle": "2024-11-20T12:44:58.835416Z",
     "shell.execute_reply": "2024-11-20T12:44:58.834449Z"
    },
    "papermill": {
     "duration": 0.046541,
     "end_time": "2024-11-20T12:44:58.837371",
     "exception": false,
     "start_time": "2024-11-20T12:44:58.790830",
     "status": "completed"
    },
    "tags": []
   },
   "outputs": [
    {
     "data": {
      "text/plain": [
       "array([5, 5, 8, 0, 1, 0, 5, 1, 1, 4, 5, 2, 5, 7, 0, 5, 6, 6, 1, 0, 6, 5,\n",
       "       0, 5, 5, 5, 5, 6, 5, 2, 4, 0, 5, 2, 5, 5, 5, 3, 4, 1, 5, 5, 5, 2,\n",
       "       5, 1, 6, 1, 5, 5, 6, 0, 0, 6, 6, 1, 5, 9, 0, 5, 5, 4, 5, 9, 3, 6,\n",
       "       5, 5, 1, 4, 4, 5, 5, 2, 5, 1, 1, 0, 7, 1, 0, 2, 4, 5, 0, 5, 0, 0,\n",
       "       5, 1])"
      ]
     },
     "execution_count": 55,
     "metadata": {},
     "output_type": "execute_result"
    }
   ],
   "source": [
    "y_pred"
   ]
  },
  {
   "cell_type": "code",
   "execution_count": 56,
   "id": "acfb21ea",
   "metadata": {
    "execution": {
     "iopub.execute_input": "2024-11-20T12:44:58.910711Z",
     "iopub.status.busy": "2024-11-20T12:44:58.910377Z",
     "iopub.status.idle": "2024-11-20T12:44:58.926218Z",
     "shell.execute_reply": "2024-11-20T12:44:58.924891Z"
    },
    "papermill": {
     "duration": 0.055107,
     "end_time": "2024-11-20T12:44:58.928414",
     "exception": false,
     "start_time": "2024-11-20T12:44:58.873307",
     "status": "completed"
    },
    "tags": []
   },
   "outputs": [
    {
     "name": "stdout",
     "output_type": "stream",
     "text": [
      "              precision    recall  f1-score   support\n",
      "\n",
      "           0       0.93      1.00      0.96        13\n",
      "           1       0.85      0.79      0.81        14\n",
      "           2       1.00      1.00      1.00         6\n",
      "           3       1.00      1.00      1.00         2\n",
      "           4       1.00      1.00      1.00         7\n",
      "           5       0.85      0.91      0.88        32\n",
      "           6       1.00      0.82      0.90        11\n",
      "           7       1.00      1.00      1.00         2\n",
      "           8       1.00      1.00      1.00         1\n",
      "           9       1.00      1.00      1.00         2\n",
      "\n",
      "    accuracy                           0.91        90\n",
      "   macro avg       0.96      0.95      0.96        90\n",
      "weighted avg       0.91      0.91      0.91        90\n",
      "\n"
     ]
    }
   ],
   "source": [
    "# For a more detailed report on LaBSE model:\n",
    "# Use classification_report to see precision, recall, and F1-score.\n",
    "print(classification_report(y_test, y_pred))"
   ]
  },
  {
   "cell_type": "markdown",
   "id": "a8a0f885",
   "metadata": {
    "papermill": {
     "duration": 0.035593,
     "end_time": "2024-11-20T12:44:58.999703",
     "exception": false,
     "start_time": "2024-11-20T12:44:58.964110",
     "status": "completed"
    },
    "tags": []
   },
   "source": [
    "### with using LaBSE model we achieved accuracy = 0.92 in comparison with accuracy from logesticregression model that was 0.64 it is really good"
   ]
  },
  {
   "cell_type": "markdown",
   "id": "c4535af8",
   "metadata": {
    "papermill": {
     "duration": 0.035498,
     "end_time": "2024-11-20T12:44:59.071465",
     "exception": false,
     "start_time": "2024-11-20T12:44:59.035967",
     "status": "completed"
    },
    "tags": []
   },
   "source": []
  },
  {
   "cell_type": "code",
   "execution_count": null,
   "id": "b471a12f",
   "metadata": {
    "papermill": {
     "duration": 0.035779,
     "end_time": "2024-11-20T12:44:59.142964",
     "exception": false,
     "start_time": "2024-11-20T12:44:59.107185",
     "status": "completed"
    },
    "tags": []
   },
   "outputs": [],
   "source": []
  }
 ],
 "metadata": {
  "kaggle": {
   "accelerator": "none",
   "dataSources": [
    {
     "datasetId": 5268504,
     "sourceId": 9077862,
     "sourceType": "datasetVersion"
    },
    {
     "modelId": 129,
     "modelInstanceId": 981,
     "sourceId": 1134,
     "sourceType": "modelInstanceVersion"
    },
    {
     "modelId": 129,
     "modelInstanceId": 981,
     "sourceId": 1135,
     "sourceType": "modelInstanceVersion"
    },
    {
     "modelId": 191,
     "modelInstanceId": 1286,
     "sourceId": 1527,
     "sourceType": "modelInstanceVersion"
    }
   ],
   "dockerImageVersionId": 30746,
   "isGpuEnabled": false,
   "isInternetEnabled": true,
   "language": "python",
   "sourceType": "notebook"
  },
  "kernelspec": {
   "display_name": "Python 3",
   "language": "python",
   "name": "python3"
  },
  "language_info": {
   "codemirror_mode": {
    "name": "ipython",
    "version": 3
   },
   "file_extension": ".py",
   "mimetype": "text/x-python",
   "name": "python",
   "nbconvert_exporter": "python",
   "pygments_lexer": "ipython3",
   "version": "3.10.13"
  },
  "papermill": {
   "default_parameters": {},
   "duration": 2998.023149,
   "end_time": "2024-11-20T12:45:02.593590",
   "environment_variables": {},
   "exception": null,
   "input_path": "__notebook__.ipynb",
   "output_path": "__notebook__.ipynb",
   "parameters": {},
   "start_time": "2024-11-20T11:55:04.570441",
   "version": "2.5.0"
  }
 },
 "nbformat": 4,
 "nbformat_minor": 5
}
